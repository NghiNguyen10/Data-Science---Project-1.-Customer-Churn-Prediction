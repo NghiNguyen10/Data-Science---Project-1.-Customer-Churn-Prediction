{
 "cells": [
  {
   "cell_type": "markdown",
   "metadata": {},
   "source": [
    "# Project 1. Customer Churn Prediction.\n",
    "This project considers a prediction problem arising at a mobile phone operator AT with regard\n",
    "to customer churn, customer who leave a company for others. Predictive models are built to help the\n",
    "company AT predict the customer churn. The solution includes the developing a full predictive data\n",
    "analytics solution to this business problem. Based on the nature of the data, two methodologies, Multivariate Logistic Regression and Iterative Dichotomiser 3 algorithms, are employed to build modelsto solve\n",
    "the problem using Python. The two models are compared with respect to their performance such as the\n",
    "accuracy before improvement and after improvement to help the manager of AT to reduce the customer\n",
    "churn. Six steps of CRISP-DM are implemented to achieve the solution. The six steps are Business\n",
    "Understanding, Data Understanding, Data Preparation, Modeling, Evaluation, and Deployment. Initial\n",
    "findings show promising results as the models achieved reasonable accuracies to predict the churn."
   ]
  },
  {
   "cell_type": "markdown",
   "metadata": {},
   "source": [
    "### Import Libraries as needed"
   ]
  },
  {
   "cell_type": "code",
   "execution_count": 1,
   "metadata": {},
   "outputs": [],
   "source": [
    "import pandas as pd               # Data processing, CSV file I/O (pd.read_CSV)\n",
    "import numpy as np                # Linear algebra\n",
    "import matplotlib.pyplot as plt   # Data visualization\n",
    "import seaborn as sns             # Statistical data visualization\n",
    "%matplotlib inline \n",
    "\n",
    "from sklearn.linear_model import LinearRegression\n",
    "from sklearn.tree import DecisionTreeClassifier"
   ]
  },
  {
   "cell_type": "code",
   "execution_count": 2,
   "metadata": {},
   "outputs": [],
   "source": [
    "import warnings\n",
    "warnings.filterwarnings('ignore')"
   ]
  },
  {
   "cell_type": "markdown",
   "metadata": {},
   "source": [
    "### Read the dataset into Notebook"
   ]
  },
  {
   "cell_type": "code",
   "execution_count": 3,
   "metadata": {},
   "outputs": [],
   "source": [
    "data = 'ChurnCustomer.csv'\n",
    "df = pd.read_csv(data)"
   ]
  },
  {
   "cell_type": "markdown",
   "metadata": {},
   "source": [
    "# Section 1. Performing Exploratory Data Analysis (EDA)"
   ]
  },
  {
   "cell_type": "code",
   "execution_count": 4,
   "metadata": {},
   "outputs": [
    {
     "data": {
      "text/plain": [
       "(10000, 33)"
      ]
     },
     "execution_count": 4,
     "metadata": {},
     "output_type": "execute_result"
    }
   ],
   "source": [
    "# View the dimension of dataset\n",
    "df.shape"
   ]
  },
  {
   "cell_type": "code",
   "execution_count": 5,
   "metadata": {},
   "outputs": [
    {
     "data": {
      "text/html": [
       "<div>\n",
       "<style scoped>\n",
       "    .dataframe tbody tr th:only-of-type {\n",
       "        vertical-align: middle;\n",
       "    }\n",
       "\n",
       "    .dataframe tbody tr th {\n",
       "        vertical-align: top;\n",
       "    }\n",
       "\n",
       "    .dataframe thead th {\n",
       "        text-align: right;\n",
       "    }\n",
       "</style>\n",
       "<table border=\"1\" class=\"dataframe\">\n",
       "  <thead>\n",
       "    <tr style=\"text-align: right;\">\n",
       "      <th></th>\n",
       "      <th>customer</th>\n",
       "      <th>age</th>\n",
       "      <th>occupation</th>\n",
       "      <th>regionType</th>\n",
       "      <th>marriageStatus</th>\n",
       "      <th>children</th>\n",
       "      <th>income</th>\n",
       "      <th>numHandsets</th>\n",
       "      <th>handsetAge</th>\n",
       "      <th>smartPhone</th>\n",
       "      <th>...</th>\n",
       "      <th>avgInCalls</th>\n",
       "      <th>peakOffPeakRatio</th>\n",
       "      <th>peakOffPeakRatioChangePct</th>\n",
       "      <th>avgDroppedCalls</th>\n",
       "      <th>lifeTime</th>\n",
       "      <th>lastMonthCustomerCareCalls</th>\n",
       "      <th>numRetentionCalls</th>\n",
       "      <th>numRetentionOffersAccepted</th>\n",
       "      <th>newFrequentNumbers</th>\n",
       "      <th>churn</th>\n",
       "    </tr>\n",
       "  </thead>\n",
       "  <tbody>\n",
       "    <tr>\n",
       "      <th>0</th>\n",
       "      <td>1000004</td>\n",
       "      <td>26</td>\n",
       "      <td>crafts</td>\n",
       "      <td>town</td>\n",
       "      <td>yes</td>\n",
       "      <td>true</td>\n",
       "      <td>6</td>\n",
       "      <td>1</td>\n",
       "      <td>1812</td>\n",
       "      <td>false</td>\n",
       "      <td>...</td>\n",
       "      <td>0.00</td>\n",
       "      <td>0.362398</td>\n",
       "      <td>-6.330770</td>\n",
       "      <td>0.00</td>\n",
       "      <td>60</td>\n",
       "      <td>0.00</td>\n",
       "      <td>0</td>\n",
       "      <td>0</td>\n",
       "      <td>0</td>\n",
       "      <td>false</td>\n",
       "    </tr>\n",
       "    <tr>\n",
       "      <th>1</th>\n",
       "      <td>1000012</td>\n",
       "      <td>36</td>\n",
       "      <td></td>\n",
       "      <td></td>\n",
       "      <td>yes</td>\n",
       "      <td>true</td>\n",
       "      <td>9</td>\n",
       "      <td>4</td>\n",
       "      <td>544</td>\n",
       "      <td>true</td>\n",
       "      <td>...</td>\n",
       "      <td>1.67</td>\n",
       "      <td>5.586826</td>\n",
       "      <td>7.499560</td>\n",
       "      <td>0.00</td>\n",
       "      <td>53</td>\n",
       "      <td>0.00</td>\n",
       "      <td>0</td>\n",
       "      <td>0</td>\n",
       "      <td>0</td>\n",
       "      <td>false</td>\n",
       "    </tr>\n",
       "    <tr>\n",
       "      <th>2</th>\n",
       "      <td>1000034</td>\n",
       "      <td>74</td>\n",
       "      <td>professional</td>\n",
       "      <td>town</td>\n",
       "      <td>yes</td>\n",
       "      <td>false</td>\n",
       "      <td>7</td>\n",
       "      <td>2</td>\n",
       "      <td>138</td>\n",
       "      <td>true</td>\n",
       "      <td>...</td>\n",
       "      <td>0.33</td>\n",
       "      <td>0.500000</td>\n",
       "      <td>-5.940493</td>\n",
       "      <td>4.33</td>\n",
       "      <td>58</td>\n",
       "      <td>0.00</td>\n",
       "      <td>0</td>\n",
       "      <td>0</td>\n",
       "      <td>3</td>\n",
       "      <td>false</td>\n",
       "    </tr>\n",
       "    <tr>\n",
       "      <th>3</th>\n",
       "      <td>1000063</td>\n",
       "      <td>30</td>\n",
       "      <td></td>\n",
       "      <td>suburban</td>\n",
       "      <td>no</td>\n",
       "      <td>false</td>\n",
       "      <td>6</td>\n",
       "      <td>3</td>\n",
       "      <td>122</td>\n",
       "      <td>true</td>\n",
       "      <td>...</td>\n",
       "      <td>4.67</td>\n",
       "      <td>8.629661</td>\n",
       "      <td>-0.066485</td>\n",
       "      <td>5.33</td>\n",
       "      <td>50</td>\n",
       "      <td>0.33</td>\n",
       "      <td>0</td>\n",
       "      <td>0</td>\n",
       "      <td>0</td>\n",
       "      <td>false</td>\n",
       "    </tr>\n",
       "    <tr>\n",
       "      <th>4</th>\n",
       "      <td>1000085</td>\n",
       "      <td>32</td>\n",
       "      <td></td>\n",
       "      <td>town</td>\n",
       "      <td>yes</td>\n",
       "      <td>false</td>\n",
       "      <td>7</td>\n",
       "      <td>8</td>\n",
       "      <td>10</td>\n",
       "      <td>true</td>\n",
       "      <td>...</td>\n",
       "      <td>23.00</td>\n",
       "      <td>14.042685</td>\n",
       "      <td>-7.208502</td>\n",
       "      <td>14.67</td>\n",
       "      <td>56</td>\n",
       "      <td>0.00</td>\n",
       "      <td>0</td>\n",
       "      <td>0</td>\n",
       "      <td>0</td>\n",
       "      <td>false</td>\n",
       "    </tr>\n",
       "  </tbody>\n",
       "</table>\n",
       "<p>5 rows × 33 columns</p>\n",
       "</div>"
      ],
      "text/plain": [
       "   customer  age     occupation regionType marriageStatus children  income  \\\n",
       "0   1000004   26         crafts       town            yes     true       6   \n",
       "1   1000012   36                                      yes     true       9   \n",
       "2   1000034   74   professional       town            yes    false       7   \n",
       "3   1000063   30                  suburban             no    false       6   \n",
       "4   1000085   32                      town            yes    false       7   \n",
       "\n",
       "   numHandsets  handsetAge smartPhone  ...  avgInCalls peakOffPeakRatio  \\\n",
       "0            1        1812      false  ...        0.00         0.362398   \n",
       "1            4         544       true  ...        1.67         5.586826   \n",
       "2            2         138       true  ...        0.33         0.500000   \n",
       "3            3         122       true  ...        4.67         8.629661   \n",
       "4            8          10       true  ...       23.00        14.042685   \n",
       "\n",
       "  peakOffPeakRatioChangePct avgDroppedCalls  lifeTime  \\\n",
       "0                 -6.330770            0.00        60   \n",
       "1                  7.499560            0.00        53   \n",
       "2                 -5.940493            4.33        58   \n",
       "3                 -0.066485            5.33        50   \n",
       "4                 -7.208502           14.67        56   \n",
       "\n",
       "   lastMonthCustomerCareCalls  numRetentionCalls  numRetentionOffersAccepted  \\\n",
       "0                        0.00                  0                           0   \n",
       "1                        0.00                  0                           0   \n",
       "2                        0.00                  0                           0   \n",
       "3                        0.33                  0                           0   \n",
       "4                        0.00                  0                           0   \n",
       "\n",
       "   newFrequentNumbers   churn  \n",
       "0                   0   false  \n",
       "1                   0   false  \n",
       "2                   3   false  \n",
       "3                   0   false  \n",
       "4                   0   false  \n",
       "\n",
       "[5 rows x 33 columns]"
      ]
     },
     "execution_count": 5,
     "metadata": {},
     "output_type": "execute_result"
    }
   ],
   "source": [
    "# Preview the dataset\n",
    "\n",
    "df.head()"
   ]
  },
  {
   "cell_type": "code",
   "execution_count": 6,
   "metadata": {},
   "outputs": [
    {
     "data": {
      "text/plain": [
       "Index(['customer', 'age', 'occupation', 'regionType', 'marriageStatus',\n",
       "       'children', 'income', 'numHandsets', 'handsetAge', 'smartPhone',\n",
       "       'currentHandsetPrice', 'creditRating', 'homeOwner', 'creditCard',\n",
       "       'avgBill', 'avgMins', 'avgrecurringCharge', 'avgOverBundleMins',\n",
       "       'avgRoamCalls', 'callMinutesChangePct', 'billAmountChangePct',\n",
       "       'avgReceivedMins', 'avgOutCalls', 'avgInCalls', 'peakOffPeakRatio',\n",
       "       'peakOffPeakRatioChangePct', 'avgDroppedCalls', 'lifeTime',\n",
       "       'lastMonthCustomerCareCalls', 'numRetentionCalls',\n",
       "       'numRetentionOffersAccepted', 'newFrequentNumbers', 'churn'],\n",
       "      dtype='object')"
      ]
     },
     "execution_count": 6,
     "metadata": {},
     "output_type": "execute_result"
    }
   ],
   "source": [
    "col_names = df.columns\n",
    "\n",
    "col_names"
   ]
  },
  {
   "cell_type": "code",
   "execution_count": 7,
   "metadata": {},
   "outputs": [
    {
     "name": "stdout",
     "output_type": "stream",
     "text": [
      "<class 'pandas.core.frame.DataFrame'>\n",
      "RangeIndex: 10000 entries, 0 to 9999\n",
      "Data columns (total 33 columns):\n",
      " #   Column                      Non-Null Count  Dtype  \n",
      "---  ------                      --------------  -----  \n",
      " 0   customer                    10000 non-null  int64  \n",
      " 1   age                         10000 non-null  int64  \n",
      " 2   occupation                  10000 non-null  object \n",
      " 3   regionType                  10000 non-null  object \n",
      " 4   marriageStatus              10000 non-null  object \n",
      " 5   children                    10000 non-null  object \n",
      " 6   income                      10000 non-null  int64  \n",
      " 7   numHandsets                 10000 non-null  int64  \n",
      " 8   handsetAge                  10000 non-null  int64  \n",
      " 9   smartPhone                  10000 non-null  object \n",
      " 10  currentHandsetPrice         10000 non-null  float64\n",
      " 11  creditRating                10000 non-null  object \n",
      " 12  homeOwner                   10000 non-null  object \n",
      " 13  creditCard                  10000 non-null  object \n",
      " 14  avgBill                     10000 non-null  float64\n",
      " 15  avgMins                     10000 non-null  float64\n",
      " 16  avgrecurringCharge          10000 non-null  float64\n",
      " 17  avgOverBundleMins           10000 non-null  float64\n",
      " 18  avgRoamCalls                10000 non-null  float64\n",
      " 19  callMinutesChangePct        10000 non-null  float64\n",
      " 20  billAmountChangePct         10000 non-null  float64\n",
      " 21  avgReceivedMins             10000 non-null  float64\n",
      " 22  avgOutCalls                 10000 non-null  float64\n",
      " 23  avgInCalls                  10000 non-null  float64\n",
      " 24  peakOffPeakRatio            10000 non-null  float64\n",
      " 25  peakOffPeakRatioChangePct   10000 non-null  float64\n",
      " 26  avgDroppedCalls             10000 non-null  float64\n",
      " 27  lifeTime                    10000 non-null  int64  \n",
      " 28  lastMonthCustomerCareCalls  10000 non-null  float64\n",
      " 29  numRetentionCalls           10000 non-null  int64  \n",
      " 30  numRetentionOffersAccepted  10000 non-null  int64  \n",
      " 31  newFrequentNumbers          10000 non-null  int64  \n",
      " 32  churn                       10000 non-null  object \n",
      "dtypes: float64(15), int64(9), object(9)\n",
      "memory usage: 2.5+ MB\n"
     ]
    }
   ],
   "source": [
    "# View summary of dataset\n",
    "\n",
    "df.info()"
   ]
  },
  {
   "cell_type": "markdown",
   "metadata": {},
   "source": [
    "### Types of Variables: We segregate (separate) the dataset into categorical and numerical variables. There are a mixture of categorical and numerical variables in the dataset. Categorical variables have data type object while numerical variables have data type float64."
   ]
  },
  {
   "cell_type": "code",
   "execution_count": 8,
   "metadata": {},
   "outputs": [
    {
     "name": "stdout",
     "output_type": "stream",
     "text": [
      "There are 9 categorical variables\n",
      "\n",
      "The categorical variables are : ['occupation', 'regionType', 'marriageStatus', 'children', 'smartPhone', 'creditRating', 'homeOwner', 'creditCard', 'churn']\n"
     ]
    }
   ],
   "source": [
    "# Find categorical variables\n",
    "\n",
    "categorical = [var for var in df.columns if df[var].dtype == 'O']\n",
    "\n",
    "print('There are {} categorical variables\\n'.format(len(categorical)))\n",
    "\n",
    "print('The categorical variables are :', categorical)"
   ]
  },
  {
   "cell_type": "code",
   "execution_count": 9,
   "metadata": {},
   "outputs": [
    {
     "data": {
      "text/html": [
       "<div>\n",
       "<style scoped>\n",
       "    .dataframe tbody tr th:only-of-type {\n",
       "        vertical-align: middle;\n",
       "    }\n",
       "\n",
       "    .dataframe tbody tr th {\n",
       "        vertical-align: top;\n",
       "    }\n",
       "\n",
       "    .dataframe thead th {\n",
       "        text-align: right;\n",
       "    }\n",
       "</style>\n",
       "<table border=\"1\" class=\"dataframe\">\n",
       "  <thead>\n",
       "    <tr style=\"text-align: right;\">\n",
       "      <th></th>\n",
       "      <th>occupation</th>\n",
       "      <th>regionType</th>\n",
       "      <th>marriageStatus</th>\n",
       "      <th>children</th>\n",
       "      <th>smartPhone</th>\n",
       "      <th>creditRating</th>\n",
       "      <th>homeOwner</th>\n",
       "      <th>creditCard</th>\n",
       "      <th>churn</th>\n",
       "    </tr>\n",
       "  </thead>\n",
       "  <tbody>\n",
       "    <tr>\n",
       "      <th>0</th>\n",
       "      <td>crafts</td>\n",
       "      <td>town</td>\n",
       "      <td>yes</td>\n",
       "      <td>true</td>\n",
       "      <td>false</td>\n",
       "      <td>C</td>\n",
       "      <td>true</td>\n",
       "      <td>true</td>\n",
       "      <td>false</td>\n",
       "    </tr>\n",
       "    <tr>\n",
       "      <th>1</th>\n",
       "      <td></td>\n",
       "      <td></td>\n",
       "      <td>yes</td>\n",
       "      <td>true</td>\n",
       "      <td>true</td>\n",
       "      <td>A</td>\n",
       "      <td>false</td>\n",
       "      <td>true</td>\n",
       "      <td>false</td>\n",
       "    </tr>\n",
       "    <tr>\n",
       "      <th>2</th>\n",
       "      <td>professional</td>\n",
       "      <td>town</td>\n",
       "      <td>yes</td>\n",
       "      <td>false</td>\n",
       "      <td>true</td>\n",
       "      <td>A</td>\n",
       "      <td>false</td>\n",
       "      <td>true</td>\n",
       "      <td>false</td>\n",
       "    </tr>\n",
       "    <tr>\n",
       "      <th>3</th>\n",
       "      <td></td>\n",
       "      <td>suburban</td>\n",
       "      <td>no</td>\n",
       "      <td>false</td>\n",
       "      <td>true</td>\n",
       "      <td>C</td>\n",
       "      <td>false</td>\n",
       "      <td>true</td>\n",
       "      <td>false</td>\n",
       "    </tr>\n",
       "    <tr>\n",
       "      <th>4</th>\n",
       "      <td></td>\n",
       "      <td>town</td>\n",
       "      <td>yes</td>\n",
       "      <td>false</td>\n",
       "      <td>true</td>\n",
       "      <td>A</td>\n",
       "      <td>false</td>\n",
       "      <td>true</td>\n",
       "      <td>false</td>\n",
       "    </tr>\n",
       "  </tbody>\n",
       "</table>\n",
       "</div>"
      ],
      "text/plain": [
       "      occupation regionType marriageStatus children smartPhone creditRating  \\\n",
       "0         crafts       town            yes     true      false            C   \n",
       "1                                      yes     true       true            A   \n",
       "2   professional       town            yes    false       true            A   \n",
       "3                  suburban             no    false       true            C   \n",
       "4                      town            yes    false       true            A   \n",
       "\n",
       "  homeOwner creditCard   churn  \n",
       "0      true       true   false  \n",
       "1     false       true   false  \n",
       "2     false       true   false  \n",
       "3     false       true   false  \n",
       "4     false       true   false  "
      ]
     },
     "execution_count": 9,
     "metadata": {},
     "output_type": "execute_result"
    }
   ],
   "source": [
    "# View the categorical variables\n",
    "\n",
    "df[categorical].head()"
   ]
  },
  {
   "cell_type": "markdown",
   "metadata": {},
   "source": [
    "### Check missing values in categorical variables"
   ]
  },
  {
   "cell_type": "code",
   "execution_count": 10,
   "metadata": {},
   "outputs": [
    {
     "data": {
      "text/plain": [
       "occupation        0\n",
       "regionType        0\n",
       "marriageStatus    0\n",
       "children          0\n",
       "smartPhone        0\n",
       "creditRating      0\n",
       "homeOwner         0\n",
       "creditCard        0\n",
       "churn             0\n",
       "dtype: int64"
      ]
     },
     "execution_count": 10,
     "metadata": {},
     "output_type": "execute_result"
    }
   ],
   "source": [
    "df[categorical].isnull().sum()"
   ]
  },
  {
   "cell_type": "markdown",
   "metadata": {},
   "source": [
    "### Print categorical variables containing missing values"
   ]
  },
  {
   "cell_type": "code",
   "execution_count": 11,
   "metadata": {},
   "outputs": [
    {
     "name": "stdout",
     "output_type": "stream",
     "text": [
      "Series([], dtype: float64)\n"
     ]
    }
   ],
   "source": [
    "cat1 = [var for var in categorical if df[var].isnull().sum() !=0]\n",
    "       # for var in categorical:\n",
    "       #      if df[var].isnull().sum() != 0:\n",
    "       #          cat1 = var\n",
    "print(df[cat1].isnull().sum())"
   ]
  },
  {
   "cell_type": "markdown",
   "metadata": {},
   "source": [
    "### Check the frequency counts categorical variables"
   ]
  },
  {
   "cell_type": "code",
   "execution_count": 12,
   "metadata": {},
   "outputs": [
    {
     "name": "stdout",
     "output_type": "stream",
     "text": [
      "                  7400\n",
      " professional     1705\n",
      " crafts            274\n",
      " clerical          210\n",
      " self-employed     181\n",
      " retired           133\n",
      " student            78\n",
      " homemaker          19\n",
      "Name: occupation, dtype: int64\n",
      "             4776\n",
      " suburban    3085\n",
      " town        1483\n",
      " rural        491\n",
      " unknown       83\n",
      " s             55\n",
      " t             20\n",
      " r              7\n",
      "Name: regionType, dtype: int64\n",
      " unknown    3920\n",
      " yes        3594\n",
      " no         2486\n",
      "Name: marriageStatus, dtype: int64\n",
      " false    7559\n",
      " true     2441\n",
      "Name: children, dtype: int64\n",
      " true     9015\n",
      " false     985\n",
      "Name: smartPhone, dtype: int64\n",
      " B    3785\n",
      " C    1713\n",
      " A    1695\n",
      " E    1175\n",
      " D     979\n",
      " G     413\n",
      " F     240\n",
      "Name: creditRating, dtype: int64\n",
      " false    6577\n",
      " true     3423\n",
      "Name: homeOwner, dtype: int64\n",
      " true     6537\n",
      " false    3146\n",
      " t         105\n",
      " no        100\n",
      " f          61\n",
      " yes        51\n",
      "Name: creditCard, dtype: int64\n",
      " false    5000\n",
      " true     5000\n",
      "Name: churn, dtype: int64\n"
     ]
    }
   ],
   "source": [
    "for var in categorical:\n",
    "    print(df[var].value_counts())"
   ]
  },
  {
   "cell_type": "markdown",
   "metadata": {},
   "source": [
    "### View frequency distribution of categorical variables"
   ]
  },
  {
   "cell_type": "code",
   "execution_count": 13,
   "metadata": {},
   "outputs": [
    {
     "name": "stdout",
     "output_type": "stream",
     "text": [
      "                  0.7400\n",
      " professional     0.1705\n",
      " crafts           0.0274\n",
      " clerical         0.0210\n",
      " self-employed    0.0181\n",
      " retired          0.0133\n",
      " student          0.0078\n",
      " homemaker        0.0019\n",
      "Name: occupation, dtype: float64\n",
      "             0.4776\n",
      " suburban    0.3085\n",
      " town        0.1483\n",
      " rural       0.0491\n",
      " unknown     0.0083\n",
      " s           0.0055\n",
      " t           0.0020\n",
      " r           0.0007\n",
      "Name: regionType, dtype: float64\n",
      " unknown    0.3920\n",
      " yes        0.3594\n",
      " no         0.2486\n",
      "Name: marriageStatus, dtype: float64\n",
      " false    0.7559\n",
      " true     0.2441\n",
      "Name: children, dtype: float64\n",
      " true     0.9015\n",
      " false    0.0985\n",
      "Name: smartPhone, dtype: float64\n",
      " B    0.3785\n",
      " C    0.1713\n",
      " A    0.1695\n",
      " E    0.1175\n",
      " D    0.0979\n",
      " G    0.0413\n",
      " F    0.0240\n",
      "Name: creditRating, dtype: float64\n",
      " false    0.6577\n",
      " true     0.3423\n",
      "Name: homeOwner, dtype: float64\n",
      " true     0.6537\n",
      " false    0.3146\n",
      " t        0.0105\n",
      " no       0.0100\n",
      " f        0.0061\n",
      " yes      0.0051\n",
      "Name: creditCard, dtype: float64\n",
      " false    0.5\n",
      " true     0.5\n",
      "Name: churn, dtype: float64\n"
     ]
    }
   ],
   "source": [
    "for var in categorical:\n",
    "    print(df[var].value_counts()/np.float(len(df)))"
   ]
  },
  {
   "cell_type": "markdown",
   "metadata": {},
   "source": [
    "### Number of lables: Cardinality. Check for cardinality in categorical variables"
   ]
  },
  {
   "cell_type": "code",
   "execution_count": 14,
   "metadata": {},
   "outputs": [
    {
     "name": "stdout",
     "output_type": "stream",
     "text": [
      "occupation contains 8 labels\n",
      "regionType contains 8 labels\n",
      "marriageStatus contains 3 labels\n",
      "children contains 2 labels\n",
      "smartPhone contains 2 labels\n",
      "creditRating contains 7 labels\n",
      "homeOwner contains 2 labels\n",
      "creditCard contains 6 labels\n",
      "churn contains 2 labels\n"
     ]
    }
   ],
   "source": [
    "for var in categorical:\n",
    "    print(var, 'contains', len(df[var].unique()), 'labels')"
   ]
  },
  {
   "cell_type": "code",
   "execution_count": 15,
   "metadata": {},
   "outputs": [
    {
     "data": {
      "text/plain": [
       "dtype('O')"
      ]
     },
     "execution_count": 15,
     "metadata": {},
     "output_type": "execute_result"
    }
   ],
   "source": [
    "df['occupation'].dtypes"
   ]
  },
  {
   "cell_type": "markdown",
   "metadata": {},
   "source": [
    "### Find categorical variables"
   ]
  },
  {
   "cell_type": "code",
   "execution_count": 16,
   "metadata": {},
   "outputs": [
    {
     "name": "stdout",
     "output_type": "stream",
     "text": [
      "There are 9 categorical variables\n",
      "\n",
      "The categorical variables are :  ['occupation', 'regionType', 'marriageStatus', 'children', 'smartPhone', 'creditRating', 'homeOwner', 'creditCard', 'churn']\n"
     ]
    }
   ],
   "source": [
    "categorical = [var for var in df.columns if df[var]. dtype=='O']\n",
    "\n",
    "print ('There are {} categorical variables\\n'.format(len(categorical)))\n",
    "\n",
    "print('The categorical variables are : ', categorical)"
   ]
  },
  {
   "cell_type": "code",
   "execution_count": 17,
   "metadata": {},
   "outputs": [
    {
     "data": {
      "text/plain": [
       "occupation        0\n",
       "regionType        0\n",
       "marriageStatus    0\n",
       "children          0\n",
       "smartPhone        0\n",
       "creditRating      0\n",
       "homeOwner         0\n",
       "creditCard        0\n",
       "churn             0\n",
       "dtype: int64"
      ]
     },
     "execution_count": 17,
     "metadata": {},
     "output_type": "execute_result"
    }
   ],
   "source": [
    "# Check for missing values in categorical variables\n",
    "\n",
    "df[categorical].isnull().sum()"
   ]
  },
  {
   "cell_type": "code",
   "execution_count": 18,
   "metadata": {},
   "outputs": [
    {
     "name": "stdout",
     "output_type": "stream",
     "text": [
      "Occupation contains 8 labels\n"
     ]
    }
   ],
   "source": [
    "# Explore Occupation variable\n",
    "# Print number of lables in Occupation variables\n",
    "\n",
    "print('Occupation contains', len(df.occupation.unique()), 'labels')"
   ]
  },
  {
   "cell_type": "code",
   "execution_count": 19,
   "metadata": {},
   "outputs": [
    {
     "data": {
      "text/plain": [
       "array([' crafts', ' ', ' professional', ' homemaker', ' clerical',\n",
       "       ' self-employed', ' retired', ' student'], dtype=object)"
      ]
     },
     "execution_count": 19,
     "metadata": {},
     "output_type": "execute_result"
    }
   ],
   "source": [
    "# Check labels in Occupation variable\n",
    "\n",
    "df.occupation.unique()"
   ]
  },
  {
   "cell_type": "code",
   "execution_count": 20,
   "metadata": {},
   "outputs": [
    {
     "data": {
      "text/plain": [
       "                  7400\n",
       " professional     1705\n",
       " crafts            274\n",
       " clerical          210\n",
       " self-employed     181\n",
       " retired           133\n",
       " student            78\n",
       " homemaker          19\n",
       "Name: occupation, dtype: int64"
      ]
     },
     "execution_count": 20,
     "metadata": {},
     "output_type": "execute_result"
    }
   ],
   "source": [
    "# Check frequency distribution of values in Location variable\n",
    "\n",
    "df.occupation.value_counts()"
   ]
  },
  {
   "cell_type": "markdown",
   "metadata": {},
   "source": [
    "### Let's do One Hot Encoding of occupation variable.\n",
    "- Get k-1 dummy variables after One Hot Encoding. \n",
    "- Preview the dataset with head() method."
   ]
  },
  {
   "cell_type": "code",
   "execution_count": 21,
   "metadata": {},
   "outputs": [
    {
     "data": {
      "text/html": [
       "<div>\n",
       "<style scoped>\n",
       "    .dataframe tbody tr th:only-of-type {\n",
       "        vertical-align: middle;\n",
       "    }\n",
       "\n",
       "    .dataframe tbody tr th {\n",
       "        vertical-align: top;\n",
       "    }\n",
       "\n",
       "    .dataframe thead th {\n",
       "        text-align: right;\n",
       "    }\n",
       "</style>\n",
       "<table border=\"1\" class=\"dataframe\">\n",
       "  <thead>\n",
       "    <tr style=\"text-align: right;\">\n",
       "      <th></th>\n",
       "      <th>clerical</th>\n",
       "      <th>crafts</th>\n",
       "      <th>homemaker</th>\n",
       "      <th>professional</th>\n",
       "      <th>retired</th>\n",
       "      <th>self-employed</th>\n",
       "      <th>student</th>\n",
       "    </tr>\n",
       "  </thead>\n",
       "  <tbody>\n",
       "    <tr>\n",
       "      <th>0</th>\n",
       "      <td>0</td>\n",
       "      <td>1</td>\n",
       "      <td>0</td>\n",
       "      <td>0</td>\n",
       "      <td>0</td>\n",
       "      <td>0</td>\n",
       "      <td>0</td>\n",
       "    </tr>\n",
       "    <tr>\n",
       "      <th>1</th>\n",
       "      <td>0</td>\n",
       "      <td>0</td>\n",
       "      <td>0</td>\n",
       "      <td>0</td>\n",
       "      <td>0</td>\n",
       "      <td>0</td>\n",
       "      <td>0</td>\n",
       "    </tr>\n",
       "    <tr>\n",
       "      <th>2</th>\n",
       "      <td>0</td>\n",
       "      <td>0</td>\n",
       "      <td>0</td>\n",
       "      <td>1</td>\n",
       "      <td>0</td>\n",
       "      <td>0</td>\n",
       "      <td>0</td>\n",
       "    </tr>\n",
       "    <tr>\n",
       "      <th>3</th>\n",
       "      <td>0</td>\n",
       "      <td>0</td>\n",
       "      <td>0</td>\n",
       "      <td>0</td>\n",
       "      <td>0</td>\n",
       "      <td>0</td>\n",
       "      <td>0</td>\n",
       "    </tr>\n",
       "    <tr>\n",
       "      <th>4</th>\n",
       "      <td>0</td>\n",
       "      <td>0</td>\n",
       "      <td>0</td>\n",
       "      <td>0</td>\n",
       "      <td>0</td>\n",
       "      <td>0</td>\n",
       "      <td>0</td>\n",
       "    </tr>\n",
       "  </tbody>\n",
       "</table>\n",
       "</div>"
      ],
      "text/plain": [
       "    clerical   crafts   homemaker   professional   retired   self-employed  \\\n",
       "0          0        1           0              0         0               0   \n",
       "1          0        0           0              0         0               0   \n",
       "2          0        0           0              1         0               0   \n",
       "3          0        0           0              0         0               0   \n",
       "4          0        0           0              0         0               0   \n",
       "\n",
       "    student  \n",
       "0         0  \n",
       "1         0  \n",
       "2         0  \n",
       "3         0  \n",
       "4         0  "
      ]
     },
     "execution_count": 21,
     "metadata": {},
     "output_type": "execute_result"
    }
   ],
   "source": [
    "pd.get_dummies(df.occupation, drop_first=True).head()"
   ]
  },
  {
   "cell_type": "code",
   "execution_count": 22,
   "metadata": {},
   "outputs": [
    {
     "name": "stdout",
     "output_type": "stream",
     "text": [
      "regionType contains 8 labels\n"
     ]
    }
   ],
   "source": [
    "# Print number of labels in regionType variable\n",
    "\n",
    "print('regionType contains', len(df['regionType'].unique()), 'labels')"
   ]
  },
  {
   "cell_type": "code",
   "execution_count": 23,
   "metadata": {},
   "outputs": [
    {
     "data": {
      "text/plain": [
       "array([' town', ' ', ' suburban', ' rural', ' s', ' unknown', ' t', ' r'],\n",
       "      dtype=object)"
      ]
     },
     "execution_count": 23,
     "metadata": {},
     "output_type": "execute_result"
    }
   ],
   "source": [
    "# Check labels in WindGustDir variable\n",
    "\n",
    "df['regionType'].unique()"
   ]
  },
  {
   "cell_type": "markdown",
   "metadata": {},
   "source": [
    "### Let's do One Hot Encoding of regionType variable\n",
    "- get k-1 dummy variables after One Hot Encoding \n",
    "- also add an additional dummy variable to indicate there was missing data\n",
    "- preview the dataset with head() method"
   ]
  },
  {
   "cell_type": "code",
   "execution_count": 24,
   "metadata": {},
   "outputs": [
    {
     "data": {
      "text/html": [
       "<div>\n",
       "<style scoped>\n",
       "    .dataframe tbody tr th:only-of-type {\n",
       "        vertical-align: middle;\n",
       "    }\n",
       "\n",
       "    .dataframe tbody tr th {\n",
       "        vertical-align: top;\n",
       "    }\n",
       "\n",
       "    .dataframe thead th {\n",
       "        text-align: right;\n",
       "    }\n",
       "</style>\n",
       "<table border=\"1\" class=\"dataframe\">\n",
       "  <thead>\n",
       "    <tr style=\"text-align: right;\">\n",
       "      <th></th>\n",
       "      <th>r</th>\n",
       "      <th>rural</th>\n",
       "      <th>s</th>\n",
       "      <th>suburban</th>\n",
       "      <th>t</th>\n",
       "      <th>town</th>\n",
       "      <th>unknown</th>\n",
       "    </tr>\n",
       "  </thead>\n",
       "  <tbody>\n",
       "    <tr>\n",
       "      <th>0</th>\n",
       "      <td>0</td>\n",
       "      <td>0</td>\n",
       "      <td>0</td>\n",
       "      <td>0</td>\n",
       "      <td>0</td>\n",
       "      <td>1</td>\n",
       "      <td>0</td>\n",
       "    </tr>\n",
       "    <tr>\n",
       "      <th>1</th>\n",
       "      <td>0</td>\n",
       "      <td>0</td>\n",
       "      <td>0</td>\n",
       "      <td>0</td>\n",
       "      <td>0</td>\n",
       "      <td>0</td>\n",
       "      <td>0</td>\n",
       "    </tr>\n",
       "    <tr>\n",
       "      <th>2</th>\n",
       "      <td>0</td>\n",
       "      <td>0</td>\n",
       "      <td>0</td>\n",
       "      <td>0</td>\n",
       "      <td>0</td>\n",
       "      <td>1</td>\n",
       "      <td>0</td>\n",
       "    </tr>\n",
       "    <tr>\n",
       "      <th>3</th>\n",
       "      <td>0</td>\n",
       "      <td>0</td>\n",
       "      <td>0</td>\n",
       "      <td>1</td>\n",
       "      <td>0</td>\n",
       "      <td>0</td>\n",
       "      <td>0</td>\n",
       "    </tr>\n",
       "    <tr>\n",
       "      <th>4</th>\n",
       "      <td>0</td>\n",
       "      <td>0</td>\n",
       "      <td>0</td>\n",
       "      <td>0</td>\n",
       "      <td>0</td>\n",
       "      <td>1</td>\n",
       "      <td>0</td>\n",
       "    </tr>\n",
       "  </tbody>\n",
       "</table>\n",
       "</div>"
      ],
      "text/plain": [
       "    r   rural   s   suburban   t   town   unknown\n",
       "0   0       0   0          0   0      1         0\n",
       "1   0       0   0          0   0      0         0\n",
       "2   0       0   0          0   0      1         0\n",
       "3   0       0   0          1   0      0         0\n",
       "4   0       0   0          0   0      1         0"
      ]
     },
     "execution_count": 24,
     "metadata": {},
     "output_type": "execute_result"
    }
   ],
   "source": [
    "pd.get_dummies(df.regionType, drop_first=True).head()"
   ]
  },
  {
   "cell_type": "markdown",
   "metadata": {},
   "source": [
    "- Sum the number of 1s per boolean variable over the rows of the dataset.\n",
    "- It will tell us how many observations we have for each category"
   ]
  },
  {
   "cell_type": "code",
   "execution_count": 25,
   "metadata": {},
   "outputs": [
    {
     "data": {
      "text/plain": [
       " r              7\n",
       " rural        491\n",
       " s             55\n",
       " suburban    3085\n",
       " t             20\n",
       " town        1483\n",
       " unknown       83\n",
       "NaN             0\n",
       "dtype: int64"
      ]
     },
     "execution_count": 25,
     "metadata": {},
     "output_type": "execute_result"
    }
   ],
   "source": [
    "pd.get_dummies(df.regionType, drop_first=True, dummy_na = True).sum(axis=0)"
   ]
  },
  {
   "cell_type": "code",
   "execution_count": 26,
   "metadata": {},
   "outputs": [
    {
     "name": "stdout",
     "output_type": "stream",
     "text": [
      "marriageStatus contains 3 labels\n"
     ]
    }
   ],
   "source": [
    "# Print number of labels in marriageStatus variable\n",
    "\n",
    "print('marriageStatus contains', len(df['marriageStatus'].unique()), 'labels')"
   ]
  },
  {
   "cell_type": "code",
   "execution_count": 27,
   "metadata": {},
   "outputs": [
    {
     "data": {
      "text/plain": [
       "array([' yes', ' no', ' unknown'], dtype=object)"
      ]
     },
     "execution_count": 27,
     "metadata": {},
     "output_type": "execute_result"
    }
   ],
   "source": [
    "# check labels in WindDir9am variable\n",
    "\n",
    "df['marriageStatus'].unique()"
   ]
  },
  {
   "cell_type": "code",
   "execution_count": 28,
   "metadata": {},
   "outputs": [
    {
     "data": {
      "text/plain": [
       " unknown    3920\n",
       " yes        3594\n",
       " no         2486\n",
       "Name: marriageStatus, dtype: int64"
      ]
     },
     "execution_count": 28,
     "metadata": {},
     "output_type": "execute_result"
    }
   ],
   "source": [
    "# check frequency distribution of values in WindDir9am variable\n",
    "\n",
    "df['marriageStatus'].value_counts()"
   ]
  },
  {
   "cell_type": "markdown",
   "metadata": {},
   "source": [
    "### Let's do One Hot Encoding of marriageStatus variable\n",
    "- get k-1 dummy variables after One Hot Encoding \n",
    "- also add an additional dummy variable to indicate there was missing data\n",
    "- preview the dataset with head() method"
   ]
  },
  {
   "cell_type": "code",
   "execution_count": 29,
   "metadata": {},
   "outputs": [
    {
     "data": {
      "text/html": [
       "<div>\n",
       "<style scoped>\n",
       "    .dataframe tbody tr th:only-of-type {\n",
       "        vertical-align: middle;\n",
       "    }\n",
       "\n",
       "    .dataframe tbody tr th {\n",
       "        vertical-align: top;\n",
       "    }\n",
       "\n",
       "    .dataframe thead th {\n",
       "        text-align: right;\n",
       "    }\n",
       "</style>\n",
       "<table border=\"1\" class=\"dataframe\">\n",
       "  <thead>\n",
       "    <tr style=\"text-align: right;\">\n",
       "      <th></th>\n",
       "      <th>unknown</th>\n",
       "      <th>yes</th>\n",
       "    </tr>\n",
       "  </thead>\n",
       "  <tbody>\n",
       "    <tr>\n",
       "      <th>0</th>\n",
       "      <td>0</td>\n",
       "      <td>1</td>\n",
       "    </tr>\n",
       "    <tr>\n",
       "      <th>1</th>\n",
       "      <td>0</td>\n",
       "      <td>1</td>\n",
       "    </tr>\n",
       "    <tr>\n",
       "      <th>2</th>\n",
       "      <td>0</td>\n",
       "      <td>1</td>\n",
       "    </tr>\n",
       "    <tr>\n",
       "      <th>3</th>\n",
       "      <td>0</td>\n",
       "      <td>0</td>\n",
       "    </tr>\n",
       "    <tr>\n",
       "      <th>4</th>\n",
       "      <td>0</td>\n",
       "      <td>1</td>\n",
       "    </tr>\n",
       "  </tbody>\n",
       "</table>\n",
       "</div>"
      ],
      "text/plain": [
       "    unknown   yes\n",
       "0         0     1\n",
       "1         0     1\n",
       "2         0     1\n",
       "3         0     0\n",
       "4         0     1"
      ]
     },
     "execution_count": 29,
     "metadata": {},
     "output_type": "execute_result"
    }
   ],
   "source": [
    "pd.get_dummies(df.marriageStatus, drop_first=True).head()"
   ]
  },
  {
   "cell_type": "code",
   "execution_count": 30,
   "metadata": {},
   "outputs": [
    {
     "data": {
      "text/plain": [
       " unknown    3920\n",
       " yes        3594\n",
       "NaN            0\n",
       "dtype: int64"
      ]
     },
     "execution_count": 30,
     "metadata": {},
     "output_type": "execute_result"
    }
   ],
   "source": [
    "# sum the number of 1s per boolean variable over the rows of the dataset\n",
    "# it will tell us how many observations we have for each category\n",
    "\n",
    "pd.get_dummies(df.marriageStatus, drop_first=True, dummy_na=True).sum(axis=0)"
   ]
  },
  {
   "cell_type": "code",
   "execution_count": 31,
   "metadata": {},
   "outputs": [
    {
     "name": "stdout",
     "output_type": "stream",
     "text": [
      "children contains 2 labels\n"
     ]
    }
   ],
   "source": [
    "# Print number of labels in children variable\n",
    "\n",
    "print('children contains', len(df['children'].unique()), 'labels')"
   ]
  },
  {
   "cell_type": "code",
   "execution_count": 32,
   "metadata": {},
   "outputs": [
    {
     "data": {
      "text/plain": [
       "array([' true', ' false'], dtype=object)"
      ]
     },
     "execution_count": 32,
     "metadata": {},
     "output_type": "execute_result"
    }
   ],
   "source": [
    "# Check labels in WindDir3pm variable\n",
    "\n",
    "df['children'].unique()"
   ]
  },
  {
   "cell_type": "code",
   "execution_count": 33,
   "metadata": {},
   "outputs": [
    {
     "data": {
      "text/plain": [
       " false    7559\n",
       " true     2441\n",
       "Name: children, dtype: int64"
      ]
     },
     "execution_count": 33,
     "metadata": {},
     "output_type": "execute_result"
    }
   ],
   "source": [
    "# Check frequency distribution of values in children variable\n",
    "\n",
    "df['children'].value_counts()"
   ]
  },
  {
   "cell_type": "markdown",
   "metadata": {},
   "source": [
    "### Let's do One Hot Encoding of children variable\n",
    "- get k-1 dummy variables after One Hot Encoding \n",
    "- also add an additional dummy variable to indicate there was missing data\n",
    "- preview the dataset with head() method"
   ]
  },
  {
   "cell_type": "code",
   "execution_count": 34,
   "metadata": {},
   "outputs": [
    {
     "data": {
      "text/html": [
       "<div>\n",
       "<style scoped>\n",
       "    .dataframe tbody tr th:only-of-type {\n",
       "        vertical-align: middle;\n",
       "    }\n",
       "\n",
       "    .dataframe tbody tr th {\n",
       "        vertical-align: top;\n",
       "    }\n",
       "\n",
       "    .dataframe thead th {\n",
       "        text-align: right;\n",
       "    }\n",
       "</style>\n",
       "<table border=\"1\" class=\"dataframe\">\n",
       "  <thead>\n",
       "    <tr style=\"text-align: right;\">\n",
       "      <th></th>\n",
       "      <th>true</th>\n",
       "    </tr>\n",
       "  </thead>\n",
       "  <tbody>\n",
       "    <tr>\n",
       "      <th>0</th>\n",
       "      <td>1</td>\n",
       "    </tr>\n",
       "    <tr>\n",
       "      <th>1</th>\n",
       "      <td>1</td>\n",
       "    </tr>\n",
       "    <tr>\n",
       "      <th>2</th>\n",
       "      <td>0</td>\n",
       "    </tr>\n",
       "    <tr>\n",
       "      <th>3</th>\n",
       "      <td>0</td>\n",
       "    </tr>\n",
       "    <tr>\n",
       "      <th>4</th>\n",
       "      <td>0</td>\n",
       "    </tr>\n",
       "  </tbody>\n",
       "</table>\n",
       "</div>"
      ],
      "text/plain": [
       "    true\n",
       "0      1\n",
       "1      1\n",
       "2      0\n",
       "3      0\n",
       "4      0"
      ]
     },
     "execution_count": 34,
     "metadata": {},
     "output_type": "execute_result"
    }
   ],
   "source": [
    "pd.get_dummies(df.children, drop_first=True).head()"
   ]
  },
  {
   "cell_type": "code",
   "execution_count": 35,
   "metadata": {},
   "outputs": [
    {
     "data": {
      "text/plain": [
       " true    2441\n",
       "NaN         0\n",
       "dtype: int64"
      ]
     },
     "execution_count": 35,
     "metadata": {},
     "output_type": "execute_result"
    }
   ],
   "source": [
    "# sum the number of 1s per boolean variable over the rows of the dataset\n",
    "# it will tell us how many observations we have for each category\n",
    "\n",
    "pd.get_dummies(df.children, drop_first=True, dummy_na=True).sum(axis=0)"
   ]
  },
  {
   "cell_type": "code",
   "execution_count": 36,
   "metadata": {},
   "outputs": [
    {
     "name": "stdout",
     "output_type": "stream",
     "text": [
      "smartPhone contains 2 labels\n"
     ]
    }
   ],
   "source": [
    "# Print number of labels in smartPhone variable\n",
    "\n",
    "print('smartPhone contains', len(df['smartPhone'].unique()), 'labels')"
   ]
  },
  {
   "cell_type": "code",
   "execution_count": 37,
   "metadata": {},
   "outputs": [
    {
     "data": {
      "text/plain": [
       "array([' false', ' true'], dtype=object)"
      ]
     },
     "execution_count": 37,
     "metadata": {},
     "output_type": "execute_result"
    }
   ],
   "source": [
    "# Check labels in smartPhone variable\n",
    "\n",
    "df['smartPhone'].unique()"
   ]
  },
  {
   "cell_type": "code",
   "execution_count": 38,
   "metadata": {},
   "outputs": [
    {
     "data": {
      "text/plain": [
       " true     9015\n",
       " false     985\n",
       "Name: smartPhone, dtype: int64"
      ]
     },
     "execution_count": 38,
     "metadata": {},
     "output_type": "execute_result"
    }
   ],
   "source": [
    "# check frequency distribution of values in smartPhone variable\n",
    "\n",
    "df.smartPhone.value_counts()"
   ]
  },
  {
   "cell_type": "markdown",
   "metadata": {},
   "source": [
    "### Let's do One Hot Encoding of smartPhone variable\n",
    "- get k-1 dummy variables after One Hot Encoding \n",
    "- also add an additional dummy variable to indicate there was missing data\n",
    "- preview the dataset with head() method"
   ]
  },
  {
   "cell_type": "code",
   "execution_count": 39,
   "metadata": {},
   "outputs": [
    {
     "data": {
      "text/html": [
       "<div>\n",
       "<style scoped>\n",
       "    .dataframe tbody tr th:only-of-type {\n",
       "        vertical-align: middle;\n",
       "    }\n",
       "\n",
       "    .dataframe tbody tr th {\n",
       "        vertical-align: top;\n",
       "    }\n",
       "\n",
       "    .dataframe thead th {\n",
       "        text-align: right;\n",
       "    }\n",
       "</style>\n",
       "<table border=\"1\" class=\"dataframe\">\n",
       "  <thead>\n",
       "    <tr style=\"text-align: right;\">\n",
       "      <th></th>\n",
       "      <th>true</th>\n",
       "    </tr>\n",
       "  </thead>\n",
       "  <tbody>\n",
       "    <tr>\n",
       "      <th>0</th>\n",
       "      <td>0</td>\n",
       "    </tr>\n",
       "    <tr>\n",
       "      <th>1</th>\n",
       "      <td>1</td>\n",
       "    </tr>\n",
       "    <tr>\n",
       "      <th>2</th>\n",
       "      <td>1</td>\n",
       "    </tr>\n",
       "    <tr>\n",
       "      <th>3</th>\n",
       "      <td>1</td>\n",
       "    </tr>\n",
       "    <tr>\n",
       "      <th>4</th>\n",
       "      <td>1</td>\n",
       "    </tr>\n",
       "  </tbody>\n",
       "</table>\n",
       "</div>"
      ],
      "text/plain": [
       "    true\n",
       "0      0\n",
       "1      1\n",
       "2      1\n",
       "3      1\n",
       "4      1"
      ]
     },
     "execution_count": 39,
     "metadata": {},
     "output_type": "execute_result"
    }
   ],
   "source": [
    "pd.get_dummies(df.smartPhone, drop_first=True).head()"
   ]
  },
  {
   "cell_type": "code",
   "execution_count": 40,
   "metadata": {},
   "outputs": [
    {
     "data": {
      "text/plain": [
       " true    9015\n",
       "NaN         0\n",
       "dtype: int64"
      ]
     },
     "execution_count": 40,
     "metadata": {},
     "output_type": "execute_result"
    }
   ],
   "source": [
    "# sum the number of 1s per boolean variable over the rows of the dataset\n",
    "# it will tell us how many observations we have for each category\n",
    "\n",
    "pd.get_dummies(df.smartPhone, drop_first=True, dummy_na=True).sum(axis=0)"
   ]
  },
  {
   "cell_type": "markdown",
   "metadata": {},
   "source": [
    "# CREDIT RATING"
   ]
  },
  {
   "cell_type": "code",
   "execution_count": 42,
   "metadata": {},
   "outputs": [
    {
     "name": "stdout",
     "output_type": "stream",
     "text": [
      "creditRating contains 7 labels\n"
     ]
    }
   ],
   "source": [
    "# Print number of labels in creditRating variable\n",
    "\n",
    "print('creditRating contains', len(df['creditRating'].unique()), 'labels')"
   ]
  },
  {
   "cell_type": "code",
   "execution_count": 43,
   "metadata": {},
   "outputs": [
    {
     "data": {
      "text/plain": [
       "array([' C', ' A', ' D', ' E', ' G', ' B', ' F'], dtype=object)"
      ]
     },
     "execution_count": 43,
     "metadata": {},
     "output_type": "execute_result"
    }
   ],
   "source": [
    "# Check labels in creditRating variable\n",
    "\n",
    "df['creditRating'].unique()"
   ]
  },
  {
   "cell_type": "code",
   "execution_count": 44,
   "metadata": {},
   "outputs": [
    {
     "data": {
      "text/plain": [
       " B    3785\n",
       " C    1713\n",
       " A    1695\n",
       " E    1175\n",
       " D     979\n",
       " G     413\n",
       " F     240\n",
       "Name: creditRating, dtype: int64"
      ]
     },
     "execution_count": 44,
     "metadata": {},
     "output_type": "execute_result"
    }
   ],
   "source": [
    "# check frequency distribution of values in creditRating variable\n",
    "\n",
    "df.creditRating.value_counts()"
   ]
  },
  {
   "cell_type": "markdown",
   "metadata": {},
   "source": [
    "### Let's do One Hot Encoding of creditRating variable\n",
    "- get k-1 dummy variables after One Hot Encoding \n",
    "- also add an additional dummy variable to indicate there was missing data\n",
    "- preview the dataset with head() method"
   ]
  },
  {
   "cell_type": "code",
   "execution_count": 45,
   "metadata": {},
   "outputs": [
    {
     "data": {
      "text/html": [
       "<div>\n",
       "<style scoped>\n",
       "    .dataframe tbody tr th:only-of-type {\n",
       "        vertical-align: middle;\n",
       "    }\n",
       "\n",
       "    .dataframe tbody tr th {\n",
       "        vertical-align: top;\n",
       "    }\n",
       "\n",
       "    .dataframe thead th {\n",
       "        text-align: right;\n",
       "    }\n",
       "</style>\n",
       "<table border=\"1\" class=\"dataframe\">\n",
       "  <thead>\n",
       "    <tr style=\"text-align: right;\">\n",
       "      <th></th>\n",
       "      <th>B</th>\n",
       "      <th>C</th>\n",
       "      <th>D</th>\n",
       "      <th>E</th>\n",
       "      <th>F</th>\n",
       "      <th>G</th>\n",
       "    </tr>\n",
       "  </thead>\n",
       "  <tbody>\n",
       "    <tr>\n",
       "      <th>0</th>\n",
       "      <td>0</td>\n",
       "      <td>1</td>\n",
       "      <td>0</td>\n",
       "      <td>0</td>\n",
       "      <td>0</td>\n",
       "      <td>0</td>\n",
       "    </tr>\n",
       "    <tr>\n",
       "      <th>1</th>\n",
       "      <td>0</td>\n",
       "      <td>0</td>\n",
       "      <td>0</td>\n",
       "      <td>0</td>\n",
       "      <td>0</td>\n",
       "      <td>0</td>\n",
       "    </tr>\n",
       "    <tr>\n",
       "      <th>2</th>\n",
       "      <td>0</td>\n",
       "      <td>0</td>\n",
       "      <td>0</td>\n",
       "      <td>0</td>\n",
       "      <td>0</td>\n",
       "      <td>0</td>\n",
       "    </tr>\n",
       "    <tr>\n",
       "      <th>3</th>\n",
       "      <td>0</td>\n",
       "      <td>1</td>\n",
       "      <td>0</td>\n",
       "      <td>0</td>\n",
       "      <td>0</td>\n",
       "      <td>0</td>\n",
       "    </tr>\n",
       "    <tr>\n",
       "      <th>4</th>\n",
       "      <td>0</td>\n",
       "      <td>0</td>\n",
       "      <td>0</td>\n",
       "      <td>0</td>\n",
       "      <td>0</td>\n",
       "      <td>0</td>\n",
       "    </tr>\n",
       "  </tbody>\n",
       "</table>\n",
       "</div>"
      ],
      "text/plain": [
       "    B   C   D   E   F   G\n",
       "0   0   1   0   0   0   0\n",
       "1   0   0   0   0   0   0\n",
       "2   0   0   0   0   0   0\n",
       "3   0   1   0   0   0   0\n",
       "4   0   0   0   0   0   0"
      ]
     },
     "execution_count": 45,
     "metadata": {},
     "output_type": "execute_result"
    }
   ],
   "source": [
    "pd.get_dummies(df.creditRating, drop_first=True).head()"
   ]
  },
  {
   "cell_type": "code",
   "execution_count": 46,
   "metadata": {},
   "outputs": [
    {
     "data": {
      "text/plain": [
       " B     3785\n",
       " C     1713\n",
       " D      979\n",
       " E     1175\n",
       " F      240\n",
       " G      413\n",
       "NaN       0\n",
       "dtype: int64"
      ]
     },
     "execution_count": 46,
     "metadata": {},
     "output_type": "execute_result"
    }
   ],
   "source": [
    "# sum the number of 1s per boolean variable over the rows of the dataset\n",
    "# it will tell us how many observations we have for each category\n",
    "\n",
    "pd.get_dummies(df.creditRating, drop_first=True, dummy_na=True).sum(axis=0)"
   ]
  },
  {
   "cell_type": "markdown",
   "metadata": {},
   "source": [
    "# HOME OWNER"
   ]
  },
  {
   "cell_type": "code",
   "execution_count": 48,
   "metadata": {},
   "outputs": [
    {
     "name": "stdout",
     "output_type": "stream",
     "text": [
      "homeOwner contains 2 labels\n"
     ]
    }
   ],
   "source": [
    "# Print number of labels in homeOwner variable\n",
    "\n",
    "print('homeOwner contains', len(df['homeOwner'].unique()), 'labels')"
   ]
  },
  {
   "cell_type": "code",
   "execution_count": 49,
   "metadata": {},
   "outputs": [
    {
     "data": {
      "text/plain": [
       "array([' true', ' false'], dtype=object)"
      ]
     },
     "execution_count": 49,
     "metadata": {},
     "output_type": "execute_result"
    }
   ],
   "source": [
    "# Check labels in RainToday variable\n",
    "\n",
    "df['homeOwner'].unique()"
   ]
  },
  {
   "cell_type": "code",
   "execution_count": 50,
   "metadata": {},
   "outputs": [
    {
     "data": {
      "text/plain": [
       " false    6577\n",
       " true     3423\n",
       "Name: homeOwner, dtype: int64"
      ]
     },
     "execution_count": 50,
     "metadata": {},
     "output_type": "execute_result"
    }
   ],
   "source": [
    "# Check frequency distribution of values in RainToday variable\n",
    "\n",
    "df.homeOwner.value_counts()"
   ]
  },
  {
   "cell_type": "markdown",
   "metadata": {},
   "source": [
    "### Let's do One Hot Encoding of homeOwner variable\n",
    "- get k-1 dummy variables after One Hot Encoding \n",
    "- also add an additional dummy variable to indicate there was missing data\n",
    "- preview the dataset with head() method"
   ]
  },
  {
   "cell_type": "code",
   "execution_count": 51,
   "metadata": {},
   "outputs": [
    {
     "data": {
      "text/html": [
       "<div>\n",
       "<style scoped>\n",
       "    .dataframe tbody tr th:only-of-type {\n",
       "        vertical-align: middle;\n",
       "    }\n",
       "\n",
       "    .dataframe tbody tr th {\n",
       "        vertical-align: top;\n",
       "    }\n",
       "\n",
       "    .dataframe thead th {\n",
       "        text-align: right;\n",
       "    }\n",
       "</style>\n",
       "<table border=\"1\" class=\"dataframe\">\n",
       "  <thead>\n",
       "    <tr style=\"text-align: right;\">\n",
       "      <th></th>\n",
       "      <th>true</th>\n",
       "    </tr>\n",
       "  </thead>\n",
       "  <tbody>\n",
       "    <tr>\n",
       "      <th>0</th>\n",
       "      <td>1</td>\n",
       "    </tr>\n",
       "    <tr>\n",
       "      <th>1</th>\n",
       "      <td>0</td>\n",
       "    </tr>\n",
       "    <tr>\n",
       "      <th>2</th>\n",
       "      <td>0</td>\n",
       "    </tr>\n",
       "    <tr>\n",
       "      <th>3</th>\n",
       "      <td>0</td>\n",
       "    </tr>\n",
       "    <tr>\n",
       "      <th>4</th>\n",
       "      <td>0</td>\n",
       "    </tr>\n",
       "  </tbody>\n",
       "</table>\n",
       "</div>"
      ],
      "text/plain": [
       "    true\n",
       "0      1\n",
       "1      0\n",
       "2      0\n",
       "3      0\n",
       "4      0"
      ]
     },
     "execution_count": 51,
     "metadata": {},
     "output_type": "execute_result"
    }
   ],
   "source": [
    "pd.get_dummies(df.homeOwner, drop_first=True).head()"
   ]
  },
  {
   "cell_type": "code",
   "execution_count": 52,
   "metadata": {},
   "outputs": [
    {
     "data": {
      "text/plain": [
       " true    3423\n",
       "NaN         0\n",
       "dtype: int64"
      ]
     },
     "execution_count": 52,
     "metadata": {},
     "output_type": "execute_result"
    }
   ],
   "source": [
    "# sum the number of 1s per boolean variable over the rows of the dataset\n",
    "# it will tell us how many observations we have for each category\n",
    "\n",
    "pd.get_dummies(df.homeOwner, drop_first=True, dummy_na=True).sum(axis=0)"
   ]
  },
  {
   "cell_type": "markdown",
   "metadata": {},
   "source": [
    "## CREDIT CARD"
   ]
  },
  {
   "cell_type": "markdown",
   "metadata": {},
   "source": [
    "### Let's do One Hot Encoding of creditCard variable\n",
    "- get k-1 dummy variables after One Hot Encoding \n",
    "- also add an additional dummy variable to indicate there was missing data\n",
    "- preview the dataset with head() method"
   ]
  },
  {
   "cell_type": "code",
   "execution_count": 53,
   "metadata": {},
   "outputs": [
    {
     "data": {
      "text/html": [
       "<div>\n",
       "<style scoped>\n",
       "    .dataframe tbody tr th:only-of-type {\n",
       "        vertical-align: middle;\n",
       "    }\n",
       "\n",
       "    .dataframe tbody tr th {\n",
       "        vertical-align: top;\n",
       "    }\n",
       "\n",
       "    .dataframe thead th {\n",
       "        text-align: right;\n",
       "    }\n",
       "</style>\n",
       "<table border=\"1\" class=\"dataframe\">\n",
       "  <thead>\n",
       "    <tr style=\"text-align: right;\">\n",
       "      <th></th>\n",
       "      <th>false</th>\n",
       "      <th>no</th>\n",
       "      <th>t</th>\n",
       "      <th>true</th>\n",
       "      <th>yes</th>\n",
       "    </tr>\n",
       "  </thead>\n",
       "  <tbody>\n",
       "    <tr>\n",
       "      <th>0</th>\n",
       "      <td>0</td>\n",
       "      <td>0</td>\n",
       "      <td>0</td>\n",
       "      <td>1</td>\n",
       "      <td>0</td>\n",
       "    </tr>\n",
       "    <tr>\n",
       "      <th>1</th>\n",
       "      <td>0</td>\n",
       "      <td>0</td>\n",
       "      <td>0</td>\n",
       "      <td>1</td>\n",
       "      <td>0</td>\n",
       "    </tr>\n",
       "    <tr>\n",
       "      <th>2</th>\n",
       "      <td>0</td>\n",
       "      <td>0</td>\n",
       "      <td>0</td>\n",
       "      <td>1</td>\n",
       "      <td>0</td>\n",
       "    </tr>\n",
       "    <tr>\n",
       "      <th>3</th>\n",
       "      <td>0</td>\n",
       "      <td>0</td>\n",
       "      <td>0</td>\n",
       "      <td>1</td>\n",
       "      <td>0</td>\n",
       "    </tr>\n",
       "    <tr>\n",
       "      <th>4</th>\n",
       "      <td>0</td>\n",
       "      <td>0</td>\n",
       "      <td>0</td>\n",
       "      <td>1</td>\n",
       "      <td>0</td>\n",
       "    </tr>\n",
       "  </tbody>\n",
       "</table>\n",
       "</div>"
      ],
      "text/plain": [
       "    false   no   t   true   yes\n",
       "0       0    0   0      1     0\n",
       "1       0    0   0      1     0\n",
       "2       0    0   0      1     0\n",
       "3       0    0   0      1     0\n",
       "4       0    0   0      1     0"
      ]
     },
     "execution_count": 53,
     "metadata": {},
     "output_type": "execute_result"
    }
   ],
   "source": [
    "pd.get_dummies(df.creditCard, drop_first=True).head()"
   ]
  },
  {
   "cell_type": "markdown",
   "metadata": {},
   "source": [
    "## Explore Numerical Variables"
   ]
  },
  {
   "cell_type": "code",
   "execution_count": 54,
   "metadata": {},
   "outputs": [
    {
     "name": "stdout",
     "output_type": "stream",
     "text": [
      "There are 24 numerical variables\n",
      "\n",
      "The numerical variables are: ['customer', 'age', 'income', 'numHandsets', 'handsetAge', 'currentHandsetPrice', 'avgBill', 'avgMins', 'avgrecurringCharge', 'avgOverBundleMins', 'avgRoamCalls', 'callMinutesChangePct', 'billAmountChangePct', 'avgReceivedMins', 'avgOutCalls', 'avgInCalls', 'peakOffPeakRatio', 'peakOffPeakRatioChangePct', 'avgDroppedCalls', 'lifeTime', 'lastMonthCustomerCareCalls', 'numRetentionCalls', 'numRetentionOffersAccepted', 'newFrequentNumbers']\n"
     ]
    }
   ],
   "source": [
    "# Find numerical variables\n",
    "\n",
    "numerical = [var for var in df.columns if df[var].dtype !='O']\n",
    "\n",
    "print ('There are {} numerical variables\\n'.format(len(numerical)))\n",
    "\n",
    "print('The numerical variables are:', numerical)"
   ]
  },
  {
   "cell_type": "code",
   "execution_count": 55,
   "metadata": {},
   "outputs": [
    {
     "data": {
      "text/html": [
       "<div>\n",
       "<style scoped>\n",
       "    .dataframe tbody tr th:only-of-type {\n",
       "        vertical-align: middle;\n",
       "    }\n",
       "\n",
       "    .dataframe tbody tr th {\n",
       "        vertical-align: top;\n",
       "    }\n",
       "\n",
       "    .dataframe thead th {\n",
       "        text-align: right;\n",
       "    }\n",
       "</style>\n",
       "<table border=\"1\" class=\"dataframe\">\n",
       "  <thead>\n",
       "    <tr style=\"text-align: right;\">\n",
       "      <th></th>\n",
       "      <th>customer</th>\n",
       "      <th>age</th>\n",
       "      <th>income</th>\n",
       "      <th>numHandsets</th>\n",
       "      <th>handsetAge</th>\n",
       "      <th>currentHandsetPrice</th>\n",
       "      <th>avgBill</th>\n",
       "      <th>avgMins</th>\n",
       "      <th>avgrecurringCharge</th>\n",
       "      <th>avgOverBundleMins</th>\n",
       "      <th>...</th>\n",
       "      <th>avgOutCalls</th>\n",
       "      <th>avgInCalls</th>\n",
       "      <th>peakOffPeakRatio</th>\n",
       "      <th>peakOffPeakRatioChangePct</th>\n",
       "      <th>avgDroppedCalls</th>\n",
       "      <th>lifeTime</th>\n",
       "      <th>lastMonthCustomerCareCalls</th>\n",
       "      <th>numRetentionCalls</th>\n",
       "      <th>numRetentionOffersAccepted</th>\n",
       "      <th>newFrequentNumbers</th>\n",
       "    </tr>\n",
       "  </thead>\n",
       "  <tbody>\n",
       "    <tr>\n",
       "      <th>0</th>\n",
       "      <td>1000004</td>\n",
       "      <td>26</td>\n",
       "      <td>6</td>\n",
       "      <td>1</td>\n",
       "      <td>1812</td>\n",
       "      <td>0.00</td>\n",
       "      <td>38.00</td>\n",
       "      <td>7.50</td>\n",
       "      <td>38.00</td>\n",
       "      <td>0.00</td>\n",
       "      <td>...</td>\n",
       "      <td>0.33</td>\n",
       "      <td>0.00</td>\n",
       "      <td>0.362398</td>\n",
       "      <td>-6.330770</td>\n",
       "      <td>0.00</td>\n",
       "      <td>60</td>\n",
       "      <td>0.00</td>\n",
       "      <td>0</td>\n",
       "      <td>0</td>\n",
       "      <td>0</td>\n",
       "    </tr>\n",
       "    <tr>\n",
       "      <th>1</th>\n",
       "      <td>1000012</td>\n",
       "      <td>36</td>\n",
       "      <td>9</td>\n",
       "      <td>4</td>\n",
       "      <td>544</td>\n",
       "      <td>79.99</td>\n",
       "      <td>35.30</td>\n",
       "      <td>24.25</td>\n",
       "      <td>34.98</td>\n",
       "      <td>0.00</td>\n",
       "      <td>...</td>\n",
       "      <td>4.00</td>\n",
       "      <td>1.67</td>\n",
       "      <td>5.586826</td>\n",
       "      <td>7.499560</td>\n",
       "      <td>0.00</td>\n",
       "      <td>53</td>\n",
       "      <td>0.00</td>\n",
       "      <td>0</td>\n",
       "      <td>0</td>\n",
       "      <td>0</td>\n",
       "    </tr>\n",
       "    <tr>\n",
       "      <th>2</th>\n",
       "      <td>1000034</td>\n",
       "      <td>74</td>\n",
       "      <td>7</td>\n",
       "      <td>2</td>\n",
       "      <td>138</td>\n",
       "      <td>29.99</td>\n",
       "      <td>21.15</td>\n",
       "      <td>45.50</td>\n",
       "      <td>16.99</td>\n",
       "      <td>14.00</td>\n",
       "      <td>...</td>\n",
       "      <td>0.00</td>\n",
       "      <td>0.33</td>\n",
       "      <td>0.500000</td>\n",
       "      <td>-5.940493</td>\n",
       "      <td>4.33</td>\n",
       "      <td>58</td>\n",
       "      <td>0.00</td>\n",
       "      <td>0</td>\n",
       "      <td>0</td>\n",
       "      <td>3</td>\n",
       "    </tr>\n",
       "    <tr>\n",
       "      <th>3</th>\n",
       "      <td>1000063</td>\n",
       "      <td>30</td>\n",
       "      <td>6</td>\n",
       "      <td>3</td>\n",
       "      <td>122</td>\n",
       "      <td>9.99</td>\n",
       "      <td>91.18</td>\n",
       "      <td>332.75</td>\n",
       "      <td>75.00</td>\n",
       "      <td>0.00</td>\n",
       "      <td>...</td>\n",
       "      <td>9.00</td>\n",
       "      <td>4.67</td>\n",
       "      <td>8.629661</td>\n",
       "      <td>-0.066485</td>\n",
       "      <td>5.33</td>\n",
       "      <td>50</td>\n",
       "      <td>0.33</td>\n",
       "      <td>0</td>\n",
       "      <td>0</td>\n",
       "      <td>0</td>\n",
       "    </tr>\n",
       "    <tr>\n",
       "      <th>4</th>\n",
       "      <td>1000085</td>\n",
       "      <td>32</td>\n",
       "      <td>7</td>\n",
       "      <td>8</td>\n",
       "      <td>10</td>\n",
       "      <td>129.99</td>\n",
       "      <td>93.02</td>\n",
       "      <td>1348.25</td>\n",
       "      <td>75.00</td>\n",
       "      <td>4.75</td>\n",
       "      <td>...</td>\n",
       "      <td>59.33</td>\n",
       "      <td>23.00</td>\n",
       "      <td>14.042685</td>\n",
       "      <td>-7.208502</td>\n",
       "      <td>14.67</td>\n",
       "      <td>56</td>\n",
       "      <td>0.00</td>\n",
       "      <td>0</td>\n",
       "      <td>0</td>\n",
       "      <td>0</td>\n",
       "    </tr>\n",
       "  </tbody>\n",
       "</table>\n",
       "<p>5 rows × 24 columns</p>\n",
       "</div>"
      ],
      "text/plain": [
       "   customer  age  income  numHandsets  handsetAge  currentHandsetPrice  \\\n",
       "0   1000004   26       6            1        1812                 0.00   \n",
       "1   1000012   36       9            4         544                79.99   \n",
       "2   1000034   74       7            2         138                29.99   \n",
       "3   1000063   30       6            3         122                 9.99   \n",
       "4   1000085   32       7            8          10               129.99   \n",
       "\n",
       "   avgBill  avgMins  avgrecurringCharge  avgOverBundleMins  ...  avgOutCalls  \\\n",
       "0    38.00     7.50               38.00               0.00  ...         0.33   \n",
       "1    35.30    24.25               34.98               0.00  ...         4.00   \n",
       "2    21.15    45.50               16.99              14.00  ...         0.00   \n",
       "3    91.18   332.75               75.00               0.00  ...         9.00   \n",
       "4    93.02  1348.25               75.00               4.75  ...        59.33   \n",
       "\n",
       "   avgInCalls  peakOffPeakRatio  peakOffPeakRatioChangePct  avgDroppedCalls  \\\n",
       "0        0.00          0.362398                  -6.330770             0.00   \n",
       "1        1.67          5.586826                   7.499560             0.00   \n",
       "2        0.33          0.500000                  -5.940493             4.33   \n",
       "3        4.67          8.629661                  -0.066485             5.33   \n",
       "4       23.00         14.042685                  -7.208502            14.67   \n",
       "\n",
       "   lifeTime  lastMonthCustomerCareCalls  numRetentionCalls  \\\n",
       "0        60                        0.00                  0   \n",
       "1        53                        0.00                  0   \n",
       "2        58                        0.00                  0   \n",
       "3        50                        0.33                  0   \n",
       "4        56                        0.00                  0   \n",
       "\n",
       "   numRetentionOffersAccepted  newFrequentNumbers  \n",
       "0                           0                   0  \n",
       "1                           0                   0  \n",
       "2                           0                   3  \n",
       "3                           0                   0  \n",
       "4                           0                   0  \n",
       "\n",
       "[5 rows x 24 columns]"
      ]
     },
     "execution_count": 55,
     "metadata": {},
     "output_type": "execute_result"
    }
   ],
   "source": [
    "# view the numerical variables\n",
    "\n",
    "df[numerical].head()"
   ]
  },
  {
   "cell_type": "markdown",
   "metadata": {},
   "source": [
    "### Explore problems within numerical variables. There are 24 numerical values"
   ]
  },
  {
   "cell_type": "code",
   "execution_count": 57,
   "metadata": {},
   "outputs": [
    {
     "data": {
      "text/plain": [
       "customer                      0\n",
       "age                           0\n",
       "income                        0\n",
       "numHandsets                   0\n",
       "handsetAge                    0\n",
       "currentHandsetPrice           0\n",
       "avgBill                       0\n",
       "avgMins                       0\n",
       "avgrecurringCharge            0\n",
       "avgOverBundleMins             0\n",
       "avgRoamCalls                  0\n",
       "callMinutesChangePct          0\n",
       "billAmountChangePct           0\n",
       "avgReceivedMins               0\n",
       "avgOutCalls                   0\n",
       "avgInCalls                    0\n",
       "peakOffPeakRatio              0\n",
       "peakOffPeakRatioChangePct     0\n",
       "avgDroppedCalls               0\n",
       "lifeTime                      0\n",
       "lastMonthCustomerCareCalls    0\n",
       "numRetentionCalls             0\n",
       "numRetentionOffersAccepted    0\n",
       "newFrequentNumbers            0\n",
       "dtype: int64"
      ]
     },
     "execution_count": 57,
     "metadata": {},
     "output_type": "execute_result"
    }
   ],
   "source": [
    "# Check missing values in numerical variables\n",
    "\n",
    "df[numerical].isnull().sum()"
   ]
  },
  {
   "cell_type": "markdown",
   "metadata": {},
   "source": [
    "We can see that there are no missing values."
   ]
  },
  {
   "cell_type": "markdown",
   "metadata": {},
   "source": [
    "### Outliers in numerical variables\n",
    "- view summary statistics in numerical variables"
   ]
  },
  {
   "cell_type": "code",
   "execution_count": 58,
   "metadata": {},
   "outputs": [
    {
     "name": "stdout",
     "output_type": "stream",
     "text": [
      "        customer      age   income  numHandsets  handsetAge  \\\n",
      "count    10000.0  10000.0  10000.0      10000.0     10000.0   \n",
      "mean   1049974.0     30.0      4.0          2.0       390.0   \n",
      "std      28798.0     22.0      3.0          1.0       257.0   \n",
      "min    1000001.0      0.0      0.0          1.0        -5.0   \n",
      "25%    1025200.0      0.0      0.0          1.0       210.0   \n",
      "50%    1049833.0     34.0      5.0          1.0       339.0   \n",
      "75%    1074990.0     48.0      7.0          2.0       525.0   \n",
      "max    1099988.0     98.0      9.0         21.0      1812.0   \n",
      "\n",
      "       currentHandsetPrice  avgBill  avgMins  avgrecurringCharge  \\\n",
      "count              10000.0  10000.0  10000.0             10000.0   \n",
      "mean                  36.0     59.0    521.0                46.0   \n",
      "std                   57.0     44.0    540.0                24.0   \n",
      "min                    0.0      0.0      0.0                 0.0   \n",
      "25%                    0.0     33.0    151.0                30.0   \n",
      "50%                    0.0     49.0    360.0                45.0   \n",
      "75%                   60.0     72.0    709.0                60.0   \n",
      "max                  500.0    584.0   6336.0               338.0   \n",
      "\n",
      "       avgOverBundleMins  ...  avgOutCalls  avgInCalls  peakOffPeakRatio  \\\n",
      "count            10000.0  ...      10000.0     10000.0           10000.0   \n",
      "mean                42.0  ...         25.0         8.0               2.0   \n",
      "std                106.0  ...         36.0        18.0               4.0   \n",
      "min                  0.0  ...          0.0         0.0               0.0   \n",
      "25%                  0.0  ...          3.0         0.0               1.0   \n",
      "50%                  3.0  ...         13.0         2.0               1.0   \n",
      "75%                 44.0  ...         33.0         9.0               2.0   \n",
      "max               4321.0  ...        610.0       304.0             160.0   \n",
      "\n",
      "       peakOffPeakRatioChangePct  avgDroppedCalls  lifeTime  \\\n",
      "count                    10000.0          10000.0   10000.0   \n",
      "mean                        -0.0             10.0      19.0   \n",
      "std                         10.0             15.0      10.0   \n",
      "min                        -41.0              0.0       6.0   \n",
      "25%                         -7.0              2.0      11.0   \n",
      "50%                          0.0              5.0      17.0   \n",
      "75%                          6.0             13.0      24.0   \n",
      "max                         38.0            305.0      61.0   \n",
      "\n",
      "       lastMonthCustomerCareCalls  numRetentionCalls  \\\n",
      "count                     10000.0            10000.0   \n",
      "mean                          2.0                0.0   \n",
      "std                           6.0                0.0   \n",
      "min                           0.0                0.0   \n",
      "25%                           0.0                0.0   \n",
      "50%                           0.0                0.0   \n",
      "75%                           1.0                0.0   \n",
      "max                         366.0                4.0   \n",
      "\n",
      "       numRetentionOffersAccepted  newFrequentNumbers  \n",
      "count                     10000.0             10000.0  \n",
      "mean                          0.0                 0.0  \n",
      "std                           0.0                 1.0  \n",
      "min                           0.0                 0.0  \n",
      "25%                           0.0                 0.0  \n",
      "50%                           0.0                 0.0  \n",
      "75%                           0.0                 0.0  \n",
      "max                           4.0                 3.0  \n",
      "\n",
      "[8 rows x 24 columns] 2\n"
     ]
    }
   ],
   "source": [
    "print(round(df[numerical].describe()),2)"
   ]
  },
  {
   "cell_type": "markdown",
   "metadata": {},
   "source": [
    "### Figure 1. Draw boxplots to visualize outliers"
   ]
  },
  {
   "cell_type": "code",
   "execution_count": 59,
   "metadata": {},
   "outputs": [
    {
     "data": {
      "text/plain": [
       "Text(0, 0.5, 'avgBill')"
      ]
     },
     "execution_count": 59,
     "metadata": {},
     "output_type": "execute_result"
    },
    {
     "data": {
      "image/png": "[encoded data removed]",
      "text/plain": [
       "<Figure size 1080x720 with 4 Axes>"
      ]
     },
     "metadata": {
      "needs_background": "light"
     },
     "output_type": "display_data"
    }
   ],
   "source": [
    "plt.figure(figsize=(15,10))\n",
    "\n",
    "plt.subplot(2, 2, 1)\n",
    "fig = df.boxplot(column='numHandsets')\n",
    "fig.set_title('')\n",
    "fig.set_ylabel('numHandsets')\n",
    "\n",
    "plt.subplot(2, 2, 2)\n",
    "fig = df.boxplot(column='handsetAge')\n",
    "fig.set_title('')\n",
    "fig.set_ylabel('handsetAge')\n",
    "\n",
    "plt.subplot(2, 2, 3)\n",
    "fig = df.boxplot(column='currentHandsetPrice')\n",
    "fig.set_title('')\n",
    "fig.set_ylabel('currentHandsetPrice')\n",
    "\n",
    "plt.subplot(2, 2, 4)\n",
    "fig = df.boxplot(column='avgBill')\n",
    "fig.set_title('')\n",
    "fig.set_ylabel('avgBill')"
   ]
  },
  {
   "cell_type": "markdown",
   "metadata": {},
   "source": [
    "### Figure 2. Draw boxplots to visualize outliers"
   ]
  },
  {
   "cell_type": "code",
   "execution_count": 60,
   "metadata": {},
   "outputs": [
    {
     "data": {
      "text/plain": [
       "Text(0, 0.5, 'avgOutCalls')"
      ]
     },
     "execution_count": 60,
     "metadata": {},
     "output_type": "execute_result"
    },
    {
     "data": {
      "image/png": "[encoded data removed]",
      "text/plain": [
       "<Figure size 1080x720 with 4 Axes>"
      ]
     },
     "metadata": {
      "needs_background": "light"
     },
     "output_type": "display_data"
    }
   ],
   "source": [
    "plt.figure(figsize=(15,10))\n",
    "\n",
    "plt.subplot(2, 2, 1)\n",
    "fig = df.boxplot(column='avgMins')\n",
    "fig.set_title('')\n",
    "fig.set_ylabel('avgMins')\n",
    "\n",
    "plt.subplot(2, 2, 2)\n",
    "fig = df.boxplot(column='avgrecurringCharge')\n",
    "fig.set_title('')\n",
    "fig.set_ylabel('avgrecurringCharge')\n",
    "\n",
    "plt.subplot(2, 2, 3)\n",
    "fig = df.boxplot(column='avgOverBundleMins')\n",
    "fig.set_title('')\n",
    "fig.set_ylabel('avgOverBundleMins')\n",
    "\n",
    "plt.subplot(2, 2, 4)\n",
    "fig = df.boxplot(column='avgOutCalls')\n",
    "fig.set_title('')\n",
    "fig.set_ylabel('avgOutCalls')"
   ]
  },
  {
   "cell_type": "markdown",
   "metadata": {},
   "source": [
    "### Figure 3. Draw boxplots to visualize outliers"
   ]
  },
  {
   "cell_type": "code",
   "execution_count": 61,
   "metadata": {},
   "outputs": [
    {
     "data": {
      "text/plain": [
       "Text(0, 0.5, 'lastMonthCustomerCareCalls')"
      ]
     },
     "execution_count": 61,
     "metadata": {},
     "output_type": "execute_result"
    },
    {
     "data": {
      "image/png": "[encoded data removed]",
      "text/plain": [
       "<Figure size 1080x720 with 4 Axes>"
      ]
     },
     "metadata": {
      "needs_background": "light"
     },
     "output_type": "display_data"
    }
   ],
   "source": [
    "plt.figure(figsize=(15,10))\n",
    "\n",
    "plt.subplot(2, 2, 1)\n",
    "fig = df.boxplot(column='avgInCalls')\n",
    "fig.set_title('')\n",
    "fig.set_ylabel('avgInCalls')\n",
    "\n",
    "plt.subplot(2, 2, 2)\n",
    "fig = df.boxplot(column='peakOffPeakRatio')\n",
    "fig.set_title('')\n",
    "fig.set_ylabel('peakOffPeakRatio')\n",
    "\n",
    "plt.subplot(2, 2, 3)\n",
    "fig = df.boxplot(column='avgDroppedCalls')\n",
    "fig.set_title('')\n",
    "fig.set_ylabel('avgDroppedCalls')\n",
    "\n",
    "plt.subplot(2, 2, 4)\n",
    "fig = df.boxplot(column='lastMonthCustomerCareCalls')\n",
    "fig.set_title('')\n",
    "fig.set_ylabel('lastMonthCustomerCareCalls')\n",
    "    "
   ]
  },
  {
   "cell_type": "markdown",
   "metadata": {},
   "source": [
    "The above boxplots confirm that there are lot of outliers in these variables."
   ]
  },
  {
   "cell_type": "markdown",
   "metadata": {},
   "source": [
    "### Check the distribution of variables\n",
    "- Now, I will plot the histograms to check distributions to find out if they are normal or skewed.\n",
    "- If the variable follows normal distribution, then I will do Extreme Value Analysis.\n",
    "- Otherwise if they are skewed, I will find IQR (Interquantile range)."
   ]
  },
  {
   "cell_type": "markdown",
   "metadata": {},
   "source": [
    "### Diagram 1. Plot histogram to check distribution"
   ]
  },
  {
   "cell_type": "code",
   "execution_count": 63,
   "metadata": {},
   "outputs": [
    {
     "data": {
      "text/plain": [
       "Text(0, 0.5, 'churn')"
      ]
     },
     "execution_count": 63,
     "metadata": {},
     "output_type": "execute_result"
    },
    {
     "data": {
      "image/png": "[encoded data removed]",
      "text/plain": [
       "<Figure size 1080x720 with 4 Axes>"
      ]
     },
     "metadata": {
      "needs_background": "light"
     },
     "output_type": "display_data"
    }
   ],
   "source": [
    "plt.figure(figsize=(15,10))\n",
    "\n",
    "plt.subplot(2, 2, 1)\n",
    "fig = df.numHandsets.hist(bins=10)\n",
    "fig.set_xlabel('numHandsets')\n",
    "fig.set_ylabel('churn')\n",
    "\n",
    "plt.subplot(2, 2, 2)\n",
    "fig = df.handsetAge.hist(bins=10)\n",
    "fig.set_xlabel('handsetAge')\n",
    "fig.set_ylabel('churn')\n",
    "\n",
    "plt.subplot(2, 2, 3)\n",
    "fig = df.currentHandsetPrice.hist(bins=10)\n",
    "fig.set_xlabel('currentHandsetPrice')\n",
    "fig.set_ylabel('churn')\n",
    "\n",
    "plt.subplot(2, 2, 4)\n",
    "fig = df.avgBill.hist(bins=10)\n",
    "fig.set_xlabel('avgBill')\n",
    "fig.set_ylabel('churn')"
   ]
  },
  {
   "cell_type": "markdown",
   "metadata": {},
   "source": [
    "### Diagram 2. Plot histogram to check distribution"
   ]
  },
  {
   "cell_type": "code",
   "execution_count": 64,
   "metadata": {},
   "outputs": [
    {
     "data": {
      "text/plain": [
       "Text(0, 0.5, 'churn')"
      ]
     },
     "execution_count": 64,
     "metadata": {},
     "output_type": "execute_result"
    },
    {
     "data": {
      "image/png": "[encoded data removed]",
      "text/plain": [
       "<Figure size 1080x720 with 4 Axes>"
      ]
     },
     "metadata": {
      "needs_background": "light"
     },
     "output_type": "display_data"
    }
   ],
   "source": [
    "plt.figure(figsize=(15,10))\n",
    "\n",
    "plt.subplot(2, 2, 1)\n",
    "fig = df.avgMins.hist(bins=10)\n",
    "fig.set_xlabel('avgMins')\n",
    "fig.set_ylabel('churn')\n",
    "\n",
    "plt.subplot(2, 2, 2)\n",
    "fig = df.avgrecurringCharge.hist(bins=10)\n",
    "fig.set_xlabel('avgrecurringCharge')\n",
    "fig.set_ylabel('churn')\n",
    "\n",
    "plt.subplot(2, 2, 3)\n",
    "fig = df.avgOverBundleMins.hist(bins=10)\n",
    "fig.set_xlabel('avgOverBundleMins')\n",
    "fig.set_ylabel('churn')\n",
    "\n",
    "plt.subplot(2, 2, 4)\n",
    "fig = df.avgOutCalls.hist(bins=10)\n",
    "fig.set_xlabel('avgOutCalls')\n",
    "fig.set_ylabel('churn')"
   ]
  },
  {
   "cell_type": "markdown",
   "metadata": {},
   "source": [
    "### Diagram 3. Plot histogram to check distribution"
   ]
  },
  {
   "cell_type": "code",
   "execution_count": 65,
   "metadata": {},
   "outputs": [
    {
     "data": {
      "text/plain": [
       "Text(0, 0.5, 'churn')"
      ]
     },
     "execution_count": 65,
     "metadata": {},
     "output_type": "execute_result"
    },
    {
     "data": {
      "image/png": "[encoded data removed]",
      "text/plain": [
       "<Figure size 1080x720 with 4 Axes>"
      ]
     },
     "metadata": {
      "needs_background": "light"
     },
     "output_type": "display_data"
    }
   ],
   "source": [
    "plt.figure(figsize=(15,10))\n",
    "\n",
    "plt.subplot(2, 2, 1)\n",
    "fig = df.avgInCalls.hist(bins=10)\n",
    "fig.set_xlabel('avgInCalls')\n",
    "fig.set_ylabel('churn')\n",
    "\n",
    "plt.subplot(2, 2, 2)\n",
    "fig = df.peakOffPeakRatio.hist(bins=10)\n",
    "fig.set_xlabel('peakOffPeakRatio')\n",
    "fig.set_ylabel('churn')\n",
    "\n",
    "plt.subplot(2, 2, 3)\n",
    "fig = df.avgDroppedCalls.hist(bins=10)\n",
    "fig.set_xlabel('avgDroppedCalls')\n",
    "fig.set_ylabel('churn')\n",
    "\n",
    "\n",
    "plt.subplot(2, 2, 4)\n",
    "fig = df.lastMonthCustomerCareCalls.hist(bins=10)\n",
    "fig.set_xlabel('lastMonthCustomerCareCalls')\n",
    "fig.set_ylabel('churn')"
   ]
  },
  {
   "cell_type": "markdown",
   "metadata": {},
   "source": [
    "We can see that all the 12 variables are skewed. So, I will use interquantile range to find outliers."
   ]
  },
  {
   "cell_type": "markdown",
   "metadata": {},
   "source": [
    "### Find outliers for numHandsets variable"
   ]
  },
  {
   "cell_type": "code",
   "execution_count": 66,
   "metadata": {},
   "outputs": [
    {
     "name": "stdout",
     "output_type": "stream",
     "text": [
      "numHandsets outliers are values < -2.0 or > 5.0\n"
     ]
    }
   ],
   "source": [
    "IQR = df.numHandsets.quantile(0.75) - df.numHandsets.quantile(0.25)\n",
    "Lower_fence = df.numHandsets.quantile(0.25) - (IQR * 3)\n",
    "Upper_fence = df.numHandsets.quantile(0.75) + (IQR * 3)\n",
    "print('numHandsets outliers are values < {lowerboundary} or > {upperboundary}'.format(lowerboundary=Lower_fence, upperboundary=Upper_fence))"
   ]
  },
  {
   "cell_type": "markdown",
   "metadata": {},
   "source": [
    "For numHandsets, the minimum and maximum values are 1.0 and 21.0. So, the outliers are values > 5.0."
   ]
  },
  {
   "cell_type": "markdown",
   "metadata": {},
   "source": [
    "### Find outliers for handsetAge variable"
   ]
  },
  {
   "cell_type": "code",
   "execution_count": 67,
   "metadata": {},
   "outputs": [
    {
     "name": "stdout",
     "output_type": "stream",
     "text": [
      "numHandsets outliers are values < -735.0 or > 1470.0\n"
     ]
    }
   ],
   "source": [
    "IQR = df.handsetAge.quantile(0.75) - df.handsetAge.quantile(0.25)\n",
    "Lower_fence = df.handsetAge.quantile(0.25) - (IQR * 3)\n",
    "Upper_fence = df.handsetAge.quantile(0.75) + (IQR * 3)\n",
    "print('numHandsets outliers are values < {lowerboundary} or > {upperboundary}'.format(lowerboundary=Lower_fence, upperboundary=Upper_fence))"
   ]
  },
  {
   "cell_type": "markdown",
   "metadata": {},
   "source": [
    "### Find outliers for urrentHandsetPrice variable"
   ]
  },
  {
   "cell_type": "code",
   "execution_count": 68,
   "metadata": {},
   "outputs": [
    {
     "name": "stdout",
     "output_type": "stream",
     "text": [
      "currentHandsetPrice outliers are values < -179.97 or > 239.96\n"
     ]
    }
   ],
   "source": [
    "IQR = df.currentHandsetPrice.quantile(0.75) - df.currentHandsetPrice.quantile(0.25)\n",
    "Lower_fence = df.currentHandsetPrice.quantile(0.25) - (IQR * 3)\n",
    "Upper_fence = df.currentHandsetPrice.quantile(0.75) + (IQR * 3)\n",
    "print('currentHandsetPrice outliers are values < {lowerboundary} or > {upperboundary}'.format(lowerboundary=Lower_fence, upperboundary=Upper_fence))"
   ]
  },
  {
   "cell_type": "markdown",
   "metadata": {},
   "source": [
    "### Find outliers for avgBill variable"
   ]
  },
  {
   "cell_type": "code",
   "execution_count": 69,
   "metadata": {},
   "outputs": [
    {
     "name": "stdout",
     "output_type": "stream",
     "text": [
      "avgBill outliers are values < -81.9775 or > 187.0675\n"
     ]
    }
   ],
   "source": [
    "IQR = df.avgBill.quantile(0.75) - df.avgBill.quantile(0.25)\n",
    "Lower_fence = df.avgBill.quantile(0.25) - (IQR * 3)\n",
    "Upper_fence = df.avgBill.quantile(0.75) + (IQR * 3)\n",
    "print('avgBill outliers are values < {lowerboundary} or > {upperboundary}'.format(lowerboundary=Lower_fence, upperboundary=Upper_fence))"
   ]
  },
  {
   "cell_type": "markdown",
   "metadata": {},
   "source": [
    "### Find outliers for avgMins variable"
   ]
  },
  {
   "cell_type": "code",
   "execution_count": 70,
   "metadata": {},
   "outputs": [
    {
     "name": "stdout",
     "output_type": "stream",
     "text": [
      "avgBill outliers are values < -1525.0524999999998 or > 2384.8675\n"
     ]
    }
   ],
   "source": [
    "IQR = df.avgMins.quantile(0.75) - df.avgMins.quantile(0.25)\n",
    "Lower_fence = df.avgMins.quantile(0.25) - (IQR * 3)\n",
    "Upper_fence = df.avgMins.quantile(0.75) + (IQR * 3)\n",
    "print('avgBill outliers are values < {lowerboundary} or > {upperboundary}'.format(lowerboundary=Lower_fence, upperboundary=Upper_fence))"
   ]
  },
  {
   "cell_type": "markdown",
   "metadata": {},
   "source": [
    "### Find outliers for avgrecurringCharge variable"
   ]
  },
  {
   "cell_type": "code",
   "execution_count": 71,
   "metadata": {},
   "outputs": [
    {
     "name": "stdout",
     "output_type": "stream",
     "text": [
      "avgBill outliers are values < -59.97 or > 149.96\n"
     ]
    }
   ],
   "source": [
    "IQR = df.avgrecurringCharge.quantile(0.75) - df.avgrecurringCharge.quantile(0.25)\n",
    "Lower_fence = df.avgrecurringCharge.quantile(0.25) - (IQR * 3)\n",
    "Upper_fence = df.avgrecurringCharge.quantile(0.75) + (IQR * 3)\n",
    "print('avgBill outliers are values < {lowerboundary} or > {upperboundary}'.format(lowerboundary=Lower_fence, upperboundary=Upper_fence))"
   ]
  },
  {
   "cell_type": "markdown",
   "metadata": {},
   "source": [
    "### Find outliers for avgOverBundleMins variable"
   ]
  },
  {
   "cell_type": "code",
   "execution_count": 72,
   "metadata": {},
   "outputs": [
    {
     "name": "stdout",
     "output_type": "stream",
     "text": [
      "avgBill outliers are values < -131.25 or > 175.0\n"
     ]
    }
   ],
   "source": [
    "IQR = df.avgOverBundleMins.quantile(0.75) - df.avgOverBundleMins.quantile(0.25)\n",
    "Lower_fence = df.avgOverBundleMins.quantile(0.25) - (IQR * 3)\n",
    "Upper_fence = df.avgOverBundleMins.quantile(0.75) + (IQR * 3)\n",
    "print('avgBill outliers are values < {lowerboundary} or > {upperboundary}'.format(lowerboundary=Lower_fence, upperboundary=Upper_fence))"
   ]
  },
  {
   "cell_type": "markdown",
   "metadata": {},
   "source": [
    "### Find outliers for avgOutCalls variable"
   ]
  },
  {
   "cell_type": "code",
   "execution_count": 73,
   "metadata": {},
   "outputs": [
    {
     "name": "stdout",
     "output_type": "stream",
     "text": [
      "avgBill outliers are values < -87.99 or > 124.32\n"
     ]
    }
   ],
   "source": [
    "IQR = df.avgOutCalls.quantile(0.75) - df.avgOutCalls.quantile(0.25)\n",
    "Lower_fence = df.avgOutCalls.quantile(0.25) - (IQR * 3)\n",
    "Upper_fence = df.avgOutCalls.quantile(0.75) + (IQR * 3)\n",
    "print('avgBill outliers are values < {lowerboundary} or > {upperboundary}'.format(lowerboundary=Lower_fence, upperboundary=Upper_fence))"
   ]
  },
  {
   "cell_type": "markdown",
   "metadata": {},
   "source": [
    "### Find outliers for avgInCalls variable"
   ]
  },
  {
   "cell_type": "code",
   "execution_count": 74,
   "metadata": {},
   "outputs": [
    {
     "name": "stdout",
     "output_type": "stream",
     "text": [
      "avgBill outliers are values < -27.0 or > 36.0\n"
     ]
    }
   ],
   "source": [
    "IQR = df.avgInCalls.quantile(0.75) - df.avgInCalls.quantile(0.25)\n",
    "Lower_fence = df.avgInCalls.quantile(0.25) - (IQR * 3)\n",
    "Upper_fence = df.avgInCalls.quantile(0.75) + (IQR * 3)\n",
    "print('avgBill outliers are values < {lowerboundary} or > {upperboundary}'.format(lowerboundary=Lower_fence, upperboundary=Upper_fence))"
   ]
  },
  {
   "cell_type": "markdown",
   "metadata": {},
   "source": [
    "### Find outliers for peakOffPeakRatio variable"
   ]
  },
  {
   "cell_type": "code",
   "execution_count": 75,
   "metadata": {},
   "outputs": [
    {
     "name": "stdout",
     "output_type": "stream",
     "text": [
      "avgBill outliers are values < -4.3652702015000004 or > 7.638859492000001\n"
     ]
    }
   ],
   "source": [
    "IQR = df.peakOffPeakRatio.quantile(0.75) - df.peakOffPeakRatio.quantile(0.25)\n",
    "Lower_fence = df.peakOffPeakRatio.quantile(0.25) - (IQR * 3)\n",
    "Upper_fence = df.peakOffPeakRatio.quantile(0.75) + (IQR * 3)\n",
    "print('avgBill outliers are values < {lowerboundary} or > {upperboundary}'.format(lowerboundary=Lower_fence, upperboundary=Upper_fence))"
   ]
  },
  {
   "cell_type": "markdown",
   "metadata": {},
   "source": [
    "### Find outliers for avgDroppedCalls variable"
   ]
  },
  {
   "cell_type": "code",
   "execution_count": 76,
   "metadata": {},
   "outputs": [
    {
     "name": "stdout",
     "output_type": "stream",
     "text": [
      "avgBill outliers are values < -31.33 or > 45.67\n"
     ]
    }
   ],
   "source": [
    "IQR = df.avgDroppedCalls.quantile(0.75) - df.avgDroppedCalls.quantile(0.25)\n",
    "Lower_fence = df.avgDroppedCalls.quantile(0.25) - (IQR * 3)\n",
    "Upper_fence = df.avgDroppedCalls.quantile(0.75) + (IQR * 3)\n",
    "print('avgBill outliers are values < {lowerboundary} or > {upperboundary}'.format(lowerboundary=Lower_fence, upperboundary=Upper_fence))"
   ]
  },
  {
   "cell_type": "markdown",
   "metadata": {},
   "source": [
    "### Find outliers for lastMonthCustomerCareCalls variable"
   ]
  },
  {
   "cell_type": "code",
   "execution_count": 77,
   "metadata": {},
   "outputs": [
    {
     "name": "stdout",
     "output_type": "stream",
     "text": [
      "avgBill outliers are values < -3.99 or > 5.32\n"
     ]
    }
   ],
   "source": [
    "IQR = df.lastMonthCustomerCareCalls.quantile(0.75) - df.lastMonthCustomerCareCalls.quantile(0.25)\n",
    "Lower_fence = df.lastMonthCustomerCareCalls.quantile(0.25) - (IQR * 3)\n",
    "Upper_fence = df.lastMonthCustomerCareCalls.quantile(0.75) + (IQR * 3)\n",
    "print('avgBill outliers are values < {lowerboundary} or > {upperboundary}'.format(lowerboundary=Lower_fence, upperboundary=Upper_fence))"
   ]
  },
  {
   "cell_type": "markdown",
   "metadata": {},
   "source": [
    "# SECTION 8. Declare Feature Vector and Target Variable"
   ]
  },
  {
   "cell_type": "markdown",
   "metadata": {},
   "source": [
    "X is the data file after eliminating column churn.\n",
    "Extract the RainTomorrow column to y-target variable"
   ]
  },
  {
   "cell_type": "code",
   "execution_count": 78,
   "metadata": {},
   "outputs": [],
   "source": [
    "X = df.drop(['customer', 'churn'], axis=1) \n",
    "\n",
    "y = df['churn']"
   ]
  },
  {
   "cell_type": "code",
   "execution_count": 79,
   "metadata": {},
   "outputs": [
    {
     "data": {
      "text/plain": [
       "0     false\n",
       "1     false\n",
       "2     false\n",
       "3     false\n",
       "4     false\n",
       "Name: churn, dtype: object"
      ]
     },
     "execution_count": 79,
     "metadata": {},
     "output_type": "execute_result"
    }
   ],
   "source": [
    "y.head()"
   ]
  },
  {
   "cell_type": "code",
   "execution_count": 80,
   "metadata": {},
   "outputs": [
    {
     "data": {
      "text/plain": [
       " false    5000\n",
       " true     5000\n",
       "Name: churn, dtype: int64"
      ]
     },
     "execution_count": 80,
     "metadata": {},
     "output_type": "execute_result"
    }
   ],
   "source": [
    "y.value_counts()"
   ]
  },
  {
   "cell_type": "markdown",
   "metadata": {},
   "source": [
    "The dataset is prefectly balanced"
   ]
  },
  {
   "cell_type": "markdown",
   "metadata": {},
   "source": [
    "# SECTION 9. Train_test_Split. Split data into separate training and test set"
   ]
  },
  {
   "cell_type": "code",
   "execution_count": 81,
   "metadata": {},
   "outputs": [],
   "source": [
    "# Split X and y into training and testing sets\n",
    "\n",
    "from sklearn.model_selection import train_test_split\n",
    "\n",
    "X_train, X_test, y_train, y_test = train_test_split(X, y, test_size = 0.2, random_state = 0)"
   ]
  },
  {
   "cell_type": "code",
   "execution_count": 82,
   "metadata": {},
   "outputs": [
    {
     "data": {
      "text/plain": [
       "((8000, 31), (2000, 31))"
      ]
     },
     "execution_count": 82,
     "metadata": {},
     "output_type": "execute_result"
    }
   ],
   "source": [
    "# Check the shape of X_train and X_test\n",
    "\n",
    "X_train.shape, X_test.shape"
   ]
  },
  {
   "cell_type": "markdown",
   "metadata": {},
   "source": [
    "# SECTION 10. Feature Engineering"
   ]
  },
  {
   "cell_type": "markdown",
   "metadata": {},
   "source": [
    "### Feature Engineering is the process of transforming raw data into useful features that help us to understand our model better and increase its predictive power.\n",
    "### I will carry out feature engineering on different types of variables.\n",
    "### First, I will display the categorical and numerical variables again separately."
   ]
  },
  {
   "cell_type": "markdown",
   "metadata": {},
   "source": [
    "### Check data types in X_train"
   ]
  },
  {
   "cell_type": "code",
   "execution_count": 83,
   "metadata": {},
   "outputs": [
    {
     "data": {
      "text/plain": [
       "age                             int64\n",
       "occupation                     object\n",
       "regionType                     object\n",
       "marriageStatus                 object\n",
       "children                       object\n",
       "income                          int64\n",
       "numHandsets                     int64\n",
       "handsetAge                      int64\n",
       "smartPhone                     object\n",
       "currentHandsetPrice           float64\n",
       "creditRating                   object\n",
       "homeOwner                      object\n",
       "creditCard                     object\n",
       "avgBill                       float64\n",
       "avgMins                       float64\n",
       "avgrecurringCharge            float64\n",
       "avgOverBundleMins             float64\n",
       "avgRoamCalls                  float64\n",
       "callMinutesChangePct          float64\n",
       "billAmountChangePct           float64\n",
       "avgReceivedMins               float64\n",
       "avgOutCalls                   float64\n",
       "avgInCalls                    float64\n",
       "peakOffPeakRatio              float64\n",
       "peakOffPeakRatioChangePct     float64\n",
       "avgDroppedCalls               float64\n",
       "lifeTime                        int64\n",
       "lastMonthCustomerCareCalls    float64\n",
       "numRetentionCalls               int64\n",
       "numRetentionOffersAccepted      int64\n",
       "newFrequentNumbers              int64\n",
       "dtype: object"
      ]
     },
     "execution_count": 83,
     "metadata": {},
     "output_type": "execute_result"
    }
   ],
   "source": [
    "X_train.dtypes"
   ]
  },
  {
   "cell_type": "code",
   "execution_count": 84,
   "metadata": {},
   "outputs": [
    {
     "data": {
      "text/plain": [
       "898      false\n",
       "2398     false\n",
       "5906      true\n",
       "2343     false\n",
       "8225      true\n",
       "5506      true\n",
       "6451      true\n",
       "2670     false\n",
       "3497     false\n",
       "Name: churn, dtype: object"
      ]
     },
     "execution_count": 84,
     "metadata": {},
     "output_type": "execute_result"
    }
   ],
   "source": [
    "y_test[1:10]"
   ]
  },
  {
   "cell_type": "code",
   "execution_count": 85,
   "metadata": {},
   "outputs": [
    {
     "data": {
      "text/plain": [
       "count       8000\n",
       "unique         2\n",
       "top        false\n",
       "freq        4012\n",
       "Name: churn, dtype: object"
      ]
     },
     "execution_count": 85,
     "metadata": {},
     "output_type": "execute_result"
    }
   ],
   "source": [
    "y_train.describe()"
   ]
  },
  {
   "cell_type": "code",
   "execution_count": 86,
   "metadata": {},
   "outputs": [
    {
     "data": {
      "text/plain": [
       "7389      true\n",
       "9275      true\n",
       "2995     false\n",
       "5316      true\n",
       "356      false\n",
       "Name: churn, dtype: object"
      ]
     },
     "execution_count": 86,
     "metadata": {},
     "output_type": "execute_result"
    }
   ],
   "source": [
    "y_train.head()"
   ]
  },
  {
   "cell_type": "code",
   "execution_count": 87,
   "metadata": {},
   "outputs": [
    {
     "data": {
      "text/plain": [
       "['occupation',\n",
       " 'regionType',\n",
       " 'marriageStatus',\n",
       " 'children',\n",
       " 'smartPhone',\n",
       " 'creditRating',\n",
       " 'homeOwner',\n",
       " 'creditCard']"
      ]
     },
     "execution_count": 87,
     "metadata": {},
     "output_type": "execute_result"
    }
   ],
   "source": [
    "# display categorical variables\n",
    "\n",
    "categorical = [col for col in X_train.columns if X_train[col].dtypes == 'O']\n",
    "\n",
    "categorical"
   ]
  },
  {
   "cell_type": "markdown",
   "metadata": {},
   "source": [
    "### Display numerical variables"
   ]
  },
  {
   "cell_type": "code",
   "execution_count": 88,
   "metadata": {},
   "outputs": [
    {
     "data": {
      "text/plain": [
       "['age',\n",
       " 'income',\n",
       " 'numHandsets',\n",
       " 'handsetAge',\n",
       " 'currentHandsetPrice',\n",
       " 'avgBill',\n",
       " 'avgMins',\n",
       " 'avgrecurringCharge',\n",
       " 'avgOverBundleMins',\n",
       " 'avgRoamCalls',\n",
       " 'callMinutesChangePct',\n",
       " 'billAmountChangePct',\n",
       " 'avgReceivedMins',\n",
       " 'avgOutCalls',\n",
       " 'avgInCalls',\n",
       " 'peakOffPeakRatio',\n",
       " 'peakOffPeakRatioChangePct',\n",
       " 'avgDroppedCalls',\n",
       " 'lifeTime',\n",
       " 'lastMonthCustomerCareCalls',\n",
       " 'numRetentionCalls',\n",
       " 'numRetentionOffersAccepted',\n",
       " 'newFrequentNumbers']"
      ]
     },
     "execution_count": 88,
     "metadata": {},
     "output_type": "execute_result"
    }
   ],
   "source": [
    "numerical = [col for col in X_train.columns if X_train[col].dtypes != 'O']\n",
    "\n",
    "numerical"
   ]
  },
  {
   "cell_type": "code",
   "execution_count": 89,
   "metadata": {},
   "outputs": [
    {
     "data": {
      "text/plain": [
       "age                           0\n",
       "income                        0\n",
       "numHandsets                   0\n",
       "handsetAge                    0\n",
       "currentHandsetPrice           0\n",
       "avgBill                       0\n",
       "avgMins                       0\n",
       "avgrecurringCharge            0\n",
       "avgOverBundleMins             0\n",
       "avgRoamCalls                  0\n",
       "callMinutesChangePct          0\n",
       "billAmountChangePct           0\n",
       "avgReceivedMins               0\n",
       "avgOutCalls                   0\n",
       "avgInCalls                    0\n",
       "peakOffPeakRatio              0\n",
       "peakOffPeakRatioChangePct     0\n",
       "avgDroppedCalls               0\n",
       "lifeTime                      0\n",
       "lastMonthCustomerCareCalls    0\n",
       "numRetentionCalls             0\n",
       "numRetentionOffersAccepted    0\n",
       "newFrequentNumbers            0\n",
       "dtype: int64"
      ]
     },
     "execution_count": 89,
     "metadata": {},
     "output_type": "execute_result"
    }
   ],
   "source": [
    "# Engineering missing values in numerical variables.\n",
    "# Check missing values in numerical variables in X_train\n",
    "\n",
    "X_train[numerical].isnull().sum()"
   ]
  },
  {
   "cell_type": "code",
   "execution_count": 90,
   "metadata": {},
   "outputs": [
    {
     "data": {
      "text/plain": [
       "0"
      ]
     },
     "execution_count": 90,
     "metadata": {},
     "output_type": "execute_result"
    }
   ],
   "source": [
    "# Check missing values in numerical variables in y_train\n",
    "\n",
    "y_train.isnull().sum()"
   ]
  },
  {
   "cell_type": "code",
   "execution_count": 91,
   "metadata": {},
   "outputs": [
    {
     "data": {
      "text/plain": [
       "age                           0\n",
       "income                        0\n",
       "numHandsets                   0\n",
       "handsetAge                    0\n",
       "currentHandsetPrice           0\n",
       "avgBill                       0\n",
       "avgMins                       0\n",
       "avgrecurringCharge            0\n",
       "avgOverBundleMins             0\n",
       "avgRoamCalls                  0\n",
       "callMinutesChangePct          0\n",
       "billAmountChangePct           0\n",
       "avgReceivedMins               0\n",
       "avgOutCalls                   0\n",
       "avgInCalls                    0\n",
       "peakOffPeakRatio              0\n",
       "peakOffPeakRatioChangePct     0\n",
       "avgDroppedCalls               0\n",
       "lifeTime                      0\n",
       "lastMonthCustomerCareCalls    0\n",
       "numRetentionCalls             0\n",
       "numRetentionOffersAccepted    0\n",
       "newFrequentNumbers            0\n",
       "dtype: int64"
      ]
     },
     "execution_count": 91,
     "metadata": {},
     "output_type": "execute_result"
    }
   ],
   "source": [
    "# check missing values in numerical variables in X_test\n",
    "\n",
    "X_test[numerical].isnull().sum()"
   ]
  },
  {
   "cell_type": "code",
   "execution_count": 92,
   "metadata": {},
   "outputs": [
    {
     "data": {
      "text/plain": [
       "0"
      ]
     },
     "execution_count": 92,
     "metadata": {},
     "output_type": "execute_result"
    }
   ],
   "source": [
    "# Check missing values in numerical variables in y_test\n",
    "\n",
    "y_test.isnull().sum()"
   ]
  },
  {
   "cell_type": "markdown",
   "metadata": {},
   "source": [
    "### Assumption\n",
    "- We assume that the data are missing completely at random (MCAR). There are two methods which can be used to impute missing\n",
    "values. One is mean or median imputation and other one is random sample imputation. When there are outliers in the dataset,\n",
    "we should use median imputation. So, I will use median imputation because median imputation is robust to outliers.\n",
    "\n",
    "- We will impute missing values with the appropriate statistical measures of the data, in this case median.\n",
    "Imputation should be done over the training set, and then propagated to the test set. It means that the statistical\n",
    "measures to be used to fill missing values both in train and test set, should be extracted from the train set only.\n",
    "This is to avoid overfitting."
   ]
  },
  {
   "cell_type": "markdown",
   "metadata": {},
   "source": [
    "Impute missing values in X_train and X_test with respective column median in X_train.\n",
    "There are no missing values"
   ]
  },
  {
   "cell_type": "code",
   "execution_count": null,
   "metadata": {},
   "outputs": [],
   "source": [
    "# for df1 in [X_train, X_test]:\n",
    "#    for col in numerical:\n",
    "#         col_median=X_train[col].median()\n",
    "#         df1[col].fillna(col_median, inplace=True)     "
   ]
  },
  {
   "cell_type": "code",
   "execution_count": 96,
   "metadata": {},
   "outputs": [
    {
     "data": {
      "text/plain": [
       "age                           0\n",
       "income                        0\n",
       "numHandsets                   0\n",
       "handsetAge                    0\n",
       "currentHandsetPrice           0\n",
       "avgBill                       0\n",
       "avgMins                       0\n",
       "avgrecurringCharge            0\n",
       "avgOverBundleMins             0\n",
       "avgRoamCalls                  0\n",
       "callMinutesChangePct          0\n",
       "billAmountChangePct           0\n",
       "avgReceivedMins               0\n",
       "avgOutCalls                   0\n",
       "avgInCalls                    0\n",
       "peakOffPeakRatio              0\n",
       "peakOffPeakRatioChangePct     0\n",
       "avgDroppedCalls               0\n",
       "lifeTime                      0\n",
       "lastMonthCustomerCareCalls    0\n",
       "numRetentionCalls             0\n",
       "numRetentionOffersAccepted    0\n",
       "newFrequentNumbers            0\n",
       "dtype: int64"
      ]
     },
     "execution_count": 96,
     "metadata": {},
     "output_type": "execute_result"
    }
   ],
   "source": [
    "# Again check missing values in numerical variables in X_train\n",
    "\n",
    "X_train[numerical].isnull().sum()"
   ]
  },
  {
   "cell_type": "code",
   "execution_count": 97,
   "metadata": {},
   "outputs": [
    {
     "data": {
      "text/plain": [
       "age                           0\n",
       "income                        0\n",
       "numHandsets                   0\n",
       "handsetAge                    0\n",
       "currentHandsetPrice           0\n",
       "avgBill                       0\n",
       "avgMins                       0\n",
       "avgrecurringCharge            0\n",
       "avgOverBundleMins             0\n",
       "avgRoamCalls                  0\n",
       "callMinutesChangePct          0\n",
       "billAmountChangePct           0\n",
       "avgReceivedMins               0\n",
       "avgOutCalls                   0\n",
       "avgInCalls                    0\n",
       "peakOffPeakRatio              0\n",
       "peakOffPeakRatioChangePct     0\n",
       "avgDroppedCalls               0\n",
       "lifeTime                      0\n",
       "lastMonthCustomerCareCalls    0\n",
       "numRetentionCalls             0\n",
       "numRetentionOffersAccepted    0\n",
       "newFrequentNumbers            0\n",
       "dtype: int64"
      ]
     },
     "execution_count": 97,
     "metadata": {},
     "output_type": "execute_result"
    }
   ],
   "source": [
    "# check missing values in numerical variables in X_test\n",
    "\n",
    "X_test[numerical].isnull().sum()"
   ]
  },
  {
   "cell_type": "markdown",
   "metadata": {},
   "source": [
    "Now, we can see that there are no missing values in the numerical columns of training and test set."
   ]
  },
  {
   "cell_type": "markdown",
   "metadata": {},
   "source": [
    "### Engineering missing values in categorical variables"
   ]
  },
  {
   "cell_type": "code",
   "execution_count": 98,
   "metadata": {},
   "outputs": [
    {
     "data": {
      "text/plain": [
       "occupation        0.0\n",
       "regionType        0.0\n",
       "marriageStatus    0.0\n",
       "children          0.0\n",
       "smartPhone        0.0\n",
       "creditRating      0.0\n",
       "homeOwner         0.0\n",
       "creditCard        0.0\n",
       "dtype: float64"
      ]
     },
     "execution_count": 98,
     "metadata": {},
     "output_type": "execute_result"
    }
   ],
   "source": [
    "# print percentage of missing values in the categorical variables in training set\n",
    "\n",
    "X_train[categorical].isnull().mean()"
   ]
  },
  {
   "cell_type": "markdown",
   "metadata": {},
   "source": [
    "Impute missing categorical variables with most frequent value.\n",
    "No missing values"
   ]
  },
  {
   "cell_type": "code",
   "execution_count": 1,
   "metadata": {},
   "outputs": [],
   "source": [
    "# for df2 in [X_train, X_test]:\n",
    "#     df2['WindGustDir'].fillna(X_train['WindGustDir'].mode()[0], inplace=True)\n",
    "#     df2['WindDir9am'].fillna(X_train['WindDir9am'].mode()[0], inplace=True)\n",
    "#     df2['WindDir3pm'].fillna(X_train['WindDir3pm'].mode()[0], inplace=True)\n",
    "#     df2['RainToday'].fillna(X_train['RainToday'].mode()[0], inplace=True)"
   ]
  },
  {
   "cell_type": "code",
   "execution_count": 102,
   "metadata": {},
   "outputs": [
    {
     "data": {
      "text/plain": [
       "0"
      ]
     },
     "execution_count": 102,
     "metadata": {},
     "output_type": "execute_result"
    }
   ],
   "source": [
    "# Check missing values in in y_test\n",
    "\n",
    "y_test.isnull().sum()"
   ]
  },
  {
   "cell_type": "markdown",
   "metadata": {},
   "source": [
    "Impute missing values into y_test with the most frequent value. No missing values"
   ]
  },
  {
   "cell_type": "code",
   "execution_count": 104,
   "metadata": {},
   "outputs": [
    {
     "data": {
      "text/plain": [
       "0"
      ]
     },
     "execution_count": 104,
     "metadata": {},
     "output_type": "execute_result"
    }
   ],
   "source": [
    "# Check missing values in in y_test\n",
    "\n",
    "y_test.isnull().sum()"
   ]
  },
  {
   "cell_type": "code",
   "execution_count": 105,
   "metadata": {},
   "outputs": [
    {
     "data": {
      "text/plain": [
       "occupation        0\n",
       "regionType        0\n",
       "marriageStatus    0\n",
       "children          0\n",
       "smartPhone        0\n",
       "creditRating      0\n",
       "homeOwner         0\n",
       "creditCard        0\n",
       "dtype: int64"
      ]
     },
     "execution_count": 105,
     "metadata": {},
     "output_type": "execute_result"
    }
   ],
   "source": [
    "# check missing values in categorical variables in X_train\n",
    "\n",
    "X_train[categorical].isnull().sum()"
   ]
  },
  {
   "cell_type": "code",
   "execution_count": 106,
   "metadata": {},
   "outputs": [
    {
     "data": {
      "text/plain": [
       "occupation        0\n",
       "regionType        0\n",
       "marriageStatus    0\n",
       "children          0\n",
       "smartPhone        0\n",
       "creditRating      0\n",
       "homeOwner         0\n",
       "creditCard        0\n",
       "dtype: int64"
      ]
     },
     "execution_count": 106,
     "metadata": {},
     "output_type": "execute_result"
    }
   ],
   "source": [
    "# check missing values in categorical variables in X_test\n",
    "\n",
    "X_test[categorical].isnull().sum()"
   ]
  },
  {
   "cell_type": "code",
   "execution_count": 107,
   "metadata": {},
   "outputs": [],
   "source": [
    "# As a final check, I will check for missing values in X_train and X_test."
   ]
  },
  {
   "cell_type": "code",
   "execution_count": 108,
   "metadata": {},
   "outputs": [
    {
     "data": {
      "text/plain": [
       "age                           0\n",
       "occupation                    0\n",
       "regionType                    0\n",
       "marriageStatus                0\n",
       "children                      0\n",
       "income                        0\n",
       "numHandsets                   0\n",
       "handsetAge                    0\n",
       "smartPhone                    0\n",
       "currentHandsetPrice           0\n",
       "creditRating                  0\n",
       "homeOwner                     0\n",
       "creditCard                    0\n",
       "avgBill                       0\n",
       "avgMins                       0\n",
       "avgrecurringCharge            0\n",
       "avgOverBundleMins             0\n",
       "avgRoamCalls                  0\n",
       "callMinutesChangePct          0\n",
       "billAmountChangePct           0\n",
       "avgReceivedMins               0\n",
       "avgOutCalls                   0\n",
       "avgInCalls                    0\n",
       "peakOffPeakRatio              0\n",
       "peakOffPeakRatioChangePct     0\n",
       "avgDroppedCalls               0\n",
       "lifeTime                      0\n",
       "lastMonthCustomerCareCalls    0\n",
       "numRetentionCalls             0\n",
       "numRetentionOffersAccepted    0\n",
       "newFrequentNumbers            0\n",
       "dtype: int64"
      ]
     },
     "execution_count": 108,
     "metadata": {},
     "output_type": "execute_result"
    }
   ],
   "source": [
    "# check missing values in X_train\n",
    "\n",
    "X_train.isnull().sum()"
   ]
  },
  {
   "cell_type": "code",
   "execution_count": 109,
   "metadata": {},
   "outputs": [
    {
     "data": {
      "text/plain": [
       "age                           0\n",
       "occupation                    0\n",
       "regionType                    0\n",
       "marriageStatus                0\n",
       "children                      0\n",
       "income                        0\n",
       "numHandsets                   0\n",
       "handsetAge                    0\n",
       "smartPhone                    0\n",
       "currentHandsetPrice           0\n",
       "creditRating                  0\n",
       "homeOwner                     0\n",
       "creditCard                    0\n",
       "avgBill                       0\n",
       "avgMins                       0\n",
       "avgrecurringCharge            0\n",
       "avgOverBundleMins             0\n",
       "avgRoamCalls                  0\n",
       "callMinutesChangePct          0\n",
       "billAmountChangePct           0\n",
       "avgReceivedMins               0\n",
       "avgOutCalls                   0\n",
       "avgInCalls                    0\n",
       "peakOffPeakRatio              0\n",
       "peakOffPeakRatioChangePct     0\n",
       "avgDroppedCalls               0\n",
       "lifeTime                      0\n",
       "lastMonthCustomerCareCalls    0\n",
       "numRetentionCalls             0\n",
       "numRetentionOffersAccepted    0\n",
       "newFrequentNumbers            0\n",
       "dtype: int64"
      ]
     },
     "execution_count": 109,
     "metadata": {},
     "output_type": "execute_result"
    }
   ],
   "source": [
    "# check missing values in X_test\n",
    "\n",
    "X_test.isnull().sum()"
   ]
  },
  {
   "cell_type": "markdown",
   "metadata": {},
   "source": [
    "We can see that there are no missing values in X_train and X_test."
   ]
  },
  {
   "cell_type": "markdown",
   "metadata": {},
   "source": [
    "### Engineering outliers in numerical variables.\n",
    "- We have seen that the Rainfall, Evaporation, WindSpeed9am and WindSpeed3pm columns contain outliers. \n",
    "- we will use top-coding approach to cap maximum values and remove outliers from the above variables."
   ]
  },
  {
   "cell_type": "code",
   "execution_count": 111,
   "metadata": {
    "scrolled": true
   },
   "outputs": [],
   "source": [
    "def max_value(df3, variable, top):\n",
    "    return np.where(df3[variable]>top, top, df3[variable])\n",
    "\n",
    "for df3 in [X_train, X_test]:\n",
    "    df3['numHandsets'] = max_value(df3, 'numHandsets', 5.0)\n",
    "    df3['handsetAge'] = max_value(df3, 'handsetAge', 1470.0)\n",
    "    df3['currentHandsetPrice'] = max_value(df3, 'currentHandsetPrice', 239.96)\n",
    "    df3['avgBill'] = max_value(df3, 'avgBill', 187.07)\n",
    "    \n",
    "    df3['avgMins'] = max_value(df3, 'avgMins', 2384.87)\n",
    "    df3['avgrecurringCharge'] = max_value(df3, 'avgrecurringCharge', 149.96)\n",
    "    df3['avgOverBundleMins'] = max_value(df3, 'avgOverBundleMins', 175.0)\n",
    "    df3['avgOutCalls'] = max_value(df3, 'avgOutCalls', 124.32)\n",
    "    \n",
    "    df3['avgInCalls'] = max_value(df3, 'avgInCalls', 36)\n",
    "    df3['peakOffPeakRatio'] = max_value(df3, 'peakOffPeakRatio', 7.64)\n",
    "    df3['avgDroppedCalls'] = max_value(df3, 'avgDroppedCalls', 45.67)\n",
    "    df3['lastMonthCustomerCareCalls'] = max_value(df3, 'lastMonthCustomerCareCalls', 5.32)"
   ]
  },
  {
   "cell_type": "code",
   "execution_count": 112,
   "metadata": {},
   "outputs": [
    {
     "data": {
      "text/plain": [
       "(5.0, 5.0)"
      ]
     },
     "execution_count": 112,
     "metadata": {},
     "output_type": "execute_result"
    }
   ],
   "source": [
    "X_train.numHandsets.max(), X_test.numHandsets.max()"
   ]
  },
  {
   "cell_type": "code",
   "execution_count": 113,
   "metadata": {},
   "outputs": [
    {
     "data": {
      "text/plain": [
       "(1470.0, 1470.0)"
      ]
     },
     "execution_count": 113,
     "metadata": {},
     "output_type": "execute_result"
    }
   ],
   "source": [
    "X_train.handsetAge.max(), X_test.handsetAge.max()"
   ]
  },
  {
   "cell_type": "code",
   "execution_count": 114,
   "metadata": {},
   "outputs": [
    {
     "data": {
      "text/plain": [
       "(239.96, 239.96)"
      ]
     },
     "execution_count": 114,
     "metadata": {},
     "output_type": "execute_result"
    }
   ],
   "source": [
    "X_train.currentHandsetPrice.max(), X_test.currentHandsetPrice.max()"
   ]
  },
  {
   "cell_type": "code",
   "execution_count": 115,
   "metadata": {},
   "outputs": [
    {
     "data": {
      "text/plain": [
       "(187.07, 187.07)"
      ]
     },
     "execution_count": 115,
     "metadata": {},
     "output_type": "execute_result"
    }
   ],
   "source": [
    "X_train.avgBill.max(), X_test.avgBill.max()"
   ]
  },
  {
   "cell_type": "code",
   "execution_count": 116,
   "metadata": {},
   "outputs": [
    {
     "data": {
      "text/plain": [
       "(149.96, 149.96)"
      ]
     },
     "execution_count": 116,
     "metadata": {},
     "output_type": "execute_result"
    }
   ],
   "source": [
    "X_train.avgrecurringCharge.max(), X_test.avgrecurringCharge.max()"
   ]
  },
  {
   "cell_type": "code",
   "execution_count": 117,
   "metadata": {},
   "outputs": [
    {
     "data": {
      "text/plain": [
       "(175.0, 175.0)"
      ]
     },
     "execution_count": 117,
     "metadata": {},
     "output_type": "execute_result"
    }
   ],
   "source": [
    "X_train.avgOverBundleMins.max(), X_test.avgOverBundleMins.max()"
   ]
  },
  {
   "cell_type": "code",
   "execution_count": 118,
   "metadata": {},
   "outputs": [
    {
     "data": {
      "text/plain": [
       "(124.32, 124.32)"
      ]
     },
     "execution_count": 118,
     "metadata": {},
     "output_type": "execute_result"
    }
   ],
   "source": [
    "X_train.avgOutCalls.max(), X_test.avgOutCalls.max()"
   ]
  },
  {
   "cell_type": "code",
   "execution_count": 119,
   "metadata": {},
   "outputs": [
    {
     "data": {
      "text/plain": [
       "(36.0, 36.0)"
      ]
     },
     "execution_count": 119,
     "metadata": {},
     "output_type": "execute_result"
    }
   ],
   "source": [
    "X_train.avgInCalls.max(), X_test.avgInCalls.max()"
   ]
  },
  {
   "cell_type": "code",
   "execution_count": 120,
   "metadata": {},
   "outputs": [
    {
     "data": {
      "text/plain": [
       "(7.64, 7.64)"
      ]
     },
     "execution_count": 120,
     "metadata": {},
     "output_type": "execute_result"
    }
   ],
   "source": [
    "X_train.peakOffPeakRatio.max(), X_test.peakOffPeakRatio.max()"
   ]
  },
  {
   "cell_type": "code",
   "execution_count": 121,
   "metadata": {},
   "outputs": [
    {
     "data": {
      "text/plain": [
       "(5.32, 5.32)"
      ]
     },
     "execution_count": 121,
     "metadata": {},
     "output_type": "execute_result"
    }
   ],
   "source": [
    "X_train.lastMonthCustomerCareCalls.max(), X_test.lastMonthCustomerCareCalls.max()"
   ]
  },
  {
   "cell_type": "code",
   "execution_count": 122,
   "metadata": {},
   "outputs": [
    {
     "data": {
      "text/html": [
       "<div>\n",
       "<style scoped>\n",
       "    .dataframe tbody tr th:only-of-type {\n",
       "        vertical-align: middle;\n",
       "    }\n",
       "\n",
       "    .dataframe tbody tr th {\n",
       "        vertical-align: top;\n",
       "    }\n",
       "\n",
       "    .dataframe thead th {\n",
       "        text-align: right;\n",
       "    }\n",
       "</style>\n",
       "<table border=\"1\" class=\"dataframe\">\n",
       "  <thead>\n",
       "    <tr style=\"text-align: right;\">\n",
       "      <th></th>\n",
       "      <th>age</th>\n",
       "      <th>income</th>\n",
       "      <th>numHandsets</th>\n",
       "      <th>handsetAge</th>\n",
       "      <th>currentHandsetPrice</th>\n",
       "      <th>avgBill</th>\n",
       "      <th>avgMins</th>\n",
       "      <th>avgrecurringCharge</th>\n",
       "      <th>avgOverBundleMins</th>\n",
       "      <th>avgRoamCalls</th>\n",
       "      <th>...</th>\n",
       "      <th>avgOutCalls</th>\n",
       "      <th>avgInCalls</th>\n",
       "      <th>peakOffPeakRatio</th>\n",
       "      <th>peakOffPeakRatioChangePct</th>\n",
       "      <th>avgDroppedCalls</th>\n",
       "      <th>lifeTime</th>\n",
       "      <th>lastMonthCustomerCareCalls</th>\n",
       "      <th>numRetentionCalls</th>\n",
       "      <th>numRetentionOffersAccepted</th>\n",
       "      <th>newFrequentNumbers</th>\n",
       "    </tr>\n",
       "  </thead>\n",
       "  <tbody>\n",
       "    <tr>\n",
       "      <th>count</th>\n",
       "      <td>8000.000000</td>\n",
       "      <td>8000.000000</td>\n",
       "      <td>8000.000000</td>\n",
       "      <td>8000.000000</td>\n",
       "      <td>8000.000000</td>\n",
       "      <td>8000.000000</td>\n",
       "      <td>8000.000000</td>\n",
       "      <td>8000.000000</td>\n",
       "      <td>8000.000000</td>\n",
       "      <td>8000.000000</td>\n",
       "      <td>...</td>\n",
       "      <td>8000.000000</td>\n",
       "      <td>8000.000000</td>\n",
       "      <td>8000.000000</td>\n",
       "      <td>8000.000000</td>\n",
       "      <td>8000.000000</td>\n",
       "      <td>8000.000000</td>\n",
       "      <td>8000.000000</td>\n",
       "      <td>8000.000000</td>\n",
       "      <td>8000.000000</td>\n",
       "      <td>8000.000000</td>\n",
       "    </tr>\n",
       "    <tr>\n",
       "      <th>mean</th>\n",
       "      <td>30.344500</td>\n",
       "      <td>4.287125</td>\n",
       "      <td>1.749000</td>\n",
       "      <td>391.027250</td>\n",
       "      <td>35.535612</td>\n",
       "      <td>57.568070</td>\n",
       "      <td>511.155465</td>\n",
       "      <td>46.091857</td>\n",
       "      <td>32.183600</td>\n",
       "      <td>1.218824</td>\n",
       "      <td>...</td>\n",
       "      <td>23.909521</td>\n",
       "      <td>6.906459</td>\n",
       "      <td>1.945283</td>\n",
       "      <td>0.016711</td>\n",
       "      <td>9.227696</td>\n",
       "      <td>18.922500</td>\n",
       "      <td>1.105354</td>\n",
       "      <td>0.046875</td>\n",
       "      <td>0.022375</td>\n",
       "      <td>0.194750</td>\n",
       "    </tr>\n",
       "    <tr>\n",
       "      <th>std</th>\n",
       "      <td>22.150094</td>\n",
       "      <td>3.135788</td>\n",
       "      <td>1.076752</td>\n",
       "      <td>255.791741</td>\n",
       "      <td>56.110773</td>\n",
       "      <td>36.821317</td>\n",
       "      <td>497.435203</td>\n",
       "      <td>22.937890</td>\n",
       "      <td>51.733507</td>\n",
       "      <td>6.378080</td>\n",
       "      <td>...</td>\n",
       "      <td>28.793658</td>\n",
       "      <td>10.255680</td>\n",
       "      <td>1.797723</td>\n",
       "      <td>9.971557</td>\n",
       "      <td>10.821581</td>\n",
       "      <td>9.629659</td>\n",
       "      <td>1.782918</td>\n",
       "      <td>0.231159</td>\n",
       "      <td>0.163180</td>\n",
       "      <td>0.641579</td>\n",
       "    </tr>\n",
       "    <tr>\n",
       "      <th>min</th>\n",
       "      <td>0.000000</td>\n",
       "      <td>0.000000</td>\n",
       "      <td>1.000000</td>\n",
       "      <td>-4.000000</td>\n",
       "      <td>0.000000</td>\n",
       "      <td>0.000000</td>\n",
       "      <td>0.000000</td>\n",
       "      <td>0.000000</td>\n",
       "      <td>0.000000</td>\n",
       "      <td>0.000000</td>\n",
       "      <td>...</td>\n",
       "      <td>0.000000</td>\n",
       "      <td>0.000000</td>\n",
       "      <td>0.000000</td>\n",
       "      <td>-41.322736</td>\n",
       "      <td>0.000000</td>\n",
       "      <td>6.000000</td>\n",
       "      <td>0.000000</td>\n",
       "      <td>0.000000</td>\n",
       "      <td>0.000000</td>\n",
       "      <td>0.000000</td>\n",
       "    </tr>\n",
       "    <tr>\n",
       "      <th>25%</th>\n",
       "      <td>0.000000</td>\n",
       "      <td>0.000000</td>\n",
       "      <td>1.000000</td>\n",
       "      <td>210.000000</td>\n",
       "      <td>0.000000</td>\n",
       "      <td>33.387500</td>\n",
       "      <td>151.250000</td>\n",
       "      <td>30.000000</td>\n",
       "      <td>0.000000</td>\n",
       "      <td>0.000000</td>\n",
       "      <td>...</td>\n",
       "      <td>3.000000</td>\n",
       "      <td>0.000000</td>\n",
       "      <td>0.774487</td>\n",
       "      <td>-6.662233</td>\n",
       "      <td>1.670000</td>\n",
       "      <td>11.000000</td>\n",
       "      <td>0.000000</td>\n",
       "      <td>0.000000</td>\n",
       "      <td>0.000000</td>\n",
       "      <td>0.000000</td>\n",
       "    </tr>\n",
       "    <tr>\n",
       "      <th>50%</th>\n",
       "      <td>34.000000</td>\n",
       "      <td>5.000000</td>\n",
       "      <td>1.000000</td>\n",
       "      <td>341.000000</td>\n",
       "      <td>0.000000</td>\n",
       "      <td>48.995000</td>\n",
       "      <td>356.750000</td>\n",
       "      <td>44.990000</td>\n",
       "      <td>3.000000</td>\n",
       "      <td>0.000000</td>\n",
       "      <td>...</td>\n",
       "      <td>13.330000</td>\n",
       "      <td>2.000000</td>\n",
       "      <td>1.398383</td>\n",
       "      <td>0.010045</td>\n",
       "      <td>5.330000</td>\n",
       "      <td>17.000000</td>\n",
       "      <td>0.000000</td>\n",
       "      <td>0.000000</td>\n",
       "      <td>0.000000</td>\n",
       "      <td>0.000000</td>\n",
       "    </tr>\n",
       "    <tr>\n",
       "      <th>75%</th>\n",
       "      <td>48.000000</td>\n",
       "      <td>7.000000</td>\n",
       "      <td>2.000000</td>\n",
       "      <td>526.000000</td>\n",
       "      <td>39.990000</td>\n",
       "      <td>71.885000</td>\n",
       "      <td>707.312500</td>\n",
       "      <td>59.990000</td>\n",
       "      <td>43.312500</td>\n",
       "      <td>0.240000</td>\n",
       "      <td>...</td>\n",
       "      <td>33.670000</td>\n",
       "      <td>9.000000</td>\n",
       "      <td>2.484822</td>\n",
       "      <td>6.496793</td>\n",
       "      <td>12.330000</td>\n",
       "      <td>24.000000</td>\n",
       "      <td>1.330000</td>\n",
       "      <td>0.000000</td>\n",
       "      <td>0.000000</td>\n",
       "      <td>0.000000</td>\n",
       "    </tr>\n",
       "    <tr>\n",
       "      <th>max</th>\n",
       "      <td>98.000000</td>\n",
       "      <td>9.000000</td>\n",
       "      <td>5.000000</td>\n",
       "      <td>1470.000000</td>\n",
       "      <td>239.960000</td>\n",
       "      <td>187.070000</td>\n",
       "      <td>2384.870000</td>\n",
       "      <td>149.960000</td>\n",
       "      <td>175.000000</td>\n",
       "      <td>177.990000</td>\n",
       "      <td>...</td>\n",
       "      <td>124.320000</td>\n",
       "      <td>36.000000</td>\n",
       "      <td>7.640000</td>\n",
       "      <td>37.779743</td>\n",
       "      <td>45.670000</td>\n",
       "      <td>61.000000</td>\n",
       "      <td>5.320000</td>\n",
       "      <td>4.000000</td>\n",
       "      <td>4.000000</td>\n",
       "      <td>3.000000</td>\n",
       "    </tr>\n",
       "  </tbody>\n",
       "</table>\n",
       "<p>8 rows × 23 columns</p>\n",
       "</div>"
      ],
      "text/plain": [
       "               age       income  numHandsets   handsetAge  \\\n",
       "count  8000.000000  8000.000000  8000.000000  8000.000000   \n",
       "mean     30.344500     4.287125     1.749000   391.027250   \n",
       "std      22.150094     3.135788     1.076752   255.791741   \n",
       "min       0.000000     0.000000     1.000000    -4.000000   \n",
       "25%       0.000000     0.000000     1.000000   210.000000   \n",
       "50%      34.000000     5.000000     1.000000   341.000000   \n",
       "75%      48.000000     7.000000     2.000000   526.000000   \n",
       "max      98.000000     9.000000     5.000000  1470.000000   \n",
       "\n",
       "       currentHandsetPrice      avgBill      avgMins  avgrecurringCharge  \\\n",
       "count          8000.000000  8000.000000  8000.000000         8000.000000   \n",
       "mean             35.535612    57.568070   511.155465           46.091857   \n",
       "std              56.110773    36.821317   497.435203           22.937890   \n",
       "min               0.000000     0.000000     0.000000            0.000000   \n",
       "25%               0.000000    33.387500   151.250000           30.000000   \n",
       "50%               0.000000    48.995000   356.750000           44.990000   \n",
       "75%              39.990000    71.885000   707.312500           59.990000   \n",
       "max             239.960000   187.070000  2384.870000          149.960000   \n",
       "\n",
       "       avgOverBundleMins  avgRoamCalls  ...  avgOutCalls   avgInCalls  \\\n",
       "count        8000.000000   8000.000000  ...  8000.000000  8000.000000   \n",
       "mean           32.183600      1.218824  ...    23.909521     6.906459   \n",
       "std            51.733507      6.378080  ...    28.793658    10.255680   \n",
       "min             0.000000      0.000000  ...     0.000000     0.000000   \n",
       "25%             0.000000      0.000000  ...     3.000000     0.000000   \n",
       "50%             3.000000      0.000000  ...    13.330000     2.000000   \n",
       "75%            43.312500      0.240000  ...    33.670000     9.000000   \n",
       "max           175.000000    177.990000  ...   124.320000    36.000000   \n",
       "\n",
       "       peakOffPeakRatio  peakOffPeakRatioChangePct  avgDroppedCalls  \\\n",
       "count       8000.000000                8000.000000      8000.000000   \n",
       "mean           1.945283                   0.016711         9.227696   \n",
       "std            1.797723                   9.971557        10.821581   \n",
       "min            0.000000                 -41.322736         0.000000   \n",
       "25%            0.774487                  -6.662233         1.670000   \n",
       "50%            1.398383                   0.010045         5.330000   \n",
       "75%            2.484822                   6.496793        12.330000   \n",
       "max            7.640000                  37.779743        45.670000   \n",
       "\n",
       "          lifeTime  lastMonthCustomerCareCalls  numRetentionCalls  \\\n",
       "count  8000.000000                 8000.000000        8000.000000   \n",
       "mean     18.922500                    1.105354           0.046875   \n",
       "std       9.629659                    1.782918           0.231159   \n",
       "min       6.000000                    0.000000           0.000000   \n",
       "25%      11.000000                    0.000000           0.000000   \n",
       "50%      17.000000                    0.000000           0.000000   \n",
       "75%      24.000000                    1.330000           0.000000   \n",
       "max      61.000000                    5.320000           4.000000   \n",
       "\n",
       "       numRetentionOffersAccepted  newFrequentNumbers  \n",
       "count                 8000.000000         8000.000000  \n",
       "mean                     0.022375            0.194750  \n",
       "std                      0.163180            0.641579  \n",
       "min                      0.000000            0.000000  \n",
       "25%                      0.000000            0.000000  \n",
       "50%                      0.000000            0.000000  \n",
       "75%                      0.000000            0.000000  \n",
       "max                      4.000000            3.000000  \n",
       "\n",
       "[8 rows x 23 columns]"
      ]
     },
     "execution_count": 122,
     "metadata": {},
     "output_type": "execute_result"
    }
   ],
   "source": [
    "X_train[numerical].describe()"
   ]
  },
  {
   "cell_type": "markdown",
   "metadata": {},
   "source": [
    "We can now see that the outliers in numHandsets,..., lastMonthCustomerCareCalls columns are capped."
   ]
  },
  {
   "cell_type": "markdown",
   "metadata": {},
   "source": [
    "## Encode categorical variables"
   ]
  },
  {
   "cell_type": "code",
   "execution_count": 123,
   "metadata": {},
   "outputs": [
    {
     "data": {
      "text/plain": [
       "['occupation',\n",
       " 'regionType',\n",
       " 'marriageStatus',\n",
       " 'children',\n",
       " 'smartPhone',\n",
       " 'creditRating',\n",
       " 'homeOwner',\n",
       " 'creditCard']"
      ]
     },
     "execution_count": 123,
     "metadata": {},
     "output_type": "execute_result"
    }
   ],
   "source": [
    "categorical"
   ]
  },
  {
   "cell_type": "code",
   "execution_count": 124,
   "metadata": {},
   "outputs": [
    {
     "data": {
      "text/html": [
       "<div>\n",
       "<style scoped>\n",
       "    .dataframe tbody tr th:only-of-type {\n",
       "        vertical-align: middle;\n",
       "    }\n",
       "\n",
       "    .dataframe tbody tr th {\n",
       "        vertical-align: top;\n",
       "    }\n",
       "\n",
       "    .dataframe thead th {\n",
       "        text-align: right;\n",
       "    }\n",
       "</style>\n",
       "<table border=\"1\" class=\"dataframe\">\n",
       "  <thead>\n",
       "    <tr style=\"text-align: right;\">\n",
       "      <th></th>\n",
       "      <th>occupation</th>\n",
       "      <th>regionType</th>\n",
       "      <th>marriageStatus</th>\n",
       "      <th>children</th>\n",
       "      <th>smartPhone</th>\n",
       "      <th>creditRating</th>\n",
       "      <th>homeOwner</th>\n",
       "      <th>creditCard</th>\n",
       "    </tr>\n",
       "  </thead>\n",
       "  <tbody>\n",
       "    <tr>\n",
       "      <th>7389</th>\n",
       "      <td></td>\n",
       "      <td>suburban</td>\n",
       "      <td>no</td>\n",
       "      <td>false</td>\n",
       "      <td>true</td>\n",
       "      <td>C</td>\n",
       "      <td>true</td>\n",
       "      <td>false</td>\n",
       "    </tr>\n",
       "    <tr>\n",
       "      <th>9275</th>\n",
       "      <td></td>\n",
       "      <td>town</td>\n",
       "      <td>yes</td>\n",
       "      <td>true</td>\n",
       "      <td>true</td>\n",
       "      <td>C</td>\n",
       "      <td>false</td>\n",
       "      <td>true</td>\n",
       "    </tr>\n",
       "    <tr>\n",
       "      <th>2995</th>\n",
       "      <td></td>\n",
       "      <td></td>\n",
       "      <td>unknown</td>\n",
       "      <td>false</td>\n",
       "      <td>true</td>\n",
       "      <td>B</td>\n",
       "      <td>false</td>\n",
       "      <td>true</td>\n",
       "    </tr>\n",
       "    <tr>\n",
       "      <th>5316</th>\n",
       "      <td>professional</td>\n",
       "      <td>town</td>\n",
       "      <td>yes</td>\n",
       "      <td>true</td>\n",
       "      <td>true</td>\n",
       "      <td>A</td>\n",
       "      <td>false</td>\n",
       "      <td>true</td>\n",
       "    </tr>\n",
       "    <tr>\n",
       "      <th>356</th>\n",
       "      <td>professional</td>\n",
       "      <td>suburban</td>\n",
       "      <td>yes</td>\n",
       "      <td>false</td>\n",
       "      <td>true</td>\n",
       "      <td>A</td>\n",
       "      <td>false</td>\n",
       "      <td>true</td>\n",
       "    </tr>\n",
       "  </tbody>\n",
       "</table>\n",
       "</div>"
      ],
      "text/plain": [
       "         occupation regionType marriageStatus children smartPhone  \\\n",
       "7389                  suburban             no    false       true   \n",
       "9275                      town            yes     true       true   \n",
       "2995                                  unknown    false       true   \n",
       "5316   professional       town            yes     true       true   \n",
       "356    professional   suburban            yes    false       true   \n",
       "\n",
       "     creditRating homeOwner creditCard  \n",
       "7389            C      true      false  \n",
       "9275            C     false       true  \n",
       "2995            B     false       true  \n",
       "5316            A     false       true  \n",
       "356             A     false       true  "
      ]
     },
     "execution_count": 124,
     "metadata": {},
     "output_type": "execute_result"
    }
   ],
   "source": [
    "X_train[categorical].head()"
   ]
  },
  {
   "cell_type": "code",
   "execution_count": 125,
   "metadata": {},
   "outputs": [
    {
     "data": {
      "text/html": [
       "<div>\n",
       "<style scoped>\n",
       "    .dataframe tbody tr th:only-of-type {\n",
       "        vertical-align: middle;\n",
       "    }\n",
       "\n",
       "    .dataframe tbody tr th {\n",
       "        vertical-align: top;\n",
       "    }\n",
       "\n",
       "    .dataframe thead th {\n",
       "        text-align: right;\n",
       "    }\n",
       "</style>\n",
       "<table border=\"1\" class=\"dataframe\">\n",
       "  <thead>\n",
       "    <tr style=\"text-align: right;\">\n",
       "      <th></th>\n",
       "      <th>age</th>\n",
       "      <th>occupation</th>\n",
       "      <th>regionType</th>\n",
       "      <th>marriageStatus</th>\n",
       "      <th>children</th>\n",
       "      <th>income</th>\n",
       "      <th>numHandsets</th>\n",
       "      <th>handsetAge</th>\n",
       "      <th>smartPhone</th>\n",
       "      <th>currentHandsetPrice</th>\n",
       "      <th>...</th>\n",
       "      <th>avgOutCalls</th>\n",
       "      <th>avgInCalls</th>\n",
       "      <th>peakOffPeakRatio</th>\n",
       "      <th>peakOffPeakRatioChangePct</th>\n",
       "      <th>avgDroppedCalls</th>\n",
       "      <th>lifeTime</th>\n",
       "      <th>lastMonthCustomerCareCalls</th>\n",
       "      <th>numRetentionCalls</th>\n",
       "      <th>numRetentionOffersAccepted</th>\n",
       "      <th>newFrequentNumbers</th>\n",
       "    </tr>\n",
       "  </thead>\n",
       "  <tbody>\n",
       "    <tr>\n",
       "      <th>7389</th>\n",
       "      <td>0</td>\n",
       "      <td></td>\n",
       "      <td>suburban</td>\n",
       "      <td>no</td>\n",
       "      <td>false</td>\n",
       "      <td>0</td>\n",
       "      <td>2.0</td>\n",
       "      <td>417.0</td>\n",
       "      <td>true</td>\n",
       "      <td>149.99</td>\n",
       "      <td>...</td>\n",
       "      <td>51.00</td>\n",
       "      <td>12.67</td>\n",
       "      <td>0.562190</td>\n",
       "      <td>2.267979</td>\n",
       "      <td>12.00</td>\n",
       "      <td>14</td>\n",
       "      <td>5.32</td>\n",
       "      <td>0</td>\n",
       "      <td>0</td>\n",
       "      <td>0</td>\n",
       "    </tr>\n",
       "    <tr>\n",
       "      <th>9275</th>\n",
       "      <td>40</td>\n",
       "      <td></td>\n",
       "      <td>town</td>\n",
       "      <td>yes</td>\n",
       "      <td>true</td>\n",
       "      <td>6</td>\n",
       "      <td>1.0</td>\n",
       "      <td>372.0</td>\n",
       "      <td>true</td>\n",
       "      <td>0.00</td>\n",
       "      <td>...</td>\n",
       "      <td>0.00</td>\n",
       "      <td>0.00</td>\n",
       "      <td>0.000000</td>\n",
       "      <td>4.987395</td>\n",
       "      <td>0.00</td>\n",
       "      <td>13</td>\n",
       "      <td>0.00</td>\n",
       "      <td>0</td>\n",
       "      <td>0</td>\n",
       "      <td>0</td>\n",
       "    </tr>\n",
       "    <tr>\n",
       "      <th>2995</th>\n",
       "      <td>26</td>\n",
       "      <td></td>\n",
       "      <td></td>\n",
       "      <td>unknown</td>\n",
       "      <td>false</td>\n",
       "      <td>8</td>\n",
       "      <td>1.0</td>\n",
       "      <td>416.0</td>\n",
       "      <td>true</td>\n",
       "      <td>0.00</td>\n",
       "      <td>...</td>\n",
       "      <td>124.32</td>\n",
       "      <td>36.00</td>\n",
       "      <td>0.983009</td>\n",
       "      <td>-3.010604</td>\n",
       "      <td>21.67</td>\n",
       "      <td>14</td>\n",
       "      <td>2.33</td>\n",
       "      <td>0</td>\n",
       "      <td>0</td>\n",
       "      <td>0</td>\n",
       "    </tr>\n",
       "    <tr>\n",
       "      <th>5316</th>\n",
       "      <td>50</td>\n",
       "      <td>professional</td>\n",
       "      <td>town</td>\n",
       "      <td>yes</td>\n",
       "      <td>true</td>\n",
       "      <td>9</td>\n",
       "      <td>2.0</td>\n",
       "      <td>510.0</td>\n",
       "      <td>true</td>\n",
       "      <td>29.99</td>\n",
       "      <td>...</td>\n",
       "      <td>14.33</td>\n",
       "      <td>4.00</td>\n",
       "      <td>1.800257</td>\n",
       "      <td>-0.693877</td>\n",
       "      <td>1.33</td>\n",
       "      <td>31</td>\n",
       "      <td>0.00</td>\n",
       "      <td>0</td>\n",
       "      <td>0</td>\n",
       "      <td>0</td>\n",
       "    </tr>\n",
       "    <tr>\n",
       "      <th>356</th>\n",
       "      <td>28</td>\n",
       "      <td>professional</td>\n",
       "      <td>suburban</td>\n",
       "      <td>yes</td>\n",
       "      <td>false</td>\n",
       "      <td>6</td>\n",
       "      <td>1.0</td>\n",
       "      <td>937.0</td>\n",
       "      <td>true</td>\n",
       "      <td>0.00</td>\n",
       "      <td>...</td>\n",
       "      <td>7.00</td>\n",
       "      <td>0.33</td>\n",
       "      <td>1.685714</td>\n",
       "      <td>-9.601254</td>\n",
       "      <td>4.67</td>\n",
       "      <td>31</td>\n",
       "      <td>0.00</td>\n",
       "      <td>0</td>\n",
       "      <td>0</td>\n",
       "      <td>0</td>\n",
       "    </tr>\n",
       "  </tbody>\n",
       "</table>\n",
       "<p>5 rows × 31 columns</p>\n",
       "</div>"
      ],
      "text/plain": [
       "      age     occupation regionType marriageStatus children  income  \\\n",
       "7389    0                  suburban             no    false       0   \n",
       "9275   40                      town            yes     true       6   \n",
       "2995   26                                  unknown    false       8   \n",
       "5316   50   professional       town            yes     true       9   \n",
       "356    28   professional   suburban            yes    false       6   \n",
       "\n",
       "      numHandsets  handsetAge smartPhone  currentHandsetPrice  ...  \\\n",
       "7389          2.0       417.0       true               149.99  ...   \n",
       "9275          1.0       372.0       true                 0.00  ...   \n",
       "2995          1.0       416.0       true                 0.00  ...   \n",
       "5316          2.0       510.0       true                29.99  ...   \n",
       "356           1.0       937.0       true                 0.00  ...   \n",
       "\n",
       "     avgOutCalls avgInCalls peakOffPeakRatio  peakOffPeakRatioChangePct  \\\n",
       "7389       51.00      12.67         0.562190                   2.267979   \n",
       "9275        0.00       0.00         0.000000                   4.987395   \n",
       "2995      124.32      36.00         0.983009                  -3.010604   \n",
       "5316       14.33       4.00         1.800257                  -0.693877   \n",
       "356         7.00       0.33         1.685714                  -9.601254   \n",
       "\n",
       "      avgDroppedCalls  lifeTime  lastMonthCustomerCareCalls  \\\n",
       "7389            12.00        14                        5.32   \n",
       "9275             0.00        13                        0.00   \n",
       "2995            21.67        14                        2.33   \n",
       "5316             1.33        31                        0.00   \n",
       "356              4.67        31                        0.00   \n",
       "\n",
       "      numRetentionCalls  numRetentionOffersAccepted  newFrequentNumbers  \n",
       "7389                  0                           0                   0  \n",
       "9275                  0                           0                   0  \n",
       "2995                  0                           0                   0  \n",
       "5316                  0                           0                   0  \n",
       "356                   0                           0                   0  \n",
       "\n",
       "[5 rows x 31 columns]"
      ]
     },
     "execution_count": 125,
     "metadata": {},
     "output_type": "execute_result"
    }
   ],
   "source": [
    "X_train.head()"
   ]
  },
  {
   "cell_type": "markdown",
   "metadata": {},
   "source": [
    "### Encode marriageStatus variable"
   ]
  },
  {
   "cell_type": "code",
   "execution_count": 126,
   "metadata": {},
   "outputs": [],
   "source": [
    "import category_encoders as ce\n",
    "\n",
    "encoder = ce.BinaryEncoder(cols=['marriageStatus'])\n",
    "\n",
    "X_train = encoder.fit_transform(X_train)\n",
    "\n",
    "X_test = encoder.transform(X_test)"
   ]
  },
  {
   "cell_type": "code",
   "execution_count": 127,
   "metadata": {},
   "outputs": [
    {
     "data": {
      "text/html": [
       "<div>\n",
       "<style scoped>\n",
       "    .dataframe tbody tr th:only-of-type {\n",
       "        vertical-align: middle;\n",
       "    }\n",
       "\n",
       "    .dataframe tbody tr th {\n",
       "        vertical-align: top;\n",
       "    }\n",
       "\n",
       "    .dataframe thead th {\n",
       "        text-align: right;\n",
       "    }\n",
       "</style>\n",
       "<table border=\"1\" class=\"dataframe\">\n",
       "  <thead>\n",
       "    <tr style=\"text-align: right;\">\n",
       "      <th></th>\n",
       "      <th>age</th>\n",
       "      <th>occupation</th>\n",
       "      <th>regionType</th>\n",
       "      <th>marriageStatus_0</th>\n",
       "      <th>marriageStatus_1</th>\n",
       "      <th>children</th>\n",
       "      <th>income</th>\n",
       "      <th>numHandsets</th>\n",
       "      <th>handsetAge</th>\n",
       "      <th>smartPhone</th>\n",
       "      <th>...</th>\n",
       "      <th>avgOutCalls</th>\n",
       "      <th>avgInCalls</th>\n",
       "      <th>peakOffPeakRatio</th>\n",
       "      <th>peakOffPeakRatioChangePct</th>\n",
       "      <th>avgDroppedCalls</th>\n",
       "      <th>lifeTime</th>\n",
       "      <th>lastMonthCustomerCareCalls</th>\n",
       "      <th>numRetentionCalls</th>\n",
       "      <th>numRetentionOffersAccepted</th>\n",
       "      <th>newFrequentNumbers</th>\n",
       "    </tr>\n",
       "  </thead>\n",
       "  <tbody>\n",
       "    <tr>\n",
       "      <th>7389</th>\n",
       "      <td>0</td>\n",
       "      <td></td>\n",
       "      <td>suburban</td>\n",
       "      <td>0</td>\n",
       "      <td>1</td>\n",
       "      <td>false</td>\n",
       "      <td>0</td>\n",
       "      <td>2.0</td>\n",
       "      <td>417.0</td>\n",
       "      <td>true</td>\n",
       "      <td>...</td>\n",
       "      <td>51.00</td>\n",
       "      <td>12.67</td>\n",
       "      <td>0.562190</td>\n",
       "      <td>2.267979</td>\n",
       "      <td>12.00</td>\n",
       "      <td>14</td>\n",
       "      <td>5.32</td>\n",
       "      <td>0</td>\n",
       "      <td>0</td>\n",
       "      <td>0</td>\n",
       "    </tr>\n",
       "    <tr>\n",
       "      <th>9275</th>\n",
       "      <td>40</td>\n",
       "      <td></td>\n",
       "      <td>town</td>\n",
       "      <td>1</td>\n",
       "      <td>0</td>\n",
       "      <td>true</td>\n",
       "      <td>6</td>\n",
       "      <td>1.0</td>\n",
       "      <td>372.0</td>\n",
       "      <td>true</td>\n",
       "      <td>...</td>\n",
       "      <td>0.00</td>\n",
       "      <td>0.00</td>\n",
       "      <td>0.000000</td>\n",
       "      <td>4.987395</td>\n",
       "      <td>0.00</td>\n",
       "      <td>13</td>\n",
       "      <td>0.00</td>\n",
       "      <td>0</td>\n",
       "      <td>0</td>\n",
       "      <td>0</td>\n",
       "    </tr>\n",
       "    <tr>\n",
       "      <th>2995</th>\n",
       "      <td>26</td>\n",
       "      <td></td>\n",
       "      <td></td>\n",
       "      <td>1</td>\n",
       "      <td>1</td>\n",
       "      <td>false</td>\n",
       "      <td>8</td>\n",
       "      <td>1.0</td>\n",
       "      <td>416.0</td>\n",
       "      <td>true</td>\n",
       "      <td>...</td>\n",
       "      <td>124.32</td>\n",
       "      <td>36.00</td>\n",
       "      <td>0.983009</td>\n",
       "      <td>-3.010604</td>\n",
       "      <td>21.67</td>\n",
       "      <td>14</td>\n",
       "      <td>2.33</td>\n",
       "      <td>0</td>\n",
       "      <td>0</td>\n",
       "      <td>0</td>\n",
       "    </tr>\n",
       "    <tr>\n",
       "      <th>5316</th>\n",
       "      <td>50</td>\n",
       "      <td>professional</td>\n",
       "      <td>town</td>\n",
       "      <td>1</td>\n",
       "      <td>0</td>\n",
       "      <td>true</td>\n",
       "      <td>9</td>\n",
       "      <td>2.0</td>\n",
       "      <td>510.0</td>\n",
       "      <td>true</td>\n",
       "      <td>...</td>\n",
       "      <td>14.33</td>\n",
       "      <td>4.00</td>\n",
       "      <td>1.800257</td>\n",
       "      <td>-0.693877</td>\n",
       "      <td>1.33</td>\n",
       "      <td>31</td>\n",
       "      <td>0.00</td>\n",
       "      <td>0</td>\n",
       "      <td>0</td>\n",
       "      <td>0</td>\n",
       "    </tr>\n",
       "    <tr>\n",
       "      <th>356</th>\n",
       "      <td>28</td>\n",
       "      <td>professional</td>\n",
       "      <td>suburban</td>\n",
       "      <td>1</td>\n",
       "      <td>0</td>\n",
       "      <td>false</td>\n",
       "      <td>6</td>\n",
       "      <td>1.0</td>\n",
       "      <td>937.0</td>\n",
       "      <td>true</td>\n",
       "      <td>...</td>\n",
       "      <td>7.00</td>\n",
       "      <td>0.33</td>\n",
       "      <td>1.685714</td>\n",
       "      <td>-9.601254</td>\n",
       "      <td>4.67</td>\n",
       "      <td>31</td>\n",
       "      <td>0.00</td>\n",
       "      <td>0</td>\n",
       "      <td>0</td>\n",
       "      <td>0</td>\n",
       "    </tr>\n",
       "  </tbody>\n",
       "</table>\n",
       "<p>5 rows × 32 columns</p>\n",
       "</div>"
      ],
      "text/plain": [
       "      age     occupation regionType  marriageStatus_0  marriageStatus_1  \\\n",
       "7389    0                  suburban                 0                 1   \n",
       "9275   40                      town                 1                 0   \n",
       "2995   26                                           1                 1   \n",
       "5316   50   professional       town                 1                 0   \n",
       "356    28   professional   suburban                 1                 0   \n",
       "\n",
       "     children  income  numHandsets  handsetAge smartPhone  ...  avgOutCalls  \\\n",
       "7389    false       0          2.0       417.0       true  ...        51.00   \n",
       "9275     true       6          1.0       372.0       true  ...         0.00   \n",
       "2995    false       8          1.0       416.0       true  ...       124.32   \n",
       "5316     true       9          2.0       510.0       true  ...        14.33   \n",
       "356     false       6          1.0       937.0       true  ...         7.00   \n",
       "\n",
       "     avgInCalls peakOffPeakRatio peakOffPeakRatioChangePct  avgDroppedCalls  \\\n",
       "7389      12.67         0.562190                  2.267979            12.00   \n",
       "9275       0.00         0.000000                  4.987395             0.00   \n",
       "2995      36.00         0.983009                 -3.010604            21.67   \n",
       "5316       4.00         1.800257                 -0.693877             1.33   \n",
       "356        0.33         1.685714                 -9.601254             4.67   \n",
       "\n",
       "      lifeTime  lastMonthCustomerCareCalls  numRetentionCalls  \\\n",
       "7389        14                        5.32                  0   \n",
       "9275        13                        0.00                  0   \n",
       "2995        14                        2.33                  0   \n",
       "5316        31                        0.00                  0   \n",
       "356         31                        0.00                  0   \n",
       "\n",
       "      numRetentionOffersAccepted  newFrequentNumbers  \n",
       "7389                           0                   0  \n",
       "9275                           0                   0  \n",
       "2995                           0                   0  \n",
       "5316                           0                   0  \n",
       "356                            0                   0  \n",
       "\n",
       "[5 rows x 32 columns]"
      ]
     },
     "execution_count": 127,
     "metadata": {},
     "output_type": "execute_result"
    }
   ],
   "source": [
    "X_train.head()"
   ]
  },
  {
   "cell_type": "code",
   "execution_count": 128,
   "metadata": {},
   "outputs": [
    {
     "data": {
      "text/plain": [
       "Index(['age', 'occupation', 'regionType', 'marriageStatus_0',\n",
       "       'marriageStatus_1', 'children', 'income', 'numHandsets', 'handsetAge',\n",
       "       'smartPhone', 'currentHandsetPrice', 'creditRating', 'homeOwner',\n",
       "       'creditCard', 'avgBill', 'avgMins', 'avgrecurringCharge',\n",
       "       'avgOverBundleMins', 'avgRoamCalls', 'callMinutesChangePct',\n",
       "       'billAmountChangePct', 'avgReceivedMins', 'avgOutCalls', 'avgInCalls',\n",
       "       'peakOffPeakRatio', 'peakOffPeakRatioChangePct', 'avgDroppedCalls',\n",
       "       'lifeTime', 'lastMonthCustomerCareCalls', 'numRetentionCalls',\n",
       "       'numRetentionOffersAccepted', 'newFrequentNumbers'],\n",
       "      dtype='object')"
      ]
     },
     "execution_count": 128,
     "metadata": {},
     "output_type": "execute_result"
    }
   ],
   "source": [
    "X_train.columns"
   ]
  },
  {
   "cell_type": "markdown",
   "metadata": {},
   "source": [
    "We can see that two additional variables marriageStatus_0 and marriageStatus_1 are created from RainToday variable."
   ]
  },
  {
   "cell_type": "code",
   "execution_count": 129,
   "metadata": {},
   "outputs": [],
   "source": [
    "# Now, I will create the X_train training set.\n",
    "\n",
    "X_train = pd.concat([X_train[numerical], X_train[['marriageStatus_0', 'marriageStatus_1']],\n",
    "                     pd.get_dummies(X_train.occupation), \n",
    "                     pd.get_dummies(X_train.regionType),\n",
    "                     pd.get_dummies(X_train.children),\n",
    "                     pd.get_dummies(X_train.smartPhone),\n",
    "                     pd.get_dummies(X_train.creditRating),\n",
    "                     pd.get_dummies(X_train.homeOwner)], axis=1)"
   ]
  },
  {
   "cell_type": "code",
   "execution_count": 130,
   "metadata": {},
   "outputs": [
    {
     "data": {
      "text/html": [
       "<div>\n",
       "<style scoped>\n",
       "    .dataframe tbody tr th:only-of-type {\n",
       "        vertical-align: middle;\n",
       "    }\n",
       "\n",
       "    .dataframe tbody tr th {\n",
       "        vertical-align: top;\n",
       "    }\n",
       "\n",
       "    .dataframe thead th {\n",
       "        text-align: right;\n",
       "    }\n",
       "</style>\n",
       "<table border=\"1\" class=\"dataframe\">\n",
       "  <thead>\n",
       "    <tr style=\"text-align: right;\">\n",
       "      <th></th>\n",
       "      <th>age</th>\n",
       "      <th>income</th>\n",
       "      <th>numHandsets</th>\n",
       "      <th>handsetAge</th>\n",
       "      <th>currentHandsetPrice</th>\n",
       "      <th>avgBill</th>\n",
       "      <th>avgMins</th>\n",
       "      <th>avgrecurringCharge</th>\n",
       "      <th>avgOverBundleMins</th>\n",
       "      <th>avgRoamCalls</th>\n",
       "      <th>...</th>\n",
       "      <th>true</th>\n",
       "      <th>A</th>\n",
       "      <th>B</th>\n",
       "      <th>C</th>\n",
       "      <th>D</th>\n",
       "      <th>E</th>\n",
       "      <th>F</th>\n",
       "      <th>G</th>\n",
       "      <th>false</th>\n",
       "      <th>true</th>\n",
       "    </tr>\n",
       "  </thead>\n",
       "  <tbody>\n",
       "    <tr>\n",
       "      <th>7389</th>\n",
       "      <td>0</td>\n",
       "      <td>0</td>\n",
       "      <td>2.0</td>\n",
       "      <td>417.0</td>\n",
       "      <td>149.99</td>\n",
       "      <td>35.84</td>\n",
       "      <td>499.50</td>\n",
       "      <td>45.03</td>\n",
       "      <td>0.00</td>\n",
       "      <td>0.00</td>\n",
       "      <td>...</td>\n",
       "      <td>1</td>\n",
       "      <td>0</td>\n",
       "      <td>0</td>\n",
       "      <td>1</td>\n",
       "      <td>0</td>\n",
       "      <td>0</td>\n",
       "      <td>0</td>\n",
       "      <td>0</td>\n",
       "      <td>0</td>\n",
       "      <td>1</td>\n",
       "    </tr>\n",
       "    <tr>\n",
       "      <th>9275</th>\n",
       "      <td>40</td>\n",
       "      <td>6</td>\n",
       "      <td>1.0</td>\n",
       "      <td>372.0</td>\n",
       "      <td>0.00</td>\n",
       "      <td>34.99</td>\n",
       "      <td>0.00</td>\n",
       "      <td>44.99</td>\n",
       "      <td>0.00</td>\n",
       "      <td>0.00</td>\n",
       "      <td>...</td>\n",
       "      <td>1</td>\n",
       "      <td>0</td>\n",
       "      <td>0</td>\n",
       "      <td>1</td>\n",
       "      <td>0</td>\n",
       "      <td>0</td>\n",
       "      <td>0</td>\n",
       "      <td>0</td>\n",
       "      <td>1</td>\n",
       "      <td>0</td>\n",
       "    </tr>\n",
       "    <tr>\n",
       "      <th>2995</th>\n",
       "      <td>26</td>\n",
       "      <td>8</td>\n",
       "      <td>1.0</td>\n",
       "      <td>416.0</td>\n",
       "      <td>0.00</td>\n",
       "      <td>65.82</td>\n",
       "      <td>1193.75</td>\n",
       "      <td>79.99</td>\n",
       "      <td>0.25</td>\n",
       "      <td>0.00</td>\n",
       "      <td>...</td>\n",
       "      <td>1</td>\n",
       "      <td>0</td>\n",
       "      <td>1</td>\n",
       "      <td>0</td>\n",
       "      <td>0</td>\n",
       "      <td>0</td>\n",
       "      <td>0</td>\n",
       "      <td>0</td>\n",
       "      <td>1</td>\n",
       "      <td>0</td>\n",
       "    </tr>\n",
       "    <tr>\n",
       "      <th>5316</th>\n",
       "      <td>50</td>\n",
       "      <td>9</td>\n",
       "      <td>2.0</td>\n",
       "      <td>510.0</td>\n",
       "      <td>29.99</td>\n",
       "      <td>35.58</td>\n",
       "      <td>170.75</td>\n",
       "      <td>32.49</td>\n",
       "      <td>8.50</td>\n",
       "      <td>0.00</td>\n",
       "      <td>...</td>\n",
       "      <td>1</td>\n",
       "      <td>1</td>\n",
       "      <td>0</td>\n",
       "      <td>0</td>\n",
       "      <td>0</td>\n",
       "      <td>0</td>\n",
       "      <td>0</td>\n",
       "      <td>0</td>\n",
       "      <td>1</td>\n",
       "      <td>0</td>\n",
       "    </tr>\n",
       "    <tr>\n",
       "      <th>356</th>\n",
       "      <td>28</td>\n",
       "      <td>6</td>\n",
       "      <td>1.0</td>\n",
       "      <td>937.0</td>\n",
       "      <td>0.00</td>\n",
       "      <td>96.63</td>\n",
       "      <td>367.25</td>\n",
       "      <td>29.99</td>\n",
       "      <td>175.00</td>\n",
       "      <td>1.73</td>\n",
       "      <td>...</td>\n",
       "      <td>1</td>\n",
       "      <td>1</td>\n",
       "      <td>0</td>\n",
       "      <td>0</td>\n",
       "      <td>0</td>\n",
       "      <td>0</td>\n",
       "      <td>0</td>\n",
       "      <td>0</td>\n",
       "      <td>1</td>\n",
       "      <td>0</td>\n",
       "    </tr>\n",
       "  </tbody>\n",
       "</table>\n",
       "<p>5 rows × 54 columns</p>\n",
       "</div>"
      ],
      "text/plain": [
       "      age  income  numHandsets  handsetAge  currentHandsetPrice  avgBill  \\\n",
       "7389    0       0          2.0       417.0               149.99    35.84   \n",
       "9275   40       6          1.0       372.0                 0.00    34.99   \n",
       "2995   26       8          1.0       416.0                 0.00    65.82   \n",
       "5316   50       9          2.0       510.0                29.99    35.58   \n",
       "356    28       6          1.0       937.0                 0.00    96.63   \n",
       "\n",
       "      avgMins  avgrecurringCharge  avgOverBundleMins  avgRoamCalls  ...  \\\n",
       "7389   499.50               45.03               0.00          0.00  ...   \n",
       "9275     0.00               44.99               0.00          0.00  ...   \n",
       "2995  1193.75               79.99               0.25          0.00  ...   \n",
       "5316   170.75               32.49               8.50          0.00  ...   \n",
       "356    367.25               29.99             175.00          1.73  ...   \n",
       "\n",
       "       true   A   B   C   D   E   F   G   false   true  \n",
       "7389      1   0   0   1   0   0   0   0       0      1  \n",
       "9275      1   0   0   1   0   0   0   0       1      0  \n",
       "2995      1   0   1   0   0   0   0   0       1      0  \n",
       "5316      1   1   0   0   0   0   0   0       1      0  \n",
       "356       1   1   0   0   0   0   0   0       1      0  \n",
       "\n",
       "[5 rows x 54 columns]"
      ]
     },
     "execution_count": 130,
     "metadata": {},
     "output_type": "execute_result"
    }
   ],
   "source": [
    "X_train.head()"
   ]
  },
  {
   "cell_type": "markdown",
   "metadata": {},
   "source": [
    "### Similarly, I will create the X_test testing set."
   ]
  },
  {
   "cell_type": "code",
   "execution_count": 131,
   "metadata": {},
   "outputs": [],
   "source": [
    "X_test = pd.concat([X_test[numerical], X_test[['marriageStatus_0', 'marriageStatus_1']], \n",
    "                    pd.get_dummies(X_test.occupation), \n",
    "                     pd.get_dummies(X_test.regionType),\n",
    "                     pd.get_dummies(X_test.children),\n",
    "                     pd.get_dummies(X_test.smartPhone),\n",
    "                     pd.get_dummies(X_test.creditRating),\n",
    "                     pd.get_dummies(X_test.homeOwner)], axis=1)"
   ]
  },
  {
   "cell_type": "code",
   "execution_count": 132,
   "metadata": {},
   "outputs": [
    {
     "data": {
      "text/html": [
       "<div>\n",
       "<style scoped>\n",
       "    .dataframe tbody tr th:only-of-type {\n",
       "        vertical-align: middle;\n",
       "    }\n",
       "\n",
       "    .dataframe tbody tr th {\n",
       "        vertical-align: top;\n",
       "    }\n",
       "\n",
       "    .dataframe thead th {\n",
       "        text-align: right;\n",
       "    }\n",
       "</style>\n",
       "<table border=\"1\" class=\"dataframe\">\n",
       "  <thead>\n",
       "    <tr style=\"text-align: right;\">\n",
       "      <th></th>\n",
       "      <th>age</th>\n",
       "      <th>income</th>\n",
       "      <th>numHandsets</th>\n",
       "      <th>handsetAge</th>\n",
       "      <th>currentHandsetPrice</th>\n",
       "      <th>avgBill</th>\n",
       "      <th>avgMins</th>\n",
       "      <th>avgrecurringCharge</th>\n",
       "      <th>avgOverBundleMins</th>\n",
       "      <th>avgRoamCalls</th>\n",
       "      <th>...</th>\n",
       "      <th>true</th>\n",
       "      <th>A</th>\n",
       "      <th>B</th>\n",
       "      <th>C</th>\n",
       "      <th>D</th>\n",
       "      <th>E</th>\n",
       "      <th>F</th>\n",
       "      <th>G</th>\n",
       "      <th>false</th>\n",
       "      <th>true</th>\n",
       "    </tr>\n",
       "  </thead>\n",
       "  <tbody>\n",
       "    <tr>\n",
       "      <th>9394</th>\n",
       "      <td>0</td>\n",
       "      <td>0</td>\n",
       "      <td>2.0</td>\n",
       "      <td>75.0</td>\n",
       "      <td>129.99</td>\n",
       "      <td>187.07</td>\n",
       "      <td>1394.25</td>\n",
       "      <td>48.87</td>\n",
       "      <td>175.0</td>\n",
       "      <td>0.0</td>\n",
       "      <td>...</td>\n",
       "      <td>1</td>\n",
       "      <td>0</td>\n",
       "      <td>0</td>\n",
       "      <td>0</td>\n",
       "      <td>0</td>\n",
       "      <td>0</td>\n",
       "      <td>0</td>\n",
       "      <td>1</td>\n",
       "      <td>0</td>\n",
       "      <td>1</td>\n",
       "    </tr>\n",
       "    <tr>\n",
       "      <th>898</th>\n",
       "      <td>58</td>\n",
       "      <td>6</td>\n",
       "      <td>1.0</td>\n",
       "      <td>864.0</td>\n",
       "      <td>0.00</td>\n",
       "      <td>80.48</td>\n",
       "      <td>881.00</td>\n",
       "      <td>75.00</td>\n",
       "      <td>0.0</td>\n",
       "      <td>0.0</td>\n",
       "      <td>...</td>\n",
       "      <td>1</td>\n",
       "      <td>1</td>\n",
       "      <td>0</td>\n",
       "      <td>0</td>\n",
       "      <td>0</td>\n",
       "      <td>0</td>\n",
       "      <td>0</td>\n",
       "      <td>0</td>\n",
       "      <td>1</td>\n",
       "      <td>0</td>\n",
       "    </tr>\n",
       "    <tr>\n",
       "      <th>2398</th>\n",
       "      <td>0</td>\n",
       "      <td>0</td>\n",
       "      <td>5.0</td>\n",
       "      <td>22.0</td>\n",
       "      <td>199.99</td>\n",
       "      <td>62.24</td>\n",
       "      <td>611.25</td>\n",
       "      <td>58.79</td>\n",
       "      <td>0.0</td>\n",
       "      <td>0.0</td>\n",
       "      <td>...</td>\n",
       "      <td>1</td>\n",
       "      <td>0</td>\n",
       "      <td>0</td>\n",
       "      <td>0</td>\n",
       "      <td>1</td>\n",
       "      <td>0</td>\n",
       "      <td>0</td>\n",
       "      <td>0</td>\n",
       "      <td>0</td>\n",
       "      <td>1</td>\n",
       "    </tr>\n",
       "    <tr>\n",
       "      <th>5906</th>\n",
       "      <td>28</td>\n",
       "      <td>1</td>\n",
       "      <td>2.0</td>\n",
       "      <td>175.0</td>\n",
       "      <td>59.99</td>\n",
       "      <td>111.78</td>\n",
       "      <td>777.50</td>\n",
       "      <td>49.17</td>\n",
       "      <td>175.0</td>\n",
       "      <td>0.0</td>\n",
       "      <td>...</td>\n",
       "      <td>1</td>\n",
       "      <td>0</td>\n",
       "      <td>0</td>\n",
       "      <td>1</td>\n",
       "      <td>0</td>\n",
       "      <td>0</td>\n",
       "      <td>0</td>\n",
       "      <td>0</td>\n",
       "      <td>0</td>\n",
       "      <td>1</td>\n",
       "    </tr>\n",
       "    <tr>\n",
       "      <th>2343</th>\n",
       "      <td>24</td>\n",
       "      <td>6</td>\n",
       "      <td>1.0</td>\n",
       "      <td>582.0</td>\n",
       "      <td>0.00</td>\n",
       "      <td>31.39</td>\n",
       "      <td>884.50</td>\n",
       "      <td>44.99</td>\n",
       "      <td>0.0</td>\n",
       "      <td>0.0</td>\n",
       "      <td>...</td>\n",
       "      <td>1</td>\n",
       "      <td>0</td>\n",
       "      <td>0</td>\n",
       "      <td>1</td>\n",
       "      <td>0</td>\n",
       "      <td>0</td>\n",
       "      <td>0</td>\n",
       "      <td>0</td>\n",
       "      <td>1</td>\n",
       "      <td>0</td>\n",
       "    </tr>\n",
       "  </tbody>\n",
       "</table>\n",
       "<p>5 rows × 54 columns</p>\n",
       "</div>"
      ],
      "text/plain": [
       "      age  income  numHandsets  handsetAge  currentHandsetPrice  avgBill  \\\n",
       "9394    0       0          2.0        75.0               129.99   187.07   \n",
       "898    58       6          1.0       864.0                 0.00    80.48   \n",
       "2398    0       0          5.0        22.0               199.99    62.24   \n",
       "5906   28       1          2.0       175.0                59.99   111.78   \n",
       "2343   24       6          1.0       582.0                 0.00    31.39   \n",
       "\n",
       "      avgMins  avgrecurringCharge  avgOverBundleMins  avgRoamCalls  ...  \\\n",
       "9394  1394.25               48.87              175.0           0.0  ...   \n",
       "898    881.00               75.00                0.0           0.0  ...   \n",
       "2398   611.25               58.79                0.0           0.0  ...   \n",
       "5906   777.50               49.17              175.0           0.0  ...   \n",
       "2343   884.50               44.99                0.0           0.0  ...   \n",
       "\n",
       "       true   A   B   C   D   E   F   G   false   true  \n",
       "9394      1   0   0   0   0   0   0   1       0      1  \n",
       "898       1   1   0   0   0   0   0   0       1      0  \n",
       "2398      1   0   0   0   1   0   0   0       0      1  \n",
       "5906      1   0   0   1   0   0   0   0       0      1  \n",
       "2343      1   0   0   1   0   0   0   0       1      0  \n",
       "\n",
       "[5 rows x 54 columns]"
      ]
     },
     "execution_count": 132,
     "metadata": {},
     "output_type": "execute_result"
    }
   ],
   "source": [
    "X_test.head()"
   ]
  },
  {
   "cell_type": "markdown",
   "metadata": {},
   "source": [
    "# SECTION 11. Feature Scaling"
   ]
  },
  {
   "cell_type": "code",
   "execution_count": 133,
   "metadata": {},
   "outputs": [
    {
     "data": {
      "text/html": [
       "<div>\n",
       "<style scoped>\n",
       "    .dataframe tbody tr th:only-of-type {\n",
       "        vertical-align: middle;\n",
       "    }\n",
       "\n",
       "    .dataframe tbody tr th {\n",
       "        vertical-align: top;\n",
       "    }\n",
       "\n",
       "    .dataframe thead th {\n",
       "        text-align: right;\n",
       "    }\n",
       "</style>\n",
       "<table border=\"1\" class=\"dataframe\">\n",
       "  <thead>\n",
       "    <tr style=\"text-align: right;\">\n",
       "      <th></th>\n",
       "      <th>age</th>\n",
       "      <th>income</th>\n",
       "      <th>numHandsets</th>\n",
       "      <th>handsetAge</th>\n",
       "      <th>currentHandsetPrice</th>\n",
       "      <th>avgBill</th>\n",
       "      <th>avgMins</th>\n",
       "      <th>avgrecurringCharge</th>\n",
       "      <th>avgOverBundleMins</th>\n",
       "      <th>avgRoamCalls</th>\n",
       "      <th>...</th>\n",
       "      <th>true</th>\n",
       "      <th>A</th>\n",
       "      <th>B</th>\n",
       "      <th>C</th>\n",
       "      <th>D</th>\n",
       "      <th>E</th>\n",
       "      <th>F</th>\n",
       "      <th>G</th>\n",
       "      <th>false</th>\n",
       "      <th>true</th>\n",
       "    </tr>\n",
       "  </thead>\n",
       "  <tbody>\n",
       "    <tr>\n",
       "      <th>count</th>\n",
       "      <td>8000.000000</td>\n",
       "      <td>8000.000000</td>\n",
       "      <td>8000.000000</td>\n",
       "      <td>8000.000000</td>\n",
       "      <td>8000.000000</td>\n",
       "      <td>8000.000000</td>\n",
       "      <td>8000.000000</td>\n",
       "      <td>8000.000000</td>\n",
       "      <td>8000.000000</td>\n",
       "      <td>8000.000000</td>\n",
       "      <td>...</td>\n",
       "      <td>8000.000000</td>\n",
       "      <td>8000.000000</td>\n",
       "      <td>8000.000000</td>\n",
       "      <td>8000.000000</td>\n",
       "      <td>8000.000000</td>\n",
       "      <td>8000.000000</td>\n",
       "      <td>8000.000000</td>\n",
       "      <td>8000.000000</td>\n",
       "      <td>8000.000000</td>\n",
       "      <td>8000.000000</td>\n",
       "    </tr>\n",
       "    <tr>\n",
       "      <th>mean</th>\n",
       "      <td>30.344500</td>\n",
       "      <td>4.287125</td>\n",
       "      <td>1.749000</td>\n",
       "      <td>391.027250</td>\n",
       "      <td>35.535612</td>\n",
       "      <td>57.568070</td>\n",
       "      <td>511.155465</td>\n",
       "      <td>46.091857</td>\n",
       "      <td>32.183600</td>\n",
       "      <td>1.218824</td>\n",
       "      <td>...</td>\n",
       "      <td>0.902375</td>\n",
       "      <td>0.168250</td>\n",
       "      <td>0.378750</td>\n",
       "      <td>0.169875</td>\n",
       "      <td>0.098750</td>\n",
       "      <td>0.121000</td>\n",
       "      <td>0.025000</td>\n",
       "      <td>0.038375</td>\n",
       "      <td>0.655875</td>\n",
       "      <td>0.344125</td>\n",
       "    </tr>\n",
       "    <tr>\n",
       "      <th>std</th>\n",
       "      <td>22.150094</td>\n",
       "      <td>3.135788</td>\n",
       "      <td>1.076752</td>\n",
       "      <td>255.791741</td>\n",
       "      <td>56.110773</td>\n",
       "      <td>36.821317</td>\n",
       "      <td>497.435203</td>\n",
       "      <td>22.937890</td>\n",
       "      <td>51.733507</td>\n",
       "      <td>6.378080</td>\n",
       "      <td>...</td>\n",
       "      <td>0.296825</td>\n",
       "      <td>0.374112</td>\n",
       "      <td>0.485106</td>\n",
       "      <td>0.375546</td>\n",
       "      <td>0.298345</td>\n",
       "      <td>0.326148</td>\n",
       "      <td>0.156135</td>\n",
       "      <td>0.192112</td>\n",
       "      <td>0.475112</td>\n",
       "      <td>0.475112</td>\n",
       "    </tr>\n",
       "    <tr>\n",
       "      <th>min</th>\n",
       "      <td>0.000000</td>\n",
       "      <td>0.000000</td>\n",
       "      <td>1.000000</td>\n",
       "      <td>-4.000000</td>\n",
       "      <td>0.000000</td>\n",
       "      <td>0.000000</td>\n",
       "      <td>0.000000</td>\n",
       "      <td>0.000000</td>\n",
       "      <td>0.000000</td>\n",
       "      <td>0.000000</td>\n",
       "      <td>...</td>\n",
       "      <td>0.000000</td>\n",
       "      <td>0.000000</td>\n",
       "      <td>0.000000</td>\n",
       "      <td>0.000000</td>\n",
       "      <td>0.000000</td>\n",
       "      <td>0.000000</td>\n",
       "      <td>0.000000</td>\n",
       "      <td>0.000000</td>\n",
       "      <td>0.000000</td>\n",
       "      <td>0.000000</td>\n",
       "    </tr>\n",
       "    <tr>\n",
       "      <th>25%</th>\n",
       "      <td>0.000000</td>\n",
       "      <td>0.000000</td>\n",
       "      <td>1.000000</td>\n",
       "      <td>210.000000</td>\n",
       "      <td>0.000000</td>\n",
       "      <td>33.387500</td>\n",
       "      <td>151.250000</td>\n",
       "      <td>30.000000</td>\n",
       "      <td>0.000000</td>\n",
       "      <td>0.000000</td>\n",
       "      <td>...</td>\n",
       "      <td>1.000000</td>\n",
       "      <td>0.000000</td>\n",
       "      <td>0.000000</td>\n",
       "      <td>0.000000</td>\n",
       "      <td>0.000000</td>\n",
       "      <td>0.000000</td>\n",
       "      <td>0.000000</td>\n",
       "      <td>0.000000</td>\n",
       "      <td>0.000000</td>\n",
       "      <td>0.000000</td>\n",
       "    </tr>\n",
       "    <tr>\n",
       "      <th>50%</th>\n",
       "      <td>34.000000</td>\n",
       "      <td>5.000000</td>\n",
       "      <td>1.000000</td>\n",
       "      <td>341.000000</td>\n",
       "      <td>0.000000</td>\n",
       "      <td>48.995000</td>\n",
       "      <td>356.750000</td>\n",
       "      <td>44.990000</td>\n",
       "      <td>3.000000</td>\n",
       "      <td>0.000000</td>\n",
       "      <td>...</td>\n",
       "      <td>1.000000</td>\n",
       "      <td>0.000000</td>\n",
       "      <td>0.000000</td>\n",
       "      <td>0.000000</td>\n",
       "      <td>0.000000</td>\n",
       "      <td>0.000000</td>\n",
       "      <td>0.000000</td>\n",
       "      <td>0.000000</td>\n",
       "      <td>1.000000</td>\n",
       "      <td>0.000000</td>\n",
       "    </tr>\n",
       "    <tr>\n",
       "      <th>75%</th>\n",
       "      <td>48.000000</td>\n",
       "      <td>7.000000</td>\n",
       "      <td>2.000000</td>\n",
       "      <td>526.000000</td>\n",
       "      <td>39.990000</td>\n",
       "      <td>71.885000</td>\n",
       "      <td>707.312500</td>\n",
       "      <td>59.990000</td>\n",
       "      <td>43.312500</td>\n",
       "      <td>0.240000</td>\n",
       "      <td>...</td>\n",
       "      <td>1.000000</td>\n",
       "      <td>0.000000</td>\n",
       "      <td>1.000000</td>\n",
       "      <td>0.000000</td>\n",
       "      <td>0.000000</td>\n",
       "      <td>0.000000</td>\n",
       "      <td>0.000000</td>\n",
       "      <td>0.000000</td>\n",
       "      <td>1.000000</td>\n",
       "      <td>1.000000</td>\n",
       "    </tr>\n",
       "    <tr>\n",
       "      <th>max</th>\n",
       "      <td>98.000000</td>\n",
       "      <td>9.000000</td>\n",
       "      <td>5.000000</td>\n",
       "      <td>1470.000000</td>\n",
       "      <td>239.960000</td>\n",
       "      <td>187.070000</td>\n",
       "      <td>2384.870000</td>\n",
       "      <td>149.960000</td>\n",
       "      <td>175.000000</td>\n",
       "      <td>177.990000</td>\n",
       "      <td>...</td>\n",
       "      <td>1.000000</td>\n",
       "      <td>1.000000</td>\n",
       "      <td>1.000000</td>\n",
       "      <td>1.000000</td>\n",
       "      <td>1.000000</td>\n",
       "      <td>1.000000</td>\n",
       "      <td>1.000000</td>\n",
       "      <td>1.000000</td>\n",
       "      <td>1.000000</td>\n",
       "      <td>1.000000</td>\n",
       "    </tr>\n",
       "  </tbody>\n",
       "</table>\n",
       "<p>8 rows × 54 columns</p>\n",
       "</div>"
      ],
      "text/plain": [
       "               age       income  numHandsets   handsetAge  \\\n",
       "count  8000.000000  8000.000000  8000.000000  8000.000000   \n",
       "mean     30.344500     4.287125     1.749000   391.027250   \n",
       "std      22.150094     3.135788     1.076752   255.791741   \n",
       "min       0.000000     0.000000     1.000000    -4.000000   \n",
       "25%       0.000000     0.000000     1.000000   210.000000   \n",
       "50%      34.000000     5.000000     1.000000   341.000000   \n",
       "75%      48.000000     7.000000     2.000000   526.000000   \n",
       "max      98.000000     9.000000     5.000000  1470.000000   \n",
       "\n",
       "       currentHandsetPrice      avgBill      avgMins  avgrecurringCharge  \\\n",
       "count          8000.000000  8000.000000  8000.000000         8000.000000   \n",
       "mean             35.535612    57.568070   511.155465           46.091857   \n",
       "std              56.110773    36.821317   497.435203           22.937890   \n",
       "min               0.000000     0.000000     0.000000            0.000000   \n",
       "25%               0.000000    33.387500   151.250000           30.000000   \n",
       "50%               0.000000    48.995000   356.750000           44.990000   \n",
       "75%              39.990000    71.885000   707.312500           59.990000   \n",
       "max             239.960000   187.070000  2384.870000          149.960000   \n",
       "\n",
       "       avgOverBundleMins  avgRoamCalls  ...         true            A  \\\n",
       "count        8000.000000   8000.000000  ...  8000.000000  8000.000000   \n",
       "mean           32.183600      1.218824  ...     0.902375     0.168250   \n",
       "std            51.733507      6.378080  ...     0.296825     0.374112   \n",
       "min             0.000000      0.000000  ...     0.000000     0.000000   \n",
       "25%             0.000000      0.000000  ...     1.000000     0.000000   \n",
       "50%             3.000000      0.000000  ...     1.000000     0.000000   \n",
       "75%            43.312500      0.240000  ...     1.000000     0.000000   \n",
       "max           175.000000    177.990000  ...     1.000000     1.000000   \n",
       "\n",
       "                 B            C            D            E            F  \\\n",
       "count  8000.000000  8000.000000  8000.000000  8000.000000  8000.000000   \n",
       "mean      0.378750     0.169875     0.098750     0.121000     0.025000   \n",
       "std       0.485106     0.375546     0.298345     0.326148     0.156135   \n",
       "min       0.000000     0.000000     0.000000     0.000000     0.000000   \n",
       "25%       0.000000     0.000000     0.000000     0.000000     0.000000   \n",
       "50%       0.000000     0.000000     0.000000     0.000000     0.000000   \n",
       "75%       1.000000     0.000000     0.000000     0.000000     0.000000   \n",
       "max       1.000000     1.000000     1.000000     1.000000     1.000000   \n",
       "\n",
       "                 G        false         true  \n",
       "count  8000.000000  8000.000000  8000.000000  \n",
       "mean      0.038375     0.655875     0.344125  \n",
       "std       0.192112     0.475112     0.475112  \n",
       "min       0.000000     0.000000     0.000000  \n",
       "25%       0.000000     0.000000     0.000000  \n",
       "50%       0.000000     1.000000     0.000000  \n",
       "75%       0.000000     1.000000     1.000000  \n",
       "max       1.000000     1.000000     1.000000  \n",
       "\n",
       "[8 rows x 54 columns]"
      ]
     },
     "execution_count": 133,
     "metadata": {},
     "output_type": "execute_result"
    }
   ],
   "source": [
    "X_train.describe()"
   ]
  },
  {
   "cell_type": "code",
   "execution_count": 134,
   "metadata": {},
   "outputs": [],
   "source": [
    "cols = X_train.columns"
   ]
  },
  {
   "cell_type": "code",
   "execution_count": 135,
   "metadata": {},
   "outputs": [],
   "source": [
    "from sklearn.preprocessing import MinMaxScaler\n",
    "\n",
    "scaler = MinMaxScaler()\n",
    "\n",
    "X_train = scaler.fit_transform(X_train)\n",
    "\n",
    "X_test = scaler.transform(X_test)"
   ]
  },
  {
   "cell_type": "code",
   "execution_count": 136,
   "metadata": {},
   "outputs": [
    {
     "data": {
      "text/plain": [
       "numpy.ndarray"
      ]
     },
     "execution_count": 136,
     "metadata": {},
     "output_type": "execute_result"
    }
   ],
   "source": [
    "type(X_train)"
   ]
  },
  {
   "cell_type": "code",
   "execution_count": 137,
   "metadata": {},
   "outputs": [],
   "source": [
    "X_train = pd.DataFrame(X_train, columns=[cols])"
   ]
  },
  {
   "cell_type": "code",
   "execution_count": 138,
   "metadata": {},
   "outputs": [],
   "source": [
    "X_test = pd.DataFrame(X_test, columns=[cols])"
   ]
  },
  {
   "cell_type": "code",
   "execution_count": 139,
   "metadata": {},
   "outputs": [
    {
     "data": {
      "text/html": [
       "<div>\n",
       "<style scoped>\n",
       "    .dataframe tbody tr th:only-of-type {\n",
       "        vertical-align: middle;\n",
       "    }\n",
       "\n",
       "    .dataframe tbody tr th {\n",
       "        vertical-align: top;\n",
       "    }\n",
       "\n",
       "    .dataframe thead tr th {\n",
       "        text-align: left;\n",
       "    }\n",
       "</style>\n",
       "<table border=\"1\" class=\"dataframe\">\n",
       "  <thead>\n",
       "    <tr>\n",
       "      <th></th>\n",
       "      <th>age</th>\n",
       "      <th>income</th>\n",
       "      <th>numHandsets</th>\n",
       "      <th>handsetAge</th>\n",
       "      <th>currentHandsetPrice</th>\n",
       "      <th>avgBill</th>\n",
       "      <th>avgMins</th>\n",
       "      <th>avgrecurringCharge</th>\n",
       "      <th>avgOverBundleMins</th>\n",
       "      <th>avgRoamCalls</th>\n",
       "      <th>...</th>\n",
       "      <th>true</th>\n",
       "      <th>A</th>\n",
       "      <th>B</th>\n",
       "      <th>C</th>\n",
       "      <th>D</th>\n",
       "      <th>E</th>\n",
       "      <th>F</th>\n",
       "      <th>G</th>\n",
       "      <th>false</th>\n",
       "      <th>true</th>\n",
       "    </tr>\n",
       "  </thead>\n",
       "  <tbody>\n",
       "    <tr>\n",
       "      <th>count</th>\n",
       "      <td>8000.000000</td>\n",
       "      <td>8000.000000</td>\n",
       "      <td>8000.000000</td>\n",
       "      <td>8000.000000</td>\n",
       "      <td>8000.000000</td>\n",
       "      <td>8000.000000</td>\n",
       "      <td>8000.000000</td>\n",
       "      <td>8000.000000</td>\n",
       "      <td>8000.000000</td>\n",
       "      <td>8000.000000</td>\n",
       "      <td>...</td>\n",
       "      <td>8000.000000</td>\n",
       "      <td>8000.000000</td>\n",
       "      <td>8000.000000</td>\n",
       "      <td>8000.000000</td>\n",
       "      <td>8000.000000</td>\n",
       "      <td>8000.000000</td>\n",
       "      <td>8000.000000</td>\n",
       "      <td>8000.000000</td>\n",
       "      <td>8000.000000</td>\n",
       "      <td>8000.000000</td>\n",
       "    </tr>\n",
       "    <tr>\n",
       "      <th>mean</th>\n",
       "      <td>0.309638</td>\n",
       "      <td>0.476347</td>\n",
       "      <td>0.187250</td>\n",
       "      <td>0.267997</td>\n",
       "      <td>0.148090</td>\n",
       "      <td>0.307735</td>\n",
       "      <td>0.214333</td>\n",
       "      <td>0.307361</td>\n",
       "      <td>0.183906</td>\n",
       "      <td>0.006848</td>\n",
       "      <td>...</td>\n",
       "      <td>0.902375</td>\n",
       "      <td>0.168250</td>\n",
       "      <td>0.378750</td>\n",
       "      <td>0.169875</td>\n",
       "      <td>0.098750</td>\n",
       "      <td>0.121000</td>\n",
       "      <td>0.025000</td>\n",
       "      <td>0.038375</td>\n",
       "      <td>0.655875</td>\n",
       "      <td>0.344125</td>\n",
       "    </tr>\n",
       "    <tr>\n",
       "      <th>std</th>\n",
       "      <td>0.226021</td>\n",
       "      <td>0.348421</td>\n",
       "      <td>0.269188</td>\n",
       "      <td>0.173536</td>\n",
       "      <td>0.233834</td>\n",
       "      <td>0.196832</td>\n",
       "      <td>0.208580</td>\n",
       "      <td>0.152960</td>\n",
       "      <td>0.295620</td>\n",
       "      <td>0.035834</td>\n",
       "      <td>...</td>\n",
       "      <td>0.296825</td>\n",
       "      <td>0.374112</td>\n",
       "      <td>0.485106</td>\n",
       "      <td>0.375546</td>\n",
       "      <td>0.298345</td>\n",
       "      <td>0.326148</td>\n",
       "      <td>0.156135</td>\n",
       "      <td>0.192112</td>\n",
       "      <td>0.475112</td>\n",
       "      <td>0.475112</td>\n",
       "    </tr>\n",
       "    <tr>\n",
       "      <th>min</th>\n",
       "      <td>0.000000</td>\n",
       "      <td>0.000000</td>\n",
       "      <td>0.000000</td>\n",
       "      <td>0.000000</td>\n",
       "      <td>0.000000</td>\n",
       "      <td>0.000000</td>\n",
       "      <td>0.000000</td>\n",
       "      <td>0.000000</td>\n",
       "      <td>0.000000</td>\n",
       "      <td>0.000000</td>\n",
       "      <td>...</td>\n",
       "      <td>0.000000</td>\n",
       "      <td>0.000000</td>\n",
       "      <td>0.000000</td>\n",
       "      <td>0.000000</td>\n",
       "      <td>0.000000</td>\n",
       "      <td>0.000000</td>\n",
       "      <td>0.000000</td>\n",
       "      <td>0.000000</td>\n",
       "      <td>0.000000</td>\n",
       "      <td>0.000000</td>\n",
       "    </tr>\n",
       "    <tr>\n",
       "      <th>25%</th>\n",
       "      <td>0.000000</td>\n",
       "      <td>0.000000</td>\n",
       "      <td>0.000000</td>\n",
       "      <td>0.145183</td>\n",
       "      <td>0.000000</td>\n",
       "      <td>0.178476</td>\n",
       "      <td>0.063421</td>\n",
       "      <td>0.200053</td>\n",
       "      <td>0.000000</td>\n",
       "      <td>0.000000</td>\n",
       "      <td>...</td>\n",
       "      <td>1.000000</td>\n",
       "      <td>0.000000</td>\n",
       "      <td>0.000000</td>\n",
       "      <td>0.000000</td>\n",
       "      <td>0.000000</td>\n",
       "      <td>0.000000</td>\n",
       "      <td>0.000000</td>\n",
       "      <td>0.000000</td>\n",
       "      <td>0.000000</td>\n",
       "      <td>0.000000</td>\n",
       "    </tr>\n",
       "    <tr>\n",
       "      <th>50%</th>\n",
       "      <td>0.346939</td>\n",
       "      <td>0.555556</td>\n",
       "      <td>0.000000</td>\n",
       "      <td>0.234057</td>\n",
       "      <td>0.000000</td>\n",
       "      <td>0.261907</td>\n",
       "      <td>0.149589</td>\n",
       "      <td>0.300013</td>\n",
       "      <td>0.017143</td>\n",
       "      <td>0.000000</td>\n",
       "      <td>...</td>\n",
       "      <td>1.000000</td>\n",
       "      <td>0.000000</td>\n",
       "      <td>0.000000</td>\n",
       "      <td>0.000000</td>\n",
       "      <td>0.000000</td>\n",
       "      <td>0.000000</td>\n",
       "      <td>0.000000</td>\n",
       "      <td>0.000000</td>\n",
       "      <td>1.000000</td>\n",
       "      <td>0.000000</td>\n",
       "    </tr>\n",
       "    <tr>\n",
       "      <th>75%</th>\n",
       "      <td>0.489796</td>\n",
       "      <td>0.777778</td>\n",
       "      <td>0.250000</td>\n",
       "      <td>0.359566</td>\n",
       "      <td>0.166653</td>\n",
       "      <td>0.384268</td>\n",
       "      <td>0.296583</td>\n",
       "      <td>0.400040</td>\n",
       "      <td>0.247500</td>\n",
       "      <td>0.001348</td>\n",
       "      <td>...</td>\n",
       "      <td>1.000000</td>\n",
       "      <td>0.000000</td>\n",
       "      <td>1.000000</td>\n",
       "      <td>0.000000</td>\n",
       "      <td>0.000000</td>\n",
       "      <td>0.000000</td>\n",
       "      <td>0.000000</td>\n",
       "      <td>0.000000</td>\n",
       "      <td>1.000000</td>\n",
       "      <td>1.000000</td>\n",
       "    </tr>\n",
       "    <tr>\n",
       "      <th>max</th>\n",
       "      <td>1.000000</td>\n",
       "      <td>1.000000</td>\n",
       "      <td>1.000000</td>\n",
       "      <td>1.000000</td>\n",
       "      <td>1.000000</td>\n",
       "      <td>1.000000</td>\n",
       "      <td>1.000000</td>\n",
       "      <td>1.000000</td>\n",
       "      <td>1.000000</td>\n",
       "      <td>1.000000</td>\n",
       "      <td>...</td>\n",
       "      <td>1.000000</td>\n",
       "      <td>1.000000</td>\n",
       "      <td>1.000000</td>\n",
       "      <td>1.000000</td>\n",
       "      <td>1.000000</td>\n",
       "      <td>1.000000</td>\n",
       "      <td>1.000000</td>\n",
       "      <td>1.000000</td>\n",
       "      <td>1.000000</td>\n",
       "      <td>1.000000</td>\n",
       "    </tr>\n",
       "  </tbody>\n",
       "</table>\n",
       "<p>8 rows × 54 columns</p>\n",
       "</div>"
      ],
      "text/plain": [
       "               age       income  numHandsets   handsetAge currentHandsetPrice  \\\n",
       "count  8000.000000  8000.000000  8000.000000  8000.000000         8000.000000   \n",
       "mean      0.309638     0.476347     0.187250     0.267997            0.148090   \n",
       "std       0.226021     0.348421     0.269188     0.173536            0.233834   \n",
       "min       0.000000     0.000000     0.000000     0.000000            0.000000   \n",
       "25%       0.000000     0.000000     0.000000     0.145183            0.000000   \n",
       "50%       0.346939     0.555556     0.000000     0.234057            0.000000   \n",
       "75%       0.489796     0.777778     0.250000     0.359566            0.166653   \n",
       "max       1.000000     1.000000     1.000000     1.000000            1.000000   \n",
       "\n",
       "           avgBill      avgMins avgrecurringCharge avgOverBundleMins  \\\n",
       "count  8000.000000  8000.000000        8000.000000       8000.000000   \n",
       "mean      0.307735     0.214333           0.307361          0.183906   \n",
       "std       0.196832     0.208580           0.152960          0.295620   \n",
       "min       0.000000     0.000000           0.000000          0.000000   \n",
       "25%       0.178476     0.063421           0.200053          0.000000   \n",
       "50%       0.261907     0.149589           0.300013          0.017143   \n",
       "75%       0.384268     0.296583           0.400040          0.247500   \n",
       "max       1.000000     1.000000           1.000000          1.000000   \n",
       "\n",
       "      avgRoamCalls  ...         true            A            B            C  \\\n",
       "count  8000.000000  ...  8000.000000  8000.000000  8000.000000  8000.000000   \n",
       "mean      0.006848  ...     0.902375     0.168250     0.378750     0.169875   \n",
       "std       0.035834  ...     0.296825     0.374112     0.485106     0.375546   \n",
       "min       0.000000  ...     0.000000     0.000000     0.000000     0.000000   \n",
       "25%       0.000000  ...     1.000000     0.000000     0.000000     0.000000   \n",
       "50%       0.000000  ...     1.000000     0.000000     0.000000     0.000000   \n",
       "75%       0.001348  ...     1.000000     0.000000     1.000000     0.000000   \n",
       "max       1.000000  ...     1.000000     1.000000     1.000000     1.000000   \n",
       "\n",
       "                 D            E            F            G        false  \\\n",
       "count  8000.000000  8000.000000  8000.000000  8000.000000  8000.000000   \n",
       "mean      0.098750     0.121000     0.025000     0.038375     0.655875   \n",
       "std       0.298345     0.326148     0.156135     0.192112     0.475112   \n",
       "min       0.000000     0.000000     0.000000     0.000000     0.000000   \n",
       "25%       0.000000     0.000000     0.000000     0.000000     0.000000   \n",
       "50%       0.000000     0.000000     0.000000     0.000000     1.000000   \n",
       "75%       0.000000     0.000000     0.000000     0.000000     1.000000   \n",
       "max       1.000000     1.000000     1.000000     1.000000     1.000000   \n",
       "\n",
       "              true  \n",
       "count  8000.000000  \n",
       "mean      0.344125  \n",
       "std       0.475112  \n",
       "min       0.000000  \n",
       "25%       0.000000  \n",
       "50%       0.000000  \n",
       "75%       1.000000  \n",
       "max       1.000000  \n",
       "\n",
       "[8 rows x 54 columns]"
      ]
     },
     "execution_count": 139,
     "metadata": {},
     "output_type": "execute_result"
    }
   ],
   "source": [
    "X_train.describe()"
   ]
  },
  {
   "cell_type": "code",
   "execution_count": 140,
   "metadata": {},
   "outputs": [],
   "source": [
    "# X_train.isnull().sum()"
   ]
  },
  {
   "cell_type": "markdown",
   "metadata": {},
   "source": [
    "### We now have X_train dataset ready to be fed into the Logistic Regression classifier. I will do it as follows."
   ]
  },
  {
   "cell_type": "markdown",
   "metadata": {},
   "source": [
    "# SECTION 12. Model Training"
   ]
  },
  {
   "cell_type": "code",
   "execution_count": 141,
   "metadata": {},
   "outputs": [
    {
     "data": {
      "text/plain": [
       "LogisticRegression(random_state=0, solver='liblinear')"
      ]
     },
     "execution_count": 141,
     "metadata": {},
     "output_type": "execute_result"
    }
   ],
   "source": [
    "# train a logistic regression model on the training set\n",
    "from sklearn.linear_model import LogisticRegression\n",
    "\n",
    "\n",
    "# instantiate the model\n",
    "logreg = LogisticRegression(solver='liblinear', random_state=0)\n",
    "\n",
    "\n",
    "# fit the model\n",
    "logreg.fit(X_train, y_train)"
   ]
  },
  {
   "cell_type": "markdown",
   "metadata": {},
   "source": [
    "# SECTION 12B. Decision Tree"
   ]
  },
  {
   "cell_type": "code",
   "execution_count": 142,
   "metadata": {},
   "outputs": [
    {
     "data": {
      "text/plain": [
       "DecisionTreeClassifier(criterion='entropy', max_depth=100, random_state=0)"
      ]
     },
     "execution_count": 142,
     "metadata": {},
     "output_type": "execute_result"
    }
   ],
   "source": [
    "# Train a decision tree model on the training set\n",
    "from sklearn.tree import DecisionTreeClassifier\n",
    "\n",
    "\n",
    "# Instantiate the model\n",
    "clf = DecisionTreeClassifier(criterion='entropy', max_depth = 100, random_state=0)\n",
    "\n",
    "\n",
    "# Fit the model\n",
    "clf.fit(X_train, y_train)"
   ]
  },
  {
   "cell_type": "markdown",
   "metadata": {},
   "source": [
    "# SECTION 13. Predict Results"
   ]
  },
  {
   "cell_type": "code",
   "execution_count": 143,
   "metadata": {},
   "outputs": [
    {
     "data": {
      "text/plain": [
       "array([' true', ' false', ' false', ..., ' false', ' false', ' false'],\n",
       "      dtype=object)"
      ]
     },
     "execution_count": 143,
     "metadata": {},
     "output_type": "execute_result"
    }
   ],
   "source": [
    "y_pred_test = logreg.predict(X_test)\n",
    "\n",
    "y_pred_test"
   ]
  },
  {
   "cell_type": "markdown",
   "metadata": {},
   "source": [
    "### Predict_proba method.\n",
    "\n",
    "- predict_proba method gives the probabilities for the target variable(0 and 1) in this case, in array form.\n",
    "\n",
    "- 0 is for probability of no churn and 1 is for probability of churn."
   ]
  },
  {
   "cell_type": "code",
   "execution_count": 144,
   "metadata": {},
   "outputs": [
    {
     "data": {
      "text/plain": [
       "array([0.45902115, 0.59825058, 0.63365768, ..., 0.50478292, 0.54409186,\n",
       "       0.59138848])"
      ]
     },
     "execution_count": 144,
     "metadata": {},
     "output_type": "execute_result"
    }
   ],
   "source": [
    "# probability of getting output as 0 - no churn\n",
    "\n",
    "logreg.predict_proba(X_test)[:,0]"
   ]
  },
  {
   "cell_type": "code",
   "execution_count": 145,
   "metadata": {},
   "outputs": [
    {
     "data": {
      "text/plain": [
       "array([0.54097885, 0.40174942, 0.36634232, ..., 0.49521708, 0.45590814,\n",
       "       0.40861152])"
      ]
     },
     "execution_count": 145,
     "metadata": {},
     "output_type": "execute_result"
    }
   ],
   "source": [
    "# probability of getting output as 1 - churn\n",
    "\n",
    "logreg.predict_proba(X_test)[:,1]"
   ]
  },
  {
   "cell_type": "markdown",
   "metadata": {},
   "source": [
    "# SECTION 13B. Predict Results"
   ]
  },
  {
   "cell_type": "code",
   "execution_count": 146,
   "metadata": {},
   "outputs": [
    {
     "data": {
      "text/plain": [
       "array([' true', ' true', ' false', ..., ' false', ' false', ' true'],\n",
       "      dtype=object)"
      ]
     },
     "execution_count": 146,
     "metadata": {},
     "output_type": "execute_result"
    }
   ],
   "source": [
    "y_pred_test_clf = clf.predict(X_test)\n",
    "\n",
    "y_pred_test_clf"
   ]
  },
  {
   "cell_type": "markdown",
   "metadata": {},
   "source": [
    "### Predict_proba method.\n",
    "- predict_proba method gives the probabilities for the target variable(0 and 1) in this case, in array form.\n",
    "- 0 is for probability of no churn and 1 is for probability of churn."
   ]
  },
  {
   "cell_type": "markdown",
   "metadata": {},
   "source": [
    "### Probability of getting output as 0 - no churn"
   ]
  },
  {
   "cell_type": "code",
   "execution_count": 147,
   "metadata": {},
   "outputs": [
    {
     "data": {
      "text/plain": [
       "array([[0., 1.],\n",
       "       [0., 1.],\n",
       "       [1., 0.],\n",
       "       ...,\n",
       "       [1., 0.],\n",
       "       [1., 0.],\n",
       "       [0., 1.]])"
      ]
     },
     "execution_count": 147,
     "metadata": {},
     "output_type": "execute_result"
    }
   ],
   "source": [
    "clf.predict_proba(X_test)"
   ]
  },
  {
   "cell_type": "code",
   "execution_count": 148,
   "metadata": {},
   "outputs": [
    {
     "data": {
      "text/plain": [
       "array([0., 0., 1., ..., 1., 1., 0.])"
      ]
     },
     "execution_count": 148,
     "metadata": {},
     "output_type": "execute_result"
    }
   ],
   "source": [
    "clf.predict_proba(X_test)[:,0]"
   ]
  },
  {
   "cell_type": "markdown",
   "metadata": {},
   "source": [
    "### Probability of getting output as 1 - churn"
   ]
  },
  {
   "cell_type": "code",
   "execution_count": 149,
   "metadata": {},
   "outputs": [
    {
     "data": {
      "text/plain": [
       "array([0.54097885, 0.40174942, 0.36634232, ..., 0.49521708, 0.45590814,\n",
       "       0.40861152])"
      ]
     },
     "execution_count": 149,
     "metadata": {},
     "output_type": "execute_result"
    }
   ],
   "source": [
    "logreg.predict_proba(X_test)[:,1]"
   ]
  },
  {
   "cell_type": "markdown",
   "metadata": {},
   "source": [
    "# SECTION 14. Check accuracy score for LogReg Model "
   ]
  },
  {
   "cell_type": "code",
   "execution_count": 150,
   "metadata": {},
   "outputs": [
    {
     "name": "stdout",
     "output_type": "stream",
     "text": [
      "Model accuracy score: 0.6020\n"
     ]
    }
   ],
   "source": [
    "from sklearn.metrics import accuracy_score\n",
    "\n",
    "print('Model accuracy score: {0:0.4f}'.format(accuracy_score(y_test, y_pred_test)))"
   ]
  },
  {
   "cell_type": "code",
   "execution_count": 151,
   "metadata": {},
   "outputs": [],
   "source": [
    "# Here, y_test are the true class labels and y_pred_test are the predicted class labels in the test-set."
   ]
  },
  {
   "cell_type": "code",
   "execution_count": 152,
   "metadata": {},
   "outputs": [],
   "source": [
    "# Compare the train-set and test-set accuracy\n",
    "# Now, I will compare the train-set and test-set accuracy to check for overfitting."
   ]
  },
  {
   "cell_type": "code",
   "execution_count": 153,
   "metadata": {},
   "outputs": [
    {
     "data": {
      "text/plain": [
       "array([' true', ' true', ' false', ..., ' false', ' true', ' true'],\n",
       "      dtype=object)"
      ]
     },
     "execution_count": 153,
     "metadata": {},
     "output_type": "execute_result"
    }
   ],
   "source": [
    "y_pred_train = logreg.predict(X_train)\n",
    "\n",
    "y_pred_train"
   ]
  },
  {
   "cell_type": "code",
   "execution_count": 154,
   "metadata": {},
   "outputs": [
    {
     "name": "stdout",
     "output_type": "stream",
     "text": [
      "Training-set accuracy score: 0.5867\n"
     ]
    }
   ],
   "source": [
    "print('Training-set accuracy score: {0:0.4f}'. format(accuracy_score(y_train, y_pred_train)))"
   ]
  },
  {
   "cell_type": "code",
   "execution_count": 155,
   "metadata": {},
   "outputs": [],
   "source": [
    "# Check for overfitting and underfitting"
   ]
  },
  {
   "cell_type": "code",
   "execution_count": 156,
   "metadata": {},
   "outputs": [
    {
     "name": "stdout",
     "output_type": "stream",
     "text": [
      "Training set score: 0.5867\n",
      "Test set score: 0.6020\n"
     ]
    }
   ],
   "source": [
    "# print the scores on training and test set\n",
    "\n",
    "print('Training set score: {:.4f}'.format(logreg.score(X_train, y_train)))\n",
    "\n",
    "print('Test set score: {:.4f}'.format(logreg.score(X_test, y_test)))"
   ]
  },
  {
   "cell_type": "markdown",
   "metadata": {},
   "source": [
    "- The training-set accuracy score is 0.5867 while the test-set accuracy to be 0.6020.\n",
    "- These two values are quite comparable.\n",
    "- So, there is no question of overfitting."
   ]
  },
  {
   "cell_type": "markdown",
   "metadata": {},
   "source": [
    "### In Logistic Regression, we use default value of C = 1.\n",
    "- It provides good performance with approximately 85% accuracy on both the training and the test set.\n",
    "- But the model performance on both the training and test set are very comparable.\n",
    "- It is likely the case of underfitting.\n",
    "- We will increase C and fit a more flexible model."
   ]
  },
  {
   "cell_type": "markdown",
   "metadata": {},
   "source": [
    "### Fit the Logsitic Regression model with C=100"
   ]
  },
  {
   "cell_type": "code",
   "execution_count": 159,
   "metadata": {},
   "outputs": [
    {
     "data": {
      "text/plain": [
       "LogisticRegression(C=100, random_state=0, solver='liblinear')"
      ]
     },
     "execution_count": 159,
     "metadata": {},
     "output_type": "execute_result"
    }
   ],
   "source": [
    "# Instantiate the model\n",
    "logreg100 = LogisticRegression(C=100, solver='liblinear', random_state=0)\n",
    "\n",
    "\n",
    "# Fit the model\n",
    "logreg100.fit(X_train, y_train)"
   ]
  },
  {
   "cell_type": "code",
   "execution_count": 160,
   "metadata": {},
   "outputs": [
    {
     "name": "stdout",
     "output_type": "stream",
     "text": [
      "Training set score: 0.5917\n",
      "Test set score: 0.5965\n"
     ]
    }
   ],
   "source": [
    "# print the scores on training and test set\n",
    "\n",
    "print('Training set score: {:.4f}'.format(logreg100.score(X_train, y_train)))\n",
    "\n",
    "print('Test set score: {:.4f}'.format(logreg100.score(X_test, y_test)))"
   ]
  },
  {
   "cell_type": "markdown",
   "metadata": {},
   "source": [
    "- We can see that, C=100 results in higher test set accuracy and also a slightly increased training set accuracy.\n",
    "- So, we can conclude that a more complex model should perform better."
   ]
  },
  {
   "cell_type": "markdown",
   "metadata": {},
   "source": [
    "### Now, I will investigate, what happens if we use more regularized model than the default value of C=1, by setting C=0.01."
   ]
  },
  {
   "cell_type": "code",
   "execution_count": 163,
   "metadata": {},
   "outputs": [
    {
     "data": {
      "text/plain": [
       "LogisticRegression(C=0.01, random_state=0, solver='liblinear')"
      ]
     },
     "execution_count": 163,
     "metadata": {},
     "output_type": "execute_result"
    }
   ],
   "source": [
    "# Instantiate the model\n",
    "logreg001 = LogisticRegression(C=0.01, solver='liblinear', random_state=0)\n",
    "\n",
    "# Fit the model\n",
    "logreg001.fit(X_train, y_train)"
   ]
  },
  {
   "cell_type": "markdown",
   "metadata": {},
   "source": [
    "### Print the scores on training and test set"
   ]
  },
  {
   "cell_type": "code",
   "execution_count": 164,
   "metadata": {},
   "outputs": [
    {
     "name": "stdout",
     "output_type": "stream",
     "text": [
      "Training set score: 0.5683\n",
      "Test set score: 0.5840\n"
     ]
    }
   ],
   "source": [
    "print('Training set score: {:.4f}'.format(logreg001.score(X_train, y_train)))\n",
    "\n",
    "print('Test set score: {:.4f}'.format(logreg001.score(X_test, y_test)))"
   ]
  },
  {
   "cell_type": "markdown",
   "metadata": {},
   "source": [
    "- So, if we use more regularized model by setting C=0.01.\n",
    "- Then both the training and test set accuracy decrease relatiev to the default parameters."
   ]
  },
  {
   "cell_type": "markdown",
   "metadata": {},
   "source": [
    "### Compare model accuracy with null accuracy\n",
    "- So, the model accuracy is 0.8484.\n",
    "- But, we cannot say that our model is very good based on the above accuracy.\n",
    "- We must compare it with the null accuracy.\n",
    "- Null accuracy is the accuracy that could be achieved by always predicting the most frequent class.\n",
    "- So, we should first check the class distribution in the test set."
   ]
  },
  {
   "cell_type": "code",
   "execution_count": 167,
   "metadata": {},
   "outputs": [
    {
     "data": {
      "text/plain": [
       " true     1012\n",
       " false     988\n",
       "Name: churn, dtype: int64"
      ]
     },
     "execution_count": 167,
     "metadata": {},
     "output_type": "execute_result"
    }
   ],
   "source": [
    "# Check class distribution in test set\n",
    "\n",
    "y_test.value_counts()"
   ]
  },
  {
   "cell_type": "markdown",
   "metadata": {},
   "source": [
    "- We can see that the occurences of most frequent class is 1012.\n",
    "- So, we can calculate null accuracy by dividing 1012 by total number of occurences."
   ]
  },
  {
   "cell_type": "code",
   "execution_count": 168,
   "metadata": {},
   "outputs": [
    {
     "name": "stdout",
     "output_type": "stream",
     "text": [
      "Null accuracy score: 0.5060\n"
     ]
    }
   ],
   "source": [
    "# Check null accuracy score\n",
    "\n",
    "null_accuracy = (1012/(1012+988))\n",
    "\n",
    "print('Null accuracy score: {0:0.4f}'. format(null_accuracy))"
   ]
  },
  {
   "cell_type": "markdown",
   "metadata": {},
   "source": [
    "- We can see that our model accuracy score is 0.58 but null accuracy score is 0.51.\n",
    "- So, we can conclude that our Logistic Regression model is doing a good job in predicting the class labels."
   ]
  },
  {
   "cell_type": "markdown",
   "metadata": {},
   "source": [
    "- Now, based on the above analysis we can conclude that our classification model accuracy is very good.\n",
    "- Our model is doing a very good job in terms of predicting the class labels.\n",
    "\n",
    "- But, it does not give the underlying distribution of values.\n",
    "- Also, it does not tell anything about the type of errors our classifer is making.\n",
    "\n",
    "- We have another tool called Confusion matrix that comes to our rescue."
   ]
  },
  {
   "cell_type": "markdown",
   "metadata": {},
   "source": [
    "# SECTION 14B. Check accuracy score for Decision Tree Model "
   ]
  },
  {
   "cell_type": "code",
   "execution_count": 169,
   "metadata": {},
   "outputs": [
    {
     "name": "stdout",
     "output_type": "stream",
     "text": [
      "Model accuracy score: 0.5350\n"
     ]
    }
   ],
   "source": [
    "print('Model accuracy score: {0:0.4f}'.format(accuracy_score(y_test, y_pred_test_clf)))"
   ]
  },
  {
   "cell_type": "code",
   "execution_count": 170,
   "metadata": {},
   "outputs": [
    {
     "data": {
      "text/plain": [
       "array([' true', ' true', ' false', ..., ' false', ' true', ' false'],\n",
       "      dtype=object)"
      ]
     },
     "execution_count": 170,
     "metadata": {},
     "output_type": "execute_result"
    }
   ],
   "source": [
    "y_pred_train_clf = clf.predict(X_train)\n",
    "\n",
    "y_pred_train_clf"
   ]
  },
  {
   "cell_type": "code",
   "execution_count": 171,
   "metadata": {},
   "outputs": [
    {
     "name": "stdout",
     "output_type": "stream",
     "text": [
      "Training-set accuracy score: 1.0000\n"
     ]
    }
   ],
   "source": [
    "print('Training-set accuracy score: {0:0.4f}'. format(accuracy_score(y_train, y_pred_train_clf)))"
   ]
  },
  {
   "cell_type": "code",
   "execution_count": 172,
   "metadata": {},
   "outputs": [
    {
     "name": "stdout",
     "output_type": "stream",
     "text": [
      "Training set score: 1.0000\n",
      "Test set score: 0.5350\n"
     ]
    }
   ],
   "source": [
    "# print the scores on training and test set\n",
    "\n",
    "print('Training set score: {:.4f}'.format(clf.score(X_train, y_train)))\n",
    "\n",
    "print('Test set score: {:.4f}'.format(clf.score(X_test, y_test)))"
   ]
  },
  {
   "cell_type": "code",
   "execution_count": null,
   "metadata": {},
   "outputs": [],
   "source": []
  },
  {
   "cell_type": "markdown",
   "metadata": {},
   "source": [
    "# SECTION 15. Confusion matrix "
   ]
  },
  {
   "cell_type": "markdown",
   "metadata": {},
   "source": [
    "### Print the Confusion Matrix and slice it into four pieces\n"
   ]
  },
  {
   "cell_type": "code",
   "execution_count": 173,
   "metadata": {},
   "outputs": [
    {
     "name": "stdout",
     "output_type": "stream",
     "text": [
      "Confusion matrix\n",
      "\n",
      " [[611 377]\n",
      " [419 593]]\n",
      "\n",
      "True Positives(TP) =  611\n",
      "\n",
      "True Negatives(TN) =  593\n",
      "\n",
      "False Positives(FP) =  377\n",
      "\n",
      "False Negatives(FN) =  419\n"
     ]
    }
   ],
   "source": [
    "\n",
    "from sklearn.metrics import confusion_matrix\n",
    "\n",
    "cm = confusion_matrix(y_test, y_pred_test)\n",
    "\n",
    "print('Confusion matrix\\n\\n', cm)\n",
    "\n",
    "print('\\nTrue Positives(TP) = ', cm[0,0])\n",
    "\n",
    "print('\\nTrue Negatives(TN) = ', cm[1,1])\n",
    "\n",
    "print('\\nFalse Positives(FP) = ', cm[0,1])\n",
    "\n",
    "print('\\nFalse Negatives(FN) = ', cm[1,0])"
   ]
  },
  {
   "cell_type": "markdown",
   "metadata": {},
   "source": [
    "### The confusion matrix shows 597 + 564 = 1163 (58%) correct predictions and 448 + 391 = 839 incorrect predictions.\n",
    "In this case, we have\n",
    "- True Positives (Actual Positive:1 and Predict Positive:1) - 597\n",
    "- True Negatives (Actual Negative:0 and Predict Negative:0) - 564\n",
    "- False Positives (Actual Negative:0 but Predict Positive:1) - 391 (Type I error)\n",
    "- False Negatives (Actual Positive:1 but Predict Negative:0) - 448 (Type II error)"
   ]
  },
  {
   "cell_type": "markdown",
   "metadata": {},
   "source": [
    "### Visualize confusion matrix with seaborn heatmap"
   ]
  },
  {
   "cell_type": "code",
   "execution_count": 175,
   "metadata": {},
   "outputs": [
    {
     "data": {
      "text/plain": [
       "<matplotlib.axes._subplots.AxesSubplot at 0x1fb4eb69250>"
      ]
     },
     "execution_count": 175,
     "metadata": {},
     "output_type": "execute_result"
    },
    {
     "data": {
      "image/png": "[encoded data removed]",
      "text/plain": [
       "<Figure size 432x288 with 2 Axes>"
      ]
     },
     "metadata": {
      "needs_background": "light"
     },
     "output_type": "display_data"
    }
   ],
   "source": [
    "cm_matrix = pd.DataFrame(data=cm, columns=['Actual Positive:1', 'Actual Negative:0'], \n",
    "                                 index=['Predict Positive:1', 'Predict Negative:0'])\n",
    "\n",
    "sns.heatmap(cm_matrix, annot=True, fmt='d', cmap='YlGnBu')"
   ]
  },
  {
   "cell_type": "markdown",
   "metadata": {},
   "source": [
    "# SECTION 16. Classification metrices"
   ]
  },
  {
   "cell_type": "markdown",
   "metadata": {},
   "source": [
    "### Classification report is another way to evaluate the classification model performance. It displays the precision, recall, f1 and support scores for the model. I have described these terms in later."
   ]
  },
  {
   "cell_type": "markdown",
   "metadata": {},
   "source": [
    "### We can print a classification report as follows"
   ]
  },
  {
   "cell_type": "code",
   "execution_count": 176,
   "metadata": {},
   "outputs": [
    {
     "name": "stdout",
     "output_type": "stream",
     "text": [
      "              precision    recall  f1-score   support\n",
      "\n",
      "       false       0.59      0.62      0.61       988\n",
      "        true       0.61      0.59      0.60      1012\n",
      "\n",
      "    accuracy                           0.60      2000\n",
      "   macro avg       0.60      0.60      0.60      2000\n",
      "weighted avg       0.60      0.60      0.60      2000\n",
      "\n"
     ]
    }
   ],
   "source": [
    "from sklearn.metrics import classification_report\n",
    "\n",
    "print(classification_report(y_test, y_pred_test))"
   ]
  },
  {
   "cell_type": "markdown",
   "metadata": {},
   "source": [
    "## Classification accuracy"
   ]
  },
  {
   "cell_type": "code",
   "execution_count": 177,
   "metadata": {},
   "outputs": [],
   "source": [
    "TP = cm[0,0]\n",
    "TN = cm[1,1]\n",
    "FP = cm[0,1]\n",
    "FN = cm[1,0]"
   ]
  },
  {
   "cell_type": "code",
   "execution_count": 178,
   "metadata": {},
   "outputs": [
    {
     "name": "stdout",
     "output_type": "stream",
     "text": [
      "Classification accuracy : 0.6020\n"
     ]
    }
   ],
   "source": [
    "# print classification accuracy\n",
    "\n",
    "classification_accuracy = (TP + TN) / float(TP + TN + FP + FN)\n",
    "\n",
    "print('Classification accuracy : {0:0.4f}'.format(classification_accuracy))"
   ]
  },
  {
   "cell_type": "markdown",
   "metadata": {},
   "source": [
    "## Classification error"
   ]
  },
  {
   "cell_type": "code",
   "execution_count": 179,
   "metadata": {},
   "outputs": [
    {
     "name": "stdout",
     "output_type": "stream",
     "text": [
      "Classification error : 0.3980\n"
     ]
    }
   ],
   "source": [
    "classification_error = (FP + FN) / float(TP + TN + FP + FN)\n",
    "\n",
    "print('Classification error : {0:0.4f}'.format(classification_error))"
   ]
  },
  {
   "cell_type": "markdown",
   "metadata": {},
   "source": [
    "## Precision\n",
    "- Precision can be defined as the percentage of correctly predicted positive outcomes out of\n",
    "all the predicted positive outcomes.\n",
    "- It can be given as the ratio of true positives (TP) to the sum of true and false positives (TP + FP). So, Precision identifies the proportion of correctly predicted positive outcome.\n",
    "It is more concerned with the positive class than the negative class.\n",
    "- Mathematically, precision can be defined as the ratio of TP to (TP + FP)."
   ]
  },
  {
   "cell_type": "code",
   "execution_count": 180,
   "metadata": {},
   "outputs": [
    {
     "name": "stdout",
     "output_type": "stream",
     "text": [
      "Precision : 0.6184\n"
     ]
    }
   ],
   "source": [
    "# print precision score\n",
    "\n",
    "precision = TP / float(TP + FP)\n",
    "\n",
    "print('Precision : {0:0.4f}'.format(precision))"
   ]
  },
  {
   "cell_type": "markdown",
   "metadata": {},
   "source": [
    "## Recall\n",
    "- Recall can be defined as the percentage of correctly predicted positive outcomes out of all the actual positive outcomes.\n",
    "- It can be given as the ratio of true positives (TP) to the sum of true positives and false negatives (TP + FN).\n",
    "- Recall is also called Sensitivity. Recall identifies the proportion of correctly predicted actual positives.\n",
    "- Mathematically, recall can be given as the ratio of TP to (TP + FN)."
   ]
  },
  {
   "cell_type": "code",
   "execution_count": 182,
   "metadata": {},
   "outputs": [
    {
     "name": "stdout",
     "output_type": "stream",
     "text": [
      "Recall or Sensitivity : 0.5932\n"
     ]
    }
   ],
   "source": [
    "recall = TP / float(TP + FN)\n",
    "\n",
    "print('Recall or Sensitivity : {0:0.4f}'.format(recall))"
   ]
  },
  {
   "cell_type": "code",
   "execution_count": 183,
   "metadata": {},
   "outputs": [],
   "source": [
    "# True Positive Rate"
   ]
  },
  {
   "cell_type": "code",
   "execution_count": 184,
   "metadata": {},
   "outputs": [],
   "source": [
    "# True Positive Rate is synonymous with Recall."
   ]
  },
  {
   "cell_type": "code",
   "execution_count": 185,
   "metadata": {},
   "outputs": [
    {
     "name": "stdout",
     "output_type": "stream",
     "text": [
      "True Positive Rate : 0.5932\n"
     ]
    }
   ],
   "source": [
    "true_positive_rate = TP / float(TP + FN)\n",
    "\n",
    "print('True Positive Rate : {0:0.4f}'.format(true_positive_rate))"
   ]
  },
  {
   "cell_type": "code",
   "execution_count": 186,
   "metadata": {},
   "outputs": [],
   "source": [
    "# False Positive Rate"
   ]
  },
  {
   "cell_type": "code",
   "execution_count": 187,
   "metadata": {},
   "outputs": [
    {
     "name": "stdout",
     "output_type": "stream",
     "text": [
      "False Positive Rate : 0.3887\n"
     ]
    }
   ],
   "source": [
    "false_positive_rate = FP / float(FP + TN)\n",
    "\n",
    "print('False Positive Rate : {0:0.4f}'.format(false_positive_rate))"
   ]
  },
  {
   "cell_type": "code",
   "execution_count": 188,
   "metadata": {},
   "outputs": [],
   "source": [
    "# Specificity"
   ]
  },
  {
   "cell_type": "code",
   "execution_count": 189,
   "metadata": {},
   "outputs": [
    {
     "name": "stdout",
     "output_type": "stream",
     "text": [
      "Specificity : 0.6113\n"
     ]
    }
   ],
   "source": [
    "specificity = TN / (TN + FP)\n",
    "\n",
    "print('Specificity : {0:0.4f}'.format(specificity))"
   ]
  },
  {
   "cell_type": "markdown",
   "metadata": {},
   "source": [
    "## f1-score\n",
    "- f1-score is the weighted harmonic mean of precision and recall or the harmonic mean of precision and recall.\n",
    "- The best possible f1-score would be 1.0 and the worst would be 0.0.\n",
    "- So, f1-score is always lower than accuracy measures as they embed precision and recall into their computation.\n",
    "- The weighted average of f1-score should be used to compare classifier models, not global accuracy."
   ]
  },
  {
   "cell_type": "markdown",
   "metadata": {},
   "source": [
    "### Support is the actual number of occurrences of the class in our dataset."
   ]
  },
  {
   "cell_type": "markdown",
   "metadata": {},
   "source": [
    "# SECTION 17. Adjusting the threshold level "
   ]
  },
  {
   "cell_type": "code",
   "execution_count": 192,
   "metadata": {},
   "outputs": [
    {
     "data": {
      "text/plain": [
       "array([[0.45902115, 0.54097885],\n",
       "       [0.59825058, 0.40174942],\n",
       "       [0.63365768, 0.36634232],\n",
       "       [0.52759022, 0.47240978],\n",
       "       [0.56144151, 0.43855849],\n",
       "       [0.47024237, 0.52975763],\n",
       "       [0.37159619, 0.62840381],\n",
       "       [0.4286931 , 0.5713069 ],\n",
       "       [0.61764907, 0.38235093],\n",
       "       [0.69665201, 0.30334799]])"
      ]
     },
     "execution_count": 192,
     "metadata": {},
     "output_type": "execute_result"
    }
   ],
   "source": [
    "# print the first 10 predicted probabilities of two classes- 0 and 1\n",
    "\n",
    "y_pred_prob = logreg.predict_proba(X_test)[0:10]\n",
    "\n",
    "y_pred_prob"
   ]
  },
  {
   "cell_type": "markdown",
   "metadata": {},
   "source": [
    "### Observations\n",
    "\n",
    "- In each row, the numbers sum to 1.\n",
    "\n",
    "- There are 2 columns which correspond to 2 classes - 0 and 1:\n",
    "\n",
    "        - Class 0 - predicted probability that there is no churn.\n",
    "    \n",
    "        - Class 1 - predicted probability that there is churn.\n",
    "\n",
    "- Importance of predicted probabilities:\n",
    "\n",
    "- We can rank the observations by probability of churn or no churn.\n",
    "\n",
    "### predict_proba process:\n",
    "\n",
    "- Predicts the probabilities\n",
    "    \n",
    "- Choose the class with the highest probability\n",
    "\n",
    "### Classification threshold level:\n",
    "\n",
    "- There is a classification threshold level of 0.5.\n",
    "\n",
    "- Class 1 - probability of rain is predicted if probability > 0.5.\n",
    "\n",
    "- Class 0 - probability of no rain is predicted if probability < 0.5."
   ]
  },
  {
   "cell_type": "code",
   "execution_count": 193,
   "metadata": {},
   "outputs": [
    {
     "data": {
      "text/html": [
       "<div>\n",
       "<style scoped>\n",
       "    .dataframe tbody tr th:only-of-type {\n",
       "        vertical-align: middle;\n",
       "    }\n",
       "\n",
       "    .dataframe tbody tr th {\n",
       "        vertical-align: top;\n",
       "    }\n",
       "\n",
       "    .dataframe thead th {\n",
       "        text-align: right;\n",
       "    }\n",
       "</style>\n",
       "<table border=\"1\" class=\"dataframe\">\n",
       "  <thead>\n",
       "    <tr style=\"text-align: right;\">\n",
       "      <th></th>\n",
       "      <th>Prob of - No churn (0)</th>\n",
       "      <th>Prob of - churn (1)</th>\n",
       "    </tr>\n",
       "  </thead>\n",
       "  <tbody>\n",
       "    <tr>\n",
       "      <th>0</th>\n",
       "      <td>0.459021</td>\n",
       "      <td>0.540979</td>\n",
       "    </tr>\n",
       "    <tr>\n",
       "      <th>1</th>\n",
       "      <td>0.598251</td>\n",
       "      <td>0.401749</td>\n",
       "    </tr>\n",
       "    <tr>\n",
       "      <th>2</th>\n",
       "      <td>0.633658</td>\n",
       "      <td>0.366342</td>\n",
       "    </tr>\n",
       "    <tr>\n",
       "      <th>3</th>\n",
       "      <td>0.527590</td>\n",
       "      <td>0.472410</td>\n",
       "    </tr>\n",
       "    <tr>\n",
       "      <th>4</th>\n",
       "      <td>0.561442</td>\n",
       "      <td>0.438558</td>\n",
       "    </tr>\n",
       "    <tr>\n",
       "      <th>5</th>\n",
       "      <td>0.470242</td>\n",
       "      <td>0.529758</td>\n",
       "    </tr>\n",
       "    <tr>\n",
       "      <th>6</th>\n",
       "      <td>0.371596</td>\n",
       "      <td>0.628404</td>\n",
       "    </tr>\n",
       "    <tr>\n",
       "      <th>7</th>\n",
       "      <td>0.428693</td>\n",
       "      <td>0.571307</td>\n",
       "    </tr>\n",
       "    <tr>\n",
       "      <th>8</th>\n",
       "      <td>0.617649</td>\n",
       "      <td>0.382351</td>\n",
       "    </tr>\n",
       "    <tr>\n",
       "      <th>9</th>\n",
       "      <td>0.696652</td>\n",
       "      <td>0.303348</td>\n",
       "    </tr>\n",
       "  </tbody>\n",
       "</table>\n",
       "</div>"
      ],
      "text/plain": [
       "   Prob of - No churn (0)  Prob of - churn (1)\n",
       "0                0.459021             0.540979\n",
       "1                0.598251             0.401749\n",
       "2                0.633658             0.366342\n",
       "3                0.527590             0.472410\n",
       "4                0.561442             0.438558\n",
       "5                0.470242             0.529758\n",
       "6                0.371596             0.628404\n",
       "7                0.428693             0.571307\n",
       "8                0.617649             0.382351\n",
       "9                0.696652             0.303348"
      ]
     },
     "execution_count": 193,
     "metadata": {},
     "output_type": "execute_result"
    }
   ],
   "source": [
    "# store the probabilities in dataframe\n",
    "\n",
    "y_pred_prob_df = pd.DataFrame(data=y_pred_prob, columns=['Prob of - No churn (0)', 'Prob of - churn (1)'])\n",
    "\n",
    "y_pred_prob_df"
   ]
  },
  {
   "cell_type": "code",
   "execution_count": 194,
   "metadata": {},
   "outputs": [
    {
     "data": {
      "text/plain": [
       "array([0.54097885, 0.40174942, 0.36634232, 0.47240978, 0.43855849,\n",
       "       0.52975763, 0.62840381, 0.5713069 , 0.38235093, 0.30334799])"
      ]
     },
     "execution_count": 194,
     "metadata": {},
     "output_type": "execute_result"
    }
   ],
   "source": [
    "# print the first 10 predicted probabilities for class 1 - Probability of churn\n",
    "\n",
    "logreg.predict_proba(X_test)[0:10, 1]"
   ]
  },
  {
   "cell_type": "code",
   "execution_count": 195,
   "metadata": {},
   "outputs": [],
   "source": [
    "# store the predicted probabilities for class 1 - Probability of churn\n",
    "\n",
    "y_pred1 = logreg.predict_proba(X_test)[:, 1]"
   ]
  },
  {
   "cell_type": "code",
   "execution_count": 196,
   "metadata": {},
   "outputs": [
    {
     "data": {
      "text/plain": [
       "Text(0, 0.5, 'Frequency')"
      ]
     },
     "execution_count": 196,
     "metadata": {},
     "output_type": "execute_result"
    },
    {
     "data": {
      "image/png": "[encoded data removed]",
      "text/plain": [
       "<Figure size 432x288 with 1 Axes>"
      ]
     },
     "metadata": {
      "needs_background": "light"
     },
     "output_type": "display_data"
    }
   ],
   "source": [
    "# Plot histogram of predicted probabilities\n",
    "\n",
    "# adjust the font size \n",
    "plt.rcParams['font.size'] = 12\n",
    "\n",
    "# plot histogram with 10 bins\n",
    "plt.hist(y_pred1, bins = 10)\n",
    "\n",
    "# set the title of predicted probabilities\n",
    "plt.title('Histogram of predicted probabilities of churn')\n",
    "\n",
    "# set the x-axis limit\n",
    "plt.xlim(0,1)\n",
    "\n",
    "# set the title\n",
    "plt.xlabel('Predicted probabilities of churn')\n",
    "plt.ylabel('Frequency')"
   ]
  },
  {
   "cell_type": "markdown",
   "metadata": {},
   "source": [
    "Observations: We can see that the above histogram is highly normal."
   ]
  },
  {
   "cell_type": "markdown",
   "metadata": {},
   "source": [
    "## Lower the threshold"
   ]
  },
  {
   "cell_type": "code",
   "execution_count": 197,
   "metadata": {},
   "outputs": [
    {
     "name": "stdout",
     "output_type": "stream",
     "text": [
      "With 0.1 threshold the Confusion Matrix is  \n",
      "\n",
      " [[   0    0  988]\n",
      " [   0    0 1012]\n",
      " [   0    0    0]] \n",
      "\n",
      " with 0 correct predictions,  \n",
      "\n",
      " 0 Type I errors( False Positives),  \n",
      "\n",
      " 0 Type II errors( False Negatives),  \n",
      "\n",
      " Accuracy score:  0.0 \n",
      "\n",
      " Sensitivity:  nan \n",
      "\n",
      " Specificity:  nan \n",
      "\n",
      " ==================================================== \n",
      "\n",
      "\n",
      "With 0.2 threshold the Confusion Matrix is  \n",
      "\n",
      " [[   0    0    4  984]\n",
      " [   0    0    1 1011]\n",
      " [   0    0    0    0]\n",
      " [   0    0    0    0]] \n",
      "\n",
      " with 0 correct predictions,  \n",
      "\n",
      " 0 Type I errors( False Positives),  \n",
      "\n",
      " 0 Type II errors( False Negatives),  \n",
      "\n",
      " Accuracy score:  0.0 \n",
      "\n",
      " Sensitivity:  nan \n",
      "\n",
      " Specificity:  nan \n",
      "\n",
      " ==================================================== \n",
      "\n",
      "\n",
      "With 0.3 threshold the Confusion Matrix is  \n",
      "\n",
      " [[  0   0  37 951]\n",
      " [  0   0  16 996]\n",
      " [  0   0   0   0]\n",
      " [  0   0   0   0]] \n",
      "\n",
      " with 0 correct predictions,  \n",
      "\n",
      " 0 Type I errors( False Positives),  \n",
      "\n",
      " 0 Type II errors( False Negatives),  \n",
      "\n",
      " Accuracy score:  0.0 \n",
      "\n",
      " Sensitivity:  nan \n",
      "\n",
      " Specificity:  nan \n",
      "\n",
      " ==================================================== \n",
      "\n",
      "\n",
      "With 0.4 threshold the Confusion Matrix is  \n",
      "\n",
      " [[  0   0 227 761]\n",
      " [  0   0 112 900]\n",
      " [  0   0   0   0]\n",
      " [  0   0   0   0]] \n",
      "\n",
      " with 0 correct predictions,  \n",
      "\n",
      " 0 Type I errors( False Positives),  \n",
      "\n",
      " 0 Type II errors( False Negatives),  \n",
      "\n",
      " Accuracy score:  0.0 \n",
      "\n",
      " Sensitivity:  nan \n",
      "\n",
      " Specificity:  nan \n",
      "\n",
      " ==================================================== \n",
      "\n",
      "\n"
     ]
    }
   ],
   "source": [
    "from sklearn.preprocessing import binarize\n",
    "\n",
    "for i in range(1,5):\n",
    "    cm1=0    \n",
    "    y_pred1 = logreg.predict_proba(X_test)[:,1]    \n",
    "    y_pred1 = y_pred1.reshape(-1,1)    \n",
    "    y_pred2 = binarize(y_pred1, i/10)    \n",
    "    y_pred2 = np.where(y_pred2 == 1, 'Yes', 'No')\n",
    "    \n",
    "    cm1 = confusion_matrix(y_test, y_pred2)\n",
    "        \n",
    "    print ('With',i/10,'threshold the Confusion Matrix is ','\\n\\n',cm1,'\\n\\n',           \n",
    "            'with',cm1[0,0]+cm1[1,1],'correct predictions, ', '\\n\\n', \n",
    "           \n",
    "            cm1[0,1],'Type I errors( False Positives), ','\\n\\n',           \n",
    "            cm1[1,0],'Type II errors( False Negatives), ','\\n\\n',\n",
    "           \n",
    "           'Accuracy score: ', (accuracy_score(y_test, y_pred2)), '\\n\\n',\n",
    "           \n",
    "           'Sensitivity: ',cm1[1,1]/(float(cm1[1,1]+cm1[1,0])), '\\n\\n',\n",
    "           \n",
    "           'Specificity: ',cm1[0,0]/(float(cm1[0,0]+cm1[0,1])),'\\n\\n',\n",
    "          \n",
    "            '====================================================', '\\n\\n')"
   ]
  },
  {
   "cell_type": "code",
   "execution_count": 198,
   "metadata": {},
   "outputs": [
    {
     "data": {
      "text/plain": [
       "array([['Yes'],\n",
       "       ['Yes'],\n",
       "       ['No'],\n",
       "       ...,\n",
       "       ['Yes'],\n",
       "       ['Yes'],\n",
       "       ['Yes']], dtype='<U3')"
      ]
     },
     "execution_count": 198,
     "metadata": {},
     "output_type": "execute_result"
    }
   ],
   "source": [
    "y_pred2"
   ]
  },
  {
   "cell_type": "markdown",
   "metadata": {},
   "source": [
    "# Comments"
   ]
  },
  {
   "cell_type": "markdown",
   "metadata": {},
   "source": [
    "In binary problems, the threshold of 0.5 is used by default to convert predicted probabilities into class predictions.\n",
    "Threshold can be adjusted to increase sensitivity or specificity.\n",
    "Sensitivity and specificity have an inverse relationship. Increasing one would always decrease the other and vice versa.\n",
    "We can see that increasing the threshold level results in increased accuracy.\n",
    "Adjusting the threshold level should be one of the last step you do in the model-building process."
   ]
  },
  {
   "cell_type": "markdown",
   "metadata": {},
   "source": [
    "# Section 18. Receiver Operating Characteristic Curve - Area Under Curve (ROC-AUC)"
   ]
  },
  {
   "cell_type": "markdown",
   "metadata": {},
   "source": [
    "Another tool to measure the classification model performance visually is ROC Curve.\n",
    "ROC Curve stands for Receiver Operating Characteristic Curve.\n",
    "An ROC Curve is a plot which shows the performance of a classification model at various classification threshold levels.\n",
    "\n",
    "The ROC Curve plots the True Positive Rate (TPR) against the False Positive Rate (FPR) at various threshold levels.\n",
    "\n",
    "True Positive Rate (TPR) is also called Recall. It is defined as the ratio of TP to (TP + FN).\n",
    "\n",
    "False Positive Rate (FPR) is defined as the ratio of FP to (FP + TN).\n",
    "\n",
    "In the ROC Curve, we will focus on the TPR (True Positive Rate) and FPR (False Positive Rate) of a single point.\n",
    "This will give us the general performance of the ROC curve which consists of the TPR and FPR at various threshold levels.\n",
    "So, an ROC Curve plots TPR vs FPR at different classification threshold levels.\n",
    "If we lower the threshold levels, it may result in more items being classified as positve.\n",
    "It will increase both True Positives (TP) and False Positives (FP)."
   ]
  },
  {
   "cell_type": "code",
   "execution_count": 199,
   "metadata": {},
   "outputs": [
    {
     "data": {
      "image/png": "[encoded data removed]",
      "text/plain": [
       "<Figure size 432x288 with 1 Axes>"
      ]
     },
     "metadata": {
      "needs_background": "light"
     },
     "output_type": "display_data"
    }
   ],
   "source": [
    "# plot ROC Curve\n",
    "\n",
    "from sklearn.metrics import roc_curve\n",
    "\n",
    "fpr, tpr, thresholds = roc_curve(y_test, y_pred1, pos_label = 'Yes')\n",
    "\n",
    "plt.figure(figsize=(6,4))\n",
    "\n",
    "plt.plot(fpr, tpr, linewidth=2)\n",
    "\n",
    "plt.plot([0,1], [0,1], 'k--' )\n",
    "\n",
    "plt.rcParams['font.size'] = 12\n",
    "\n",
    "plt.title('ROC curve for churn classifier')\n",
    "\n",
    "plt.xlabel('False Positive Rate (1 - Specificity)')\n",
    "\n",
    "plt.ylabel('True Positive Rate (Sensitivity)')\n",
    "\n",
    "plt.show()"
   ]
  },
  {
   "cell_type": "markdown",
   "metadata": {},
   "source": [
    "ROC curve help us to choose a threshold level that balances sensitivity and specificity for a particular context."
   ]
  },
  {
   "cell_type": "markdown",
   "metadata": {},
   "source": [
    "## ROC-AUC\n",
    "\n",
    "ROC AUC stands for Receiver Operating Characteristic - Area Under Curve.\n",
    "It is a technique to compare classifier performance.\n",
    "In this technique, we measure the area under the curve (AUC).\n",
    "A perfect classifier will have a ROC AUC equal to 1, whereas a purely random classifier will have a ROC AUC equal to 0.5.\n",
    "\n",
    "So, ROC AUC is the percentage of the ROC plot that is underneath the curve."
   ]
  },
  {
   "cell_type": "markdown",
   "metadata": {},
   "source": [
    "### compute ROC AUC"
   ]
  },
  {
   "cell_type": "code",
   "execution_count": 200,
   "metadata": {},
   "outputs": [
    {
     "name": "stdout",
     "output_type": "stream",
     "text": [
      "ROC AUC : 0.6296\n"
     ]
    }
   ],
   "source": [
    "from sklearn.metrics import roc_auc_score\n",
    "\n",
    "ROC_AUC = roc_auc_score(y_test, y_pred1)\n",
    "\n",
    "print('ROC AUC : {:.4f}'.format(ROC_AUC))"
   ]
  },
  {
   "cell_type": "markdown",
   "metadata": {},
   "source": [
    "## Remarks\n",
    "ROC AUC is a single number summary of classifier performance. The higher the value, the better the classifier.\n",
    "\n",
    "ROC AUC of our model approaches towards 1.\n",
    "So, we can conclude that our classifier does a good job in predicting whether it will rain tomorrow or not."
   ]
  },
  {
   "cell_type": "markdown",
   "metadata": {},
   "source": [
    "### Calculate cross-validated ROC AUC "
   ]
  },
  {
   "cell_type": "code",
   "execution_count": 201,
   "metadata": {},
   "outputs": [
    {
     "name": "stdout",
     "output_type": "stream",
     "text": [
      "Cross validated ROC AUC : 0.6112\n"
     ]
    }
   ],
   "source": [
    "from sklearn.model_selection import cross_val_score\n",
    "\n",
    "Cross_validated_ROC_AUC = cross_val_score(logreg, X_train, y_train, cv=5, scoring='roc_auc').mean()\n",
    "\n",
    "print('Cross validated ROC AUC : {:.4f}'.format(Cross_validated_ROC_AUC))"
   ]
  },
  {
   "cell_type": "markdown",
   "metadata": {},
   "source": [
    "# SECTION 19. k-Fold Cross Validation LogReg Model"
   ]
  },
  {
   "cell_type": "markdown",
   "metadata": {},
   "source": [
    "### Applying 5-Fold Cross Validation"
   ]
  },
  {
   "cell_type": "code",
   "execution_count": 202,
   "metadata": {},
   "outputs": [
    {
     "name": "stdout",
     "output_type": "stream",
     "text": [
      "Cross-validation scores:[0.571875 0.59     0.58375  0.568125 0.575625]\n"
     ]
    }
   ],
   "source": [
    "from sklearn.model_selection import cross_val_score\n",
    "\n",
    "scores = cross_val_score(logreg, X_train, y_train, cv = 5, scoring='accuracy')\n",
    "\n",
    "print('Cross-validation scores:{}'.format(scores))"
   ]
  },
  {
   "cell_type": "markdown",
   "metadata": {},
   "source": [
    "We can summarize the cross-validation accuracy by calculating its mean.\n"
   ]
  },
  {
   "cell_type": "markdown",
   "metadata": {},
   "source": [
    "### compute Average cross-validation score"
   ]
  },
  {
   "cell_type": "code",
   "execution_count": 203,
   "metadata": {},
   "outputs": [
    {
     "name": "stdout",
     "output_type": "stream",
     "text": [
      "Average cross-validation score: 0.5779\n"
     ]
    }
   ],
   "source": [
    "print('Average cross-validation score: {:.4f}'.format(scores.mean()))"
   ]
  },
  {
   "cell_type": "markdown",
   "metadata": {},
   "source": [
    "Our, original model score is found to be 0.6020. The average cross-validation score is 0.5779.\n",
    "So, we can conclude that cross-validation does not result in performance improvement."
   ]
  },
  {
   "cell_type": "markdown",
   "metadata": {},
   "source": [
    "# SECTION 19B. k-Fold Cross Validation for Decision Tree Model"
   ]
  },
  {
   "cell_type": "markdown",
   "metadata": {},
   "source": [
    "### Applying 5-Fold Cross Validation"
   ]
  },
  {
   "cell_type": "code",
   "execution_count": 211,
   "metadata": {},
   "outputs": [
    {
     "name": "stdout",
     "output_type": "stream",
     "text": [
      "Cross-validation scores_clf:[0.5075   0.514375 0.526875 0.535625 0.541875]\n"
     ]
    }
   ],
   "source": [
    "scores_clf = cross_val_score(clf, X_train, y_train, cv = 5, scoring='accuracy')\n",
    "\n",
    "print('Cross-validation scores_clf:{}'.format(scores_clf))"
   ]
  },
  {
   "cell_type": "markdown",
   "metadata": {},
   "source": [
    "### compute Average cross-validation score"
   ]
  },
  {
   "cell_type": "code",
   "execution_count": 212,
   "metadata": {},
   "outputs": [
    {
     "name": "stdout",
     "output_type": "stream",
     "text": [
      "Average cross-validation score_clf: 0.5252\n"
     ]
    }
   ],
   "source": [
    "print('Average cross-validation score_clf: {:.4f}'.format(scores_clf.mean()))"
   ]
  },
  {
   "cell_type": "markdown",
   "metadata": {},
   "source": [
    "# SECTION 20. Hyperparameter Optimization using GridSearch CV "
   ]
  },
  {
   "cell_type": "code",
   "execution_count": 204,
   "metadata": {},
   "outputs": [
    {
     "data": {
      "text/plain": [
       "GridSearchCV(cv=5,\n",
       "             estimator=LogisticRegression(random_state=0, solver='liblinear'),\n",
       "             param_grid=[{'penalty': ['l1', 'l2']}, {'C': [1, 10, 100, 1000]}],\n",
       "             scoring='accuracy')"
      ]
     },
     "execution_count": 204,
     "metadata": {},
     "output_type": "execute_result"
    }
   ],
   "source": [
    "from sklearn.model_selection import GridSearchCV\n",
    "\n",
    "parameters = [{'penalty':['l1','l2']}, \n",
    "              {'C':[1, 10, 100, 1000]}]\n",
    "\n",
    "grid_search = GridSearchCV(estimator = logreg,  \n",
    "                           param_grid = parameters,\n",
    "                           scoring = 'accuracy',\n",
    "                           cv = 5,\n",
    "                           verbose=0)\n",
    "\n",
    "grid_search.fit(X_train, y_train)"
   ]
  },
  {
   "cell_type": "markdown",
   "metadata": {},
   "source": [
    "### Examine the best model"
   ]
  },
  {
   "cell_type": "code",
   "execution_count": 205,
   "metadata": {},
   "outputs": [
    {
     "name": "stdout",
     "output_type": "stream",
     "text": [
      "GridSearch CV best score : 0.5780\n",
      "\n",
      "\n",
      "Parameters that give the best results : \n",
      "\n",
      " {'penalty': 'l1'}\n",
      "\n",
      "\n",
      "Estimator that was chosen by the search : \n",
      "\n",
      " LogisticRegression(penalty='l1', random_state=0, solver='liblinear')\n"
     ]
    }
   ],
   "source": [
    "# best score achieved during the GridSearchCV\n",
    "print('GridSearch CV best score : {:.4f}\\n\\n'.format(grid_search.best_score_))\n",
    "\n",
    "# print parameters that give the best results\n",
    "print('Parameters that give the best results :','\\n\\n', (grid_search.best_params_))\n",
    "\n",
    "# print estimator that was chosen by the GridSearch\n",
    "print('\\n\\nEstimator that was chosen by the search :','\\n\\n', (grid_search.best_estimator_))"
   ]
  },
  {
   "cell_type": "markdown",
   "metadata": {},
   "source": [
    "### Calculate GridSearch CV score on test set"
   ]
  },
  {
   "cell_type": "code",
   "execution_count": 206,
   "metadata": {},
   "outputs": [
    {
     "name": "stdout",
     "output_type": "stream",
     "text": [
      "GridSearch CV score on test set: 0.5970\n"
     ]
    }
   ],
   "source": [
    "print('GridSearch CV score on test set: {0:0.4f}'.format(grid_search.score(X_test, y_test)))"
   ]
  },
  {
   "cell_type": "markdown",
   "metadata": {},
   "source": [
    "## Comments"
   ]
  },
  {
   "cell_type": "markdown",
   "metadata": {},
   "source": [
    "Our original model test accuracy is 0.6020 while GridSearch CV accuracy is 0.5970.\n",
    "We can see that GridSearch CV does not improve the performance for this particular model."
   ]
  },
  {
   "cell_type": "markdown",
   "metadata": {},
   "source": [
    "# SECTION 20B. Hyperparameter Optimization using GridSearch CV DeTree"
   ]
  },
  {
   "cell_type": "code",
   "execution_count": 221,
   "metadata": {},
   "outputs": [
    {
     "data": {
      "text/plain": [
       "GridSearchCV(cv=8,\n",
       "             estimator=DecisionTreeClassifier(criterion='entropy',\n",
       "                                              max_depth=100, random_state=0),\n",
       "             param_grid=[{'criterion': ['gini', 'entropy', 'log_loss'],\n",
       "                          'max_depth': [4, 5, 7, 8, 9, 10, 11]}],\n",
       "             scoring='accuracy')"
      ]
     },
     "execution_count": 221,
     "metadata": {},
     "output_type": "execute_result"
    }
   ],
   "source": [
    "parameters_clf = [{'criterion':['gini','entropy', 'log_loss'],'max_depth':[4,5,7,8,9,10,11]}]\n",
    "\n",
    "grid_search_clf = GridSearchCV(estimator = clf,  \n",
    "                           param_grid = parameters_clf,\n",
    "                           scoring = 'accuracy',\n",
    "                           cv = 8)\n",
    "\n",
    "grid_search_clf.fit(X_train, y_train)"
   ]
  },
  {
   "cell_type": "markdown",
   "metadata": {},
   "source": [
    "### Examine the best model"
   ]
  },
  {
   "cell_type": "code",
   "execution_count": 222,
   "metadata": {},
   "outputs": [
    {
     "name": "stdout",
     "output_type": "stream",
     "text": [
      "GridSearch CV best score : 0.5832\n",
      "\n",
      "\n",
      "Parameters that give the best results : \n",
      "\n",
      " {'criterion': 'entropy', 'max_depth': 4}\n",
      "\n",
      "\n",
      "Estimator that was chosen by the search : \n",
      "\n",
      " DecisionTreeClassifier(criterion='entropy', max_depth=4, random_state=0)\n"
     ]
    }
   ],
   "source": [
    "# best score achieved during the GridSearchCV\n",
    "print('GridSearch CV best score : {:.4f}\\n\\n'.format(grid_search_clf.best_score_))\n",
    "\n",
    "# print parameters that give the best results\n",
    "print('Parameters that give the best results :','\\n\\n', (grid_search_clf.best_params_))\n",
    "\n",
    "# print estimator that was chosen by the GridSearch\n",
    "print('\\n\\nEstimator that was chosen by the search :','\\n\\n', (grid_search_clf.best_estimator_))"
   ]
  },
  {
   "cell_type": "code",
   "execution_count": null,
   "metadata": {},
   "outputs": [],
   "source": []
  },
  {
   "cell_type": "code",
   "execution_count": null,
   "metadata": {},
   "outputs": [],
   "source": []
  },
  {
   "cell_type": "code",
   "execution_count": null,
   "metadata": {},
   "outputs": [],
   "source": []
  },
  {
   "cell_type": "markdown",
   "metadata": {},
   "source": [
    "# SECTION 21. Results and conclusion"
   ]
  },
  {
   "cell_type": "markdown",
   "metadata": {},
   "source": [
    "### The logistic regression model accuracy score is 0.6020. So, the model does a very good job in predicting churn or no churn.\n",
    "\n",
    "### Small number of observations predict that there will be churn. Majority of observations predict that there will be no churn.\n",
    "\n",
    "### The model shows no signs of overfitting. Increasing the value of C results in higher test set accuracy and also a slightly increased training set accuracy. So, we can conclude that a more complex model should perform better. Increasing the threshold level results in increased accuracy.\n",
    "\n",
    "### ROC AUC of our model approaches towards 1. So, we can conclude that our classifier does a good job in predicting whether it will be churn or not.\n",
    "\n",
    "### Our original model accuracy score is 0.6020 whereas accuracy score after RFECV is 0.5970. So, we can obtain approximately similar accuracy but with reduced set of features.\n",
    "\n",
    "### In the original model, we have FP =   whereas FP1 =  . So, we get approximately same number of false positives. Also, FN =   whereas FN1 =  . So, we get slighly higher false negatives.\n",
    "\n",
    "### Our original model score is found to be 0.6020. The average cross-validation score is 0.5970. So, we can conclude that cross-validation does not result in performance improvement.\n",
    "\n",
    "### Our original model test accuracy is 0.6020 while GridSearch CV accuracy is 0.5970. We can see that GridSearch CV improve the performance for this particular model."
   ]
  }
 ],
 "metadata": {
  "kernelspec": {
   "display_name": "Python 3 (ipykernel)",
   "language": "python",
   "name": "python3"
  },
  "language_info": {
   "codemirror_mode": {
    "name": "ipython",
    "version": 3
   },
   "file_extension": ".py",
   "mimetype": "text/x-python",
   "name": "python",
   "nbconvert_exporter": "python",
   "pygments_lexer": "ipython3",
   "version": "3.10.9"
  }
 },
 "nbformat": 4,
 "nbformat_minor": 4
}
